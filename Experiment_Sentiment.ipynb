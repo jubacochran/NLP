{
  "nbformat": 4,
  "nbformat_minor": 0,
  "metadata": {
    "colab": {
      "provenance": [],
      "machine_shape": "hm",
      "gpuType": "A100",
      "authorship_tag": "ABX9TyOrLQHSezTOy/dTeOPx1sty",
      "include_colab_link": true
    },
    "kernelspec": {
      "name": "python3",
      "display_name": "Python 3"
    },
    "language_info": {
      "name": "python"
    },
    "accelerator": "GPU",
    "widgets": {
      "application/vnd.jupyter.widget-state+json": {
        "11b0b85c2de84b1980c53f70ad0cb62d": {
          "model_module": "@jupyter-widgets/controls",
          "model_name": "HBoxModel",
          "model_module_version": "1.5.0",
          "state": {
            "_dom_classes": [],
            "_model_module": "@jupyter-widgets/controls",
            "_model_module_version": "1.5.0",
            "_model_name": "HBoxModel",
            "_view_count": null,
            "_view_module": "@jupyter-widgets/controls",
            "_view_module_version": "1.5.0",
            "_view_name": "HBoxView",
            "box_style": "",
            "children": [
              "IPY_MODEL_59a0c47c22f14c36b6dfb9ca3dc0a456",
              "IPY_MODEL_c183ff3644904e1ea343666b9bec50fc",
              "IPY_MODEL_ddcc663464d8423ea79808f4f673ad65"
            ],
            "layout": "IPY_MODEL_30d5002444564b769133dc20c069f3bb"
          }
        },
        "59a0c47c22f14c36b6dfb9ca3dc0a456": {
          "model_module": "@jupyter-widgets/controls",
          "model_name": "HTMLModel",
          "model_module_version": "1.5.0",
          "state": {
            "_dom_classes": [],
            "_model_module": "@jupyter-widgets/controls",
            "_model_module_version": "1.5.0",
            "_model_name": "HTMLModel",
            "_view_count": null,
            "_view_module": "@jupyter-widgets/controls",
            "_view_module_version": "1.5.0",
            "_view_name": "HTMLView",
            "description": "",
            "description_tooltip": null,
            "layout": "IPY_MODEL_759a5ec76b724efcb6b9efc3c912dc12",
            "placeholder": "​",
            "style": "IPY_MODEL_fa65b8ef3bbd4b32a7ab0dc3c3be5cbc",
            "value": "Map: 100%"
          }
        },
        "c183ff3644904e1ea343666b9bec50fc": {
          "model_module": "@jupyter-widgets/controls",
          "model_name": "FloatProgressModel",
          "model_module_version": "1.5.0",
          "state": {
            "_dom_classes": [],
            "_model_module": "@jupyter-widgets/controls",
            "_model_module_version": "1.5.0",
            "_model_name": "FloatProgressModel",
            "_view_count": null,
            "_view_module": "@jupyter-widgets/controls",
            "_view_module_version": "1.5.0",
            "_view_name": "ProgressView",
            "bar_style": "success",
            "description": "",
            "description_tooltip": null,
            "layout": "IPY_MODEL_e1059eec0eab4c5498bd641129cc67a0",
            "max": 40000,
            "min": 0,
            "orientation": "horizontal",
            "style": "IPY_MODEL_e993c96a16b743579e07951c2a936e3e",
            "value": 40000
          }
        },
        "ddcc663464d8423ea79808f4f673ad65": {
          "model_module": "@jupyter-widgets/controls",
          "model_name": "HTMLModel",
          "model_module_version": "1.5.0",
          "state": {
            "_dom_classes": [],
            "_model_module": "@jupyter-widgets/controls",
            "_model_module_version": "1.5.0",
            "_model_name": "HTMLModel",
            "_view_count": null,
            "_view_module": "@jupyter-widgets/controls",
            "_view_module_version": "1.5.0",
            "_view_name": "HTMLView",
            "description": "",
            "description_tooltip": null,
            "layout": "IPY_MODEL_301cdc35cce54f4288217afe033ad63e",
            "placeholder": "​",
            "style": "IPY_MODEL_43e5d654c9a8400e8d15e271205f165f",
            "value": " 40000/40000 [00:10&lt;00:00, 3925.63 examples/s]"
          }
        },
        "30d5002444564b769133dc20c069f3bb": {
          "model_module": "@jupyter-widgets/base",
          "model_name": "LayoutModel",
          "model_module_version": "1.2.0",
          "state": {
            "_model_module": "@jupyter-widgets/base",
            "_model_module_version": "1.2.0",
            "_model_name": "LayoutModel",
            "_view_count": null,
            "_view_module": "@jupyter-widgets/base",
            "_view_module_version": "1.2.0",
            "_view_name": "LayoutView",
            "align_content": null,
            "align_items": null,
            "align_self": null,
            "border": null,
            "bottom": null,
            "display": null,
            "flex": null,
            "flex_flow": null,
            "grid_area": null,
            "grid_auto_columns": null,
            "grid_auto_flow": null,
            "grid_auto_rows": null,
            "grid_column": null,
            "grid_gap": null,
            "grid_row": null,
            "grid_template_areas": null,
            "grid_template_columns": null,
            "grid_template_rows": null,
            "height": null,
            "justify_content": null,
            "justify_items": null,
            "left": null,
            "margin": null,
            "max_height": null,
            "max_width": null,
            "min_height": null,
            "min_width": null,
            "object_fit": null,
            "object_position": null,
            "order": null,
            "overflow": null,
            "overflow_x": null,
            "overflow_y": null,
            "padding": null,
            "right": null,
            "top": null,
            "visibility": null,
            "width": null
          }
        },
        "759a5ec76b724efcb6b9efc3c912dc12": {
          "model_module": "@jupyter-widgets/base",
          "model_name": "LayoutModel",
          "model_module_version": "1.2.0",
          "state": {
            "_model_module": "@jupyter-widgets/base",
            "_model_module_version": "1.2.0",
            "_model_name": "LayoutModel",
            "_view_count": null,
            "_view_module": "@jupyter-widgets/base",
            "_view_module_version": "1.2.0",
            "_view_name": "LayoutView",
            "align_content": null,
            "align_items": null,
            "align_self": null,
            "border": null,
            "bottom": null,
            "display": null,
            "flex": null,
            "flex_flow": null,
            "grid_area": null,
            "grid_auto_columns": null,
            "grid_auto_flow": null,
            "grid_auto_rows": null,
            "grid_column": null,
            "grid_gap": null,
            "grid_row": null,
            "grid_template_areas": null,
            "grid_template_columns": null,
            "grid_template_rows": null,
            "height": null,
            "justify_content": null,
            "justify_items": null,
            "left": null,
            "margin": null,
            "max_height": null,
            "max_width": null,
            "min_height": null,
            "min_width": null,
            "object_fit": null,
            "object_position": null,
            "order": null,
            "overflow": null,
            "overflow_x": null,
            "overflow_y": null,
            "padding": null,
            "right": null,
            "top": null,
            "visibility": null,
            "width": null
          }
        },
        "fa65b8ef3bbd4b32a7ab0dc3c3be5cbc": {
          "model_module": "@jupyter-widgets/controls",
          "model_name": "DescriptionStyleModel",
          "model_module_version": "1.5.0",
          "state": {
            "_model_module": "@jupyter-widgets/controls",
            "_model_module_version": "1.5.0",
            "_model_name": "DescriptionStyleModel",
            "_view_count": null,
            "_view_module": "@jupyter-widgets/base",
            "_view_module_version": "1.2.0",
            "_view_name": "StyleView",
            "description_width": ""
          }
        },
        "e1059eec0eab4c5498bd641129cc67a0": {
          "model_module": "@jupyter-widgets/base",
          "model_name": "LayoutModel",
          "model_module_version": "1.2.0",
          "state": {
            "_model_module": "@jupyter-widgets/base",
            "_model_module_version": "1.2.0",
            "_model_name": "LayoutModel",
            "_view_count": null,
            "_view_module": "@jupyter-widgets/base",
            "_view_module_version": "1.2.0",
            "_view_name": "LayoutView",
            "align_content": null,
            "align_items": null,
            "align_self": null,
            "border": null,
            "bottom": null,
            "display": null,
            "flex": null,
            "flex_flow": null,
            "grid_area": null,
            "grid_auto_columns": null,
            "grid_auto_flow": null,
            "grid_auto_rows": null,
            "grid_column": null,
            "grid_gap": null,
            "grid_row": null,
            "grid_template_areas": null,
            "grid_template_columns": null,
            "grid_template_rows": null,
            "height": null,
            "justify_content": null,
            "justify_items": null,
            "left": null,
            "margin": null,
            "max_height": null,
            "max_width": null,
            "min_height": null,
            "min_width": null,
            "object_fit": null,
            "object_position": null,
            "order": null,
            "overflow": null,
            "overflow_x": null,
            "overflow_y": null,
            "padding": null,
            "right": null,
            "top": null,
            "visibility": null,
            "width": null
          }
        },
        "e993c96a16b743579e07951c2a936e3e": {
          "model_module": "@jupyter-widgets/controls",
          "model_name": "ProgressStyleModel",
          "model_module_version": "1.5.0",
          "state": {
            "_model_module": "@jupyter-widgets/controls",
            "_model_module_version": "1.5.0",
            "_model_name": "ProgressStyleModel",
            "_view_count": null,
            "_view_module": "@jupyter-widgets/base",
            "_view_module_version": "1.2.0",
            "_view_name": "StyleView",
            "bar_color": null,
            "description_width": ""
          }
        },
        "301cdc35cce54f4288217afe033ad63e": {
          "model_module": "@jupyter-widgets/base",
          "model_name": "LayoutModel",
          "model_module_version": "1.2.0",
          "state": {
            "_model_module": "@jupyter-widgets/base",
            "_model_module_version": "1.2.0",
            "_model_name": "LayoutModel",
            "_view_count": null,
            "_view_module": "@jupyter-widgets/base",
            "_view_module_version": "1.2.0",
            "_view_name": "LayoutView",
            "align_content": null,
            "align_items": null,
            "align_self": null,
            "border": null,
            "bottom": null,
            "display": null,
            "flex": null,
            "flex_flow": null,
            "grid_area": null,
            "grid_auto_columns": null,
            "grid_auto_flow": null,
            "grid_auto_rows": null,
            "grid_column": null,
            "grid_gap": null,
            "grid_row": null,
            "grid_template_areas": null,
            "grid_template_columns": null,
            "grid_template_rows": null,
            "height": null,
            "justify_content": null,
            "justify_items": null,
            "left": null,
            "margin": null,
            "max_height": null,
            "max_width": null,
            "min_height": null,
            "min_width": null,
            "object_fit": null,
            "object_position": null,
            "order": null,
            "overflow": null,
            "overflow_x": null,
            "overflow_y": null,
            "padding": null,
            "right": null,
            "top": null,
            "visibility": null,
            "width": null
          }
        },
        "43e5d654c9a8400e8d15e271205f165f": {
          "model_module": "@jupyter-widgets/controls",
          "model_name": "DescriptionStyleModel",
          "model_module_version": "1.5.0",
          "state": {
            "_model_module": "@jupyter-widgets/controls",
            "_model_module_version": "1.5.0",
            "_model_name": "DescriptionStyleModel",
            "_view_count": null,
            "_view_module": "@jupyter-widgets/base",
            "_view_module_version": "1.2.0",
            "_view_name": "StyleView",
            "description_width": ""
          }
        },
        "c5bba1d6756846f389a13bdff1b6b60f": {
          "model_module": "@jupyter-widgets/controls",
          "model_name": "HBoxModel",
          "model_module_version": "1.5.0",
          "state": {
            "_dom_classes": [],
            "_model_module": "@jupyter-widgets/controls",
            "_model_module_version": "1.5.0",
            "_model_name": "HBoxModel",
            "_view_count": null,
            "_view_module": "@jupyter-widgets/controls",
            "_view_module_version": "1.5.0",
            "_view_name": "HBoxView",
            "box_style": "",
            "children": [
              "IPY_MODEL_5226c22f186d4a12b06ca42b41aa3faa",
              "IPY_MODEL_487d96a1af3045b28e35bf1208bbeef0",
              "IPY_MODEL_5735d59bc1a148b3ac5b66413bf7676d"
            ],
            "layout": "IPY_MODEL_b9cf685041384a93b14fc5dfd44e1ef0"
          }
        },
        "5226c22f186d4a12b06ca42b41aa3faa": {
          "model_module": "@jupyter-widgets/controls",
          "model_name": "HTMLModel",
          "model_module_version": "1.5.0",
          "state": {
            "_dom_classes": [],
            "_model_module": "@jupyter-widgets/controls",
            "_model_module_version": "1.5.0",
            "_model_name": "HTMLModel",
            "_view_count": null,
            "_view_module": "@jupyter-widgets/controls",
            "_view_module_version": "1.5.0",
            "_view_name": "HTMLView",
            "description": "",
            "description_tooltip": null,
            "layout": "IPY_MODEL_3ebe806645d24f8a97a3d503455d4fb1",
            "placeholder": "​",
            "style": "IPY_MODEL_0423002f4c134531bc9720ffbd6377f0",
            "value": "Map: 100%"
          }
        },
        "487d96a1af3045b28e35bf1208bbeef0": {
          "model_module": "@jupyter-widgets/controls",
          "model_name": "FloatProgressModel",
          "model_module_version": "1.5.0",
          "state": {
            "_dom_classes": [],
            "_model_module": "@jupyter-widgets/controls",
            "_model_module_version": "1.5.0",
            "_model_name": "FloatProgressModel",
            "_view_count": null,
            "_view_module": "@jupyter-widgets/controls",
            "_view_module_version": "1.5.0",
            "_view_name": "ProgressView",
            "bar_style": "success",
            "description": "",
            "description_tooltip": null,
            "layout": "IPY_MODEL_35925ccf286542bfa7a653ed07f28a41",
            "max": 5000,
            "min": 0,
            "orientation": "horizontal",
            "style": "IPY_MODEL_a81f28faa53848e2bc49ec4a2ded7bd6",
            "value": 5000
          }
        },
        "5735d59bc1a148b3ac5b66413bf7676d": {
          "model_module": "@jupyter-widgets/controls",
          "model_name": "HTMLModel",
          "model_module_version": "1.5.0",
          "state": {
            "_dom_classes": [],
            "_model_module": "@jupyter-widgets/controls",
            "_model_module_version": "1.5.0",
            "_model_name": "HTMLModel",
            "_view_count": null,
            "_view_module": "@jupyter-widgets/controls",
            "_view_module_version": "1.5.0",
            "_view_name": "HTMLView",
            "description": "",
            "description_tooltip": null,
            "layout": "IPY_MODEL_9861d918a4b048ceaa839da3c2672c4e",
            "placeholder": "​",
            "style": "IPY_MODEL_3f177767673743e499d02a292fec2a56",
            "value": " 5000/5000 [00:01&lt;00:00, 4205.80 examples/s]"
          }
        },
        "b9cf685041384a93b14fc5dfd44e1ef0": {
          "model_module": "@jupyter-widgets/base",
          "model_name": "LayoutModel",
          "model_module_version": "1.2.0",
          "state": {
            "_model_module": "@jupyter-widgets/base",
            "_model_module_version": "1.2.0",
            "_model_name": "LayoutModel",
            "_view_count": null,
            "_view_module": "@jupyter-widgets/base",
            "_view_module_version": "1.2.0",
            "_view_name": "LayoutView",
            "align_content": null,
            "align_items": null,
            "align_self": null,
            "border": null,
            "bottom": null,
            "display": null,
            "flex": null,
            "flex_flow": null,
            "grid_area": null,
            "grid_auto_columns": null,
            "grid_auto_flow": null,
            "grid_auto_rows": null,
            "grid_column": null,
            "grid_gap": null,
            "grid_row": null,
            "grid_template_areas": null,
            "grid_template_columns": null,
            "grid_template_rows": null,
            "height": null,
            "justify_content": null,
            "justify_items": null,
            "left": null,
            "margin": null,
            "max_height": null,
            "max_width": null,
            "min_height": null,
            "min_width": null,
            "object_fit": null,
            "object_position": null,
            "order": null,
            "overflow": null,
            "overflow_x": null,
            "overflow_y": null,
            "padding": null,
            "right": null,
            "top": null,
            "visibility": null,
            "width": null
          }
        },
        "3ebe806645d24f8a97a3d503455d4fb1": {
          "model_module": "@jupyter-widgets/base",
          "model_name": "LayoutModel",
          "model_module_version": "1.2.0",
          "state": {
            "_model_module": "@jupyter-widgets/base",
            "_model_module_version": "1.2.0",
            "_model_name": "LayoutModel",
            "_view_count": null,
            "_view_module": "@jupyter-widgets/base",
            "_view_module_version": "1.2.0",
            "_view_name": "LayoutView",
            "align_content": null,
            "align_items": null,
            "align_self": null,
            "border": null,
            "bottom": null,
            "display": null,
            "flex": null,
            "flex_flow": null,
            "grid_area": null,
            "grid_auto_columns": null,
            "grid_auto_flow": null,
            "grid_auto_rows": null,
            "grid_column": null,
            "grid_gap": null,
            "grid_row": null,
            "grid_template_areas": null,
            "grid_template_columns": null,
            "grid_template_rows": null,
            "height": null,
            "justify_content": null,
            "justify_items": null,
            "left": null,
            "margin": null,
            "max_height": null,
            "max_width": null,
            "min_height": null,
            "min_width": null,
            "object_fit": null,
            "object_position": null,
            "order": null,
            "overflow": null,
            "overflow_x": null,
            "overflow_y": null,
            "padding": null,
            "right": null,
            "top": null,
            "visibility": null,
            "width": null
          }
        },
        "0423002f4c134531bc9720ffbd6377f0": {
          "model_module": "@jupyter-widgets/controls",
          "model_name": "DescriptionStyleModel",
          "model_module_version": "1.5.0",
          "state": {
            "_model_module": "@jupyter-widgets/controls",
            "_model_module_version": "1.5.0",
            "_model_name": "DescriptionStyleModel",
            "_view_count": null,
            "_view_module": "@jupyter-widgets/base",
            "_view_module_version": "1.2.0",
            "_view_name": "StyleView",
            "description_width": ""
          }
        },
        "35925ccf286542bfa7a653ed07f28a41": {
          "model_module": "@jupyter-widgets/base",
          "model_name": "LayoutModel",
          "model_module_version": "1.2.0",
          "state": {
            "_model_module": "@jupyter-widgets/base",
            "_model_module_version": "1.2.0",
            "_model_name": "LayoutModel",
            "_view_count": null,
            "_view_module": "@jupyter-widgets/base",
            "_view_module_version": "1.2.0",
            "_view_name": "LayoutView",
            "align_content": null,
            "align_items": null,
            "align_self": null,
            "border": null,
            "bottom": null,
            "display": null,
            "flex": null,
            "flex_flow": null,
            "grid_area": null,
            "grid_auto_columns": null,
            "grid_auto_flow": null,
            "grid_auto_rows": null,
            "grid_column": null,
            "grid_gap": null,
            "grid_row": null,
            "grid_template_areas": null,
            "grid_template_columns": null,
            "grid_template_rows": null,
            "height": null,
            "justify_content": null,
            "justify_items": null,
            "left": null,
            "margin": null,
            "max_height": null,
            "max_width": null,
            "min_height": null,
            "min_width": null,
            "object_fit": null,
            "object_position": null,
            "order": null,
            "overflow": null,
            "overflow_x": null,
            "overflow_y": null,
            "padding": null,
            "right": null,
            "top": null,
            "visibility": null,
            "width": null
          }
        },
        "a81f28faa53848e2bc49ec4a2ded7bd6": {
          "model_module": "@jupyter-widgets/controls",
          "model_name": "ProgressStyleModel",
          "model_module_version": "1.5.0",
          "state": {
            "_model_module": "@jupyter-widgets/controls",
            "_model_module_version": "1.5.0",
            "_model_name": "ProgressStyleModel",
            "_view_count": null,
            "_view_module": "@jupyter-widgets/base",
            "_view_module_version": "1.2.0",
            "_view_name": "StyleView",
            "bar_color": null,
            "description_width": ""
          }
        },
        "9861d918a4b048ceaa839da3c2672c4e": {
          "model_module": "@jupyter-widgets/base",
          "model_name": "LayoutModel",
          "model_module_version": "1.2.0",
          "state": {
            "_model_module": "@jupyter-widgets/base",
            "_model_module_version": "1.2.0",
            "_model_name": "LayoutModel",
            "_view_count": null,
            "_view_module": "@jupyter-widgets/base",
            "_view_module_version": "1.2.0",
            "_view_name": "LayoutView",
            "align_content": null,
            "align_items": null,
            "align_self": null,
            "border": null,
            "bottom": null,
            "display": null,
            "flex": null,
            "flex_flow": null,
            "grid_area": null,
            "grid_auto_columns": null,
            "grid_auto_flow": null,
            "grid_auto_rows": null,
            "grid_column": null,
            "grid_gap": null,
            "grid_row": null,
            "grid_template_areas": null,
            "grid_template_columns": null,
            "grid_template_rows": null,
            "height": null,
            "justify_content": null,
            "justify_items": null,
            "left": null,
            "margin": null,
            "max_height": null,
            "max_width": null,
            "min_height": null,
            "min_width": null,
            "object_fit": null,
            "object_position": null,
            "order": null,
            "overflow": null,
            "overflow_x": null,
            "overflow_y": null,
            "padding": null,
            "right": null,
            "top": null,
            "visibility": null,
            "width": null
          }
        },
        "3f177767673743e499d02a292fec2a56": {
          "model_module": "@jupyter-widgets/controls",
          "model_name": "DescriptionStyleModel",
          "model_module_version": "1.5.0",
          "state": {
            "_model_module": "@jupyter-widgets/controls",
            "_model_module_version": "1.5.0",
            "_model_name": "DescriptionStyleModel",
            "_view_count": null,
            "_view_module": "@jupyter-widgets/base",
            "_view_module_version": "1.2.0",
            "_view_name": "StyleView",
            "description_width": ""
          }
        },
        "0482367369b94f28b595b3317b736a4e": {
          "model_module": "@jupyter-widgets/controls",
          "model_name": "HBoxModel",
          "model_module_version": "1.5.0",
          "state": {
            "_dom_classes": [],
            "_model_module": "@jupyter-widgets/controls",
            "_model_module_version": "1.5.0",
            "_model_name": "HBoxModel",
            "_view_count": null,
            "_view_module": "@jupyter-widgets/controls",
            "_view_module_version": "1.5.0",
            "_view_name": "HBoxView",
            "box_style": "",
            "children": [
              "IPY_MODEL_881869c12e2e472fab2dfe100f16003d",
              "IPY_MODEL_ea7cae857b58466f891bde78dd3c0356",
              "IPY_MODEL_8428739bf0a245869f9c925b790aa264"
            ],
            "layout": "IPY_MODEL_66889a7460a443f0b479ae4d70d25117"
          }
        },
        "881869c12e2e472fab2dfe100f16003d": {
          "model_module": "@jupyter-widgets/controls",
          "model_name": "HTMLModel",
          "model_module_version": "1.5.0",
          "state": {
            "_dom_classes": [],
            "_model_module": "@jupyter-widgets/controls",
            "_model_module_version": "1.5.0",
            "_model_name": "HTMLModel",
            "_view_count": null,
            "_view_module": "@jupyter-widgets/controls",
            "_view_module_version": "1.5.0",
            "_view_name": "HTMLView",
            "description": "",
            "description_tooltip": null,
            "layout": "IPY_MODEL_32cc4a8448ec4978a74eb3e901c57157",
            "placeholder": "​",
            "style": "IPY_MODEL_ea6c8a1d1ba9459ebf2dfb896c9e48f9",
            "value": "Map: 100%"
          }
        },
        "ea7cae857b58466f891bde78dd3c0356": {
          "model_module": "@jupyter-widgets/controls",
          "model_name": "FloatProgressModel",
          "model_module_version": "1.5.0",
          "state": {
            "_dom_classes": [],
            "_model_module": "@jupyter-widgets/controls",
            "_model_module_version": "1.5.0",
            "_model_name": "FloatProgressModel",
            "_view_count": null,
            "_view_module": "@jupyter-widgets/controls",
            "_view_module_version": "1.5.0",
            "_view_name": "ProgressView",
            "bar_style": "success",
            "description": "",
            "description_tooltip": null,
            "layout": "IPY_MODEL_e008674fc1b64a55b03d0bdcfe3347ed",
            "max": 5000,
            "min": 0,
            "orientation": "horizontal",
            "style": "IPY_MODEL_ddbacf025c1b48af8d8fceb1e15a0e2c",
            "value": 5000
          }
        },
        "8428739bf0a245869f9c925b790aa264": {
          "model_module": "@jupyter-widgets/controls",
          "model_name": "HTMLModel",
          "model_module_version": "1.5.0",
          "state": {
            "_dom_classes": [],
            "_model_module": "@jupyter-widgets/controls",
            "_model_module_version": "1.5.0",
            "_model_name": "HTMLModel",
            "_view_count": null,
            "_view_module": "@jupyter-widgets/controls",
            "_view_module_version": "1.5.0",
            "_view_name": "HTMLView",
            "description": "",
            "description_tooltip": null,
            "layout": "IPY_MODEL_8e5e242add0749d580d59abfb968f87e",
            "placeholder": "​",
            "style": "IPY_MODEL_078cbd5db1cd46d9b2a2c51993c1f4ad",
            "value": " 5000/5000 [00:01&lt;00:00, 4008.11 examples/s]"
          }
        },
        "66889a7460a443f0b479ae4d70d25117": {
          "model_module": "@jupyter-widgets/base",
          "model_name": "LayoutModel",
          "model_module_version": "1.2.0",
          "state": {
            "_model_module": "@jupyter-widgets/base",
            "_model_module_version": "1.2.0",
            "_model_name": "LayoutModel",
            "_view_count": null,
            "_view_module": "@jupyter-widgets/base",
            "_view_module_version": "1.2.0",
            "_view_name": "LayoutView",
            "align_content": null,
            "align_items": null,
            "align_self": null,
            "border": null,
            "bottom": null,
            "display": null,
            "flex": null,
            "flex_flow": null,
            "grid_area": null,
            "grid_auto_columns": null,
            "grid_auto_flow": null,
            "grid_auto_rows": null,
            "grid_column": null,
            "grid_gap": null,
            "grid_row": null,
            "grid_template_areas": null,
            "grid_template_columns": null,
            "grid_template_rows": null,
            "height": null,
            "justify_content": null,
            "justify_items": null,
            "left": null,
            "margin": null,
            "max_height": null,
            "max_width": null,
            "min_height": null,
            "min_width": null,
            "object_fit": null,
            "object_position": null,
            "order": null,
            "overflow": null,
            "overflow_x": null,
            "overflow_y": null,
            "padding": null,
            "right": null,
            "top": null,
            "visibility": null,
            "width": null
          }
        },
        "32cc4a8448ec4978a74eb3e901c57157": {
          "model_module": "@jupyter-widgets/base",
          "model_name": "LayoutModel",
          "model_module_version": "1.2.0",
          "state": {
            "_model_module": "@jupyter-widgets/base",
            "_model_module_version": "1.2.0",
            "_model_name": "LayoutModel",
            "_view_count": null,
            "_view_module": "@jupyter-widgets/base",
            "_view_module_version": "1.2.0",
            "_view_name": "LayoutView",
            "align_content": null,
            "align_items": null,
            "align_self": null,
            "border": null,
            "bottom": null,
            "display": null,
            "flex": null,
            "flex_flow": null,
            "grid_area": null,
            "grid_auto_columns": null,
            "grid_auto_flow": null,
            "grid_auto_rows": null,
            "grid_column": null,
            "grid_gap": null,
            "grid_row": null,
            "grid_template_areas": null,
            "grid_template_columns": null,
            "grid_template_rows": null,
            "height": null,
            "justify_content": null,
            "justify_items": null,
            "left": null,
            "margin": null,
            "max_height": null,
            "max_width": null,
            "min_height": null,
            "min_width": null,
            "object_fit": null,
            "object_position": null,
            "order": null,
            "overflow": null,
            "overflow_x": null,
            "overflow_y": null,
            "padding": null,
            "right": null,
            "top": null,
            "visibility": null,
            "width": null
          }
        },
        "ea6c8a1d1ba9459ebf2dfb896c9e48f9": {
          "model_module": "@jupyter-widgets/controls",
          "model_name": "DescriptionStyleModel",
          "model_module_version": "1.5.0",
          "state": {
            "_model_module": "@jupyter-widgets/controls",
            "_model_module_version": "1.5.0",
            "_model_name": "DescriptionStyleModel",
            "_view_count": null,
            "_view_module": "@jupyter-widgets/base",
            "_view_module_version": "1.2.0",
            "_view_name": "StyleView",
            "description_width": ""
          }
        },
        "e008674fc1b64a55b03d0bdcfe3347ed": {
          "model_module": "@jupyter-widgets/base",
          "model_name": "LayoutModel",
          "model_module_version": "1.2.0",
          "state": {
            "_model_module": "@jupyter-widgets/base",
            "_model_module_version": "1.2.0",
            "_model_name": "LayoutModel",
            "_view_count": null,
            "_view_module": "@jupyter-widgets/base",
            "_view_module_version": "1.2.0",
            "_view_name": "LayoutView",
            "align_content": null,
            "align_items": null,
            "align_self": null,
            "border": null,
            "bottom": null,
            "display": null,
            "flex": null,
            "flex_flow": null,
            "grid_area": null,
            "grid_auto_columns": null,
            "grid_auto_flow": null,
            "grid_auto_rows": null,
            "grid_column": null,
            "grid_gap": null,
            "grid_row": null,
            "grid_template_areas": null,
            "grid_template_columns": null,
            "grid_template_rows": null,
            "height": null,
            "justify_content": null,
            "justify_items": null,
            "left": null,
            "margin": null,
            "max_height": null,
            "max_width": null,
            "min_height": null,
            "min_width": null,
            "object_fit": null,
            "object_position": null,
            "order": null,
            "overflow": null,
            "overflow_x": null,
            "overflow_y": null,
            "padding": null,
            "right": null,
            "top": null,
            "visibility": null,
            "width": null
          }
        },
        "ddbacf025c1b48af8d8fceb1e15a0e2c": {
          "model_module": "@jupyter-widgets/controls",
          "model_name": "ProgressStyleModel",
          "model_module_version": "1.5.0",
          "state": {
            "_model_module": "@jupyter-widgets/controls",
            "_model_module_version": "1.5.0",
            "_model_name": "ProgressStyleModel",
            "_view_count": null,
            "_view_module": "@jupyter-widgets/base",
            "_view_module_version": "1.2.0",
            "_view_name": "StyleView",
            "bar_color": null,
            "description_width": ""
          }
        },
        "8e5e242add0749d580d59abfb968f87e": {
          "model_module": "@jupyter-widgets/base",
          "model_name": "LayoutModel",
          "model_module_version": "1.2.0",
          "state": {
            "_model_module": "@jupyter-widgets/base",
            "_model_module_version": "1.2.0",
            "_model_name": "LayoutModel",
            "_view_count": null,
            "_view_module": "@jupyter-widgets/base",
            "_view_module_version": "1.2.0",
            "_view_name": "LayoutView",
            "align_content": null,
            "align_items": null,
            "align_self": null,
            "border": null,
            "bottom": null,
            "display": null,
            "flex": null,
            "flex_flow": null,
            "grid_area": null,
            "grid_auto_columns": null,
            "grid_auto_flow": null,
            "grid_auto_rows": null,
            "grid_column": null,
            "grid_gap": null,
            "grid_row": null,
            "grid_template_areas": null,
            "grid_template_columns": null,
            "grid_template_rows": null,
            "height": null,
            "justify_content": null,
            "justify_items": null,
            "left": null,
            "margin": null,
            "max_height": null,
            "max_width": null,
            "min_height": null,
            "min_width": null,
            "object_fit": null,
            "object_position": null,
            "order": null,
            "overflow": null,
            "overflow_x": null,
            "overflow_y": null,
            "padding": null,
            "right": null,
            "top": null,
            "visibility": null,
            "width": null
          }
        },
        "078cbd5db1cd46d9b2a2c51993c1f4ad": {
          "model_module": "@jupyter-widgets/controls",
          "model_name": "DescriptionStyleModel",
          "model_module_version": "1.5.0",
          "state": {
            "_model_module": "@jupyter-widgets/controls",
            "_model_module_version": "1.5.0",
            "_model_name": "DescriptionStyleModel",
            "_view_count": null,
            "_view_module": "@jupyter-widgets/base",
            "_view_module_version": "1.2.0",
            "_view_name": "StyleView",
            "description_width": ""
          }
        },
        "5a8d4ccfec7643bfb98088e3970847bb": {
          "model_module": "@jupyter-widgets/controls",
          "model_name": "HBoxModel",
          "model_module_version": "1.5.0",
          "state": {
            "_dom_classes": [],
            "_model_module": "@jupyter-widgets/controls",
            "_model_module_version": "1.5.0",
            "_model_name": "HBoxModel",
            "_view_count": null,
            "_view_module": "@jupyter-widgets/controls",
            "_view_module_version": "1.5.0",
            "_view_name": "HBoxView",
            "box_style": "",
            "children": [
              "IPY_MODEL_dfe55df682734a3a8022c0a7a5a3581c",
              "IPY_MODEL_d5fa458347ca442681de3c5aa9cc5d1b",
              "IPY_MODEL_17f4313925ba49e38b0e8bdcad8f76f5"
            ],
            "layout": "IPY_MODEL_ac73b598a11543c6b99973e4caeb0a46"
          }
        },
        "dfe55df682734a3a8022c0a7a5a3581c": {
          "model_module": "@jupyter-widgets/controls",
          "model_name": "HTMLModel",
          "model_module_version": "1.5.0",
          "state": {
            "_dom_classes": [],
            "_model_module": "@jupyter-widgets/controls",
            "_model_module_version": "1.5.0",
            "_model_name": "HTMLModel",
            "_view_count": null,
            "_view_module": "@jupyter-widgets/controls",
            "_view_module_version": "1.5.0",
            "_view_name": "HTMLView",
            "description": "",
            "description_tooltip": null,
            "layout": "IPY_MODEL_539da4c3a4a34c59b52a97d265a603ad",
            "placeholder": "​",
            "style": "IPY_MODEL_f5dbc64f410e41919093c7bbc674ea57",
            "value": "Map: 100%"
          }
        },
        "d5fa458347ca442681de3c5aa9cc5d1b": {
          "model_module": "@jupyter-widgets/controls",
          "model_name": "FloatProgressModel",
          "model_module_version": "1.5.0",
          "state": {
            "_dom_classes": [],
            "_model_module": "@jupyter-widgets/controls",
            "_model_module_version": "1.5.0",
            "_model_name": "FloatProgressModel",
            "_view_count": null,
            "_view_module": "@jupyter-widgets/controls",
            "_view_module_version": "1.5.0",
            "_view_name": "ProgressView",
            "bar_style": "success",
            "description": "",
            "description_tooltip": null,
            "layout": "IPY_MODEL_091293ecaee4459dbc932910f8c31bed",
            "max": 40000,
            "min": 0,
            "orientation": "horizontal",
            "style": "IPY_MODEL_a02ac9ca6bf14b74a1f2fd9f9d71ee3f",
            "value": 40000
          }
        },
        "17f4313925ba49e38b0e8bdcad8f76f5": {
          "model_module": "@jupyter-widgets/controls",
          "model_name": "HTMLModel",
          "model_module_version": "1.5.0",
          "state": {
            "_dom_classes": [],
            "_model_module": "@jupyter-widgets/controls",
            "_model_module_version": "1.5.0",
            "_model_name": "HTMLModel",
            "_view_count": null,
            "_view_module": "@jupyter-widgets/controls",
            "_view_module_version": "1.5.0",
            "_view_name": "HTMLView",
            "description": "",
            "description_tooltip": null,
            "layout": "IPY_MODEL_27b9eeef1ee242e39e3aa3b3b8a6a3c9",
            "placeholder": "​",
            "style": "IPY_MODEL_6e2ff05717ef41db98a8b960955eb246",
            "value": " 40000/40000 [00:12&lt;00:00, 3189.12 examples/s]"
          }
        },
        "ac73b598a11543c6b99973e4caeb0a46": {
          "model_module": "@jupyter-widgets/base",
          "model_name": "LayoutModel",
          "model_module_version": "1.2.0",
          "state": {
            "_model_module": "@jupyter-widgets/base",
            "_model_module_version": "1.2.0",
            "_model_name": "LayoutModel",
            "_view_count": null,
            "_view_module": "@jupyter-widgets/base",
            "_view_module_version": "1.2.0",
            "_view_name": "LayoutView",
            "align_content": null,
            "align_items": null,
            "align_self": null,
            "border": null,
            "bottom": null,
            "display": null,
            "flex": null,
            "flex_flow": null,
            "grid_area": null,
            "grid_auto_columns": null,
            "grid_auto_flow": null,
            "grid_auto_rows": null,
            "grid_column": null,
            "grid_gap": null,
            "grid_row": null,
            "grid_template_areas": null,
            "grid_template_columns": null,
            "grid_template_rows": null,
            "height": null,
            "justify_content": null,
            "justify_items": null,
            "left": null,
            "margin": null,
            "max_height": null,
            "max_width": null,
            "min_height": null,
            "min_width": null,
            "object_fit": null,
            "object_position": null,
            "order": null,
            "overflow": null,
            "overflow_x": null,
            "overflow_y": null,
            "padding": null,
            "right": null,
            "top": null,
            "visibility": null,
            "width": null
          }
        },
        "539da4c3a4a34c59b52a97d265a603ad": {
          "model_module": "@jupyter-widgets/base",
          "model_name": "LayoutModel",
          "model_module_version": "1.2.0",
          "state": {
            "_model_module": "@jupyter-widgets/base",
            "_model_module_version": "1.2.0",
            "_model_name": "LayoutModel",
            "_view_count": null,
            "_view_module": "@jupyter-widgets/base",
            "_view_module_version": "1.2.0",
            "_view_name": "LayoutView",
            "align_content": null,
            "align_items": null,
            "align_self": null,
            "border": null,
            "bottom": null,
            "display": null,
            "flex": null,
            "flex_flow": null,
            "grid_area": null,
            "grid_auto_columns": null,
            "grid_auto_flow": null,
            "grid_auto_rows": null,
            "grid_column": null,
            "grid_gap": null,
            "grid_row": null,
            "grid_template_areas": null,
            "grid_template_columns": null,
            "grid_template_rows": null,
            "height": null,
            "justify_content": null,
            "justify_items": null,
            "left": null,
            "margin": null,
            "max_height": null,
            "max_width": null,
            "min_height": null,
            "min_width": null,
            "object_fit": null,
            "object_position": null,
            "order": null,
            "overflow": null,
            "overflow_x": null,
            "overflow_y": null,
            "padding": null,
            "right": null,
            "top": null,
            "visibility": null,
            "width": null
          }
        },
        "f5dbc64f410e41919093c7bbc674ea57": {
          "model_module": "@jupyter-widgets/controls",
          "model_name": "DescriptionStyleModel",
          "model_module_version": "1.5.0",
          "state": {
            "_model_module": "@jupyter-widgets/controls",
            "_model_module_version": "1.5.0",
            "_model_name": "DescriptionStyleModel",
            "_view_count": null,
            "_view_module": "@jupyter-widgets/base",
            "_view_module_version": "1.2.0",
            "_view_name": "StyleView",
            "description_width": ""
          }
        },
        "091293ecaee4459dbc932910f8c31bed": {
          "model_module": "@jupyter-widgets/base",
          "model_name": "LayoutModel",
          "model_module_version": "1.2.0",
          "state": {
            "_model_module": "@jupyter-widgets/base",
            "_model_module_version": "1.2.0",
            "_model_name": "LayoutModel",
            "_view_count": null,
            "_view_module": "@jupyter-widgets/base",
            "_view_module_version": "1.2.0",
            "_view_name": "LayoutView",
            "align_content": null,
            "align_items": null,
            "align_self": null,
            "border": null,
            "bottom": null,
            "display": null,
            "flex": null,
            "flex_flow": null,
            "grid_area": null,
            "grid_auto_columns": null,
            "grid_auto_flow": null,
            "grid_auto_rows": null,
            "grid_column": null,
            "grid_gap": null,
            "grid_row": null,
            "grid_template_areas": null,
            "grid_template_columns": null,
            "grid_template_rows": null,
            "height": null,
            "justify_content": null,
            "justify_items": null,
            "left": null,
            "margin": null,
            "max_height": null,
            "max_width": null,
            "min_height": null,
            "min_width": null,
            "object_fit": null,
            "object_position": null,
            "order": null,
            "overflow": null,
            "overflow_x": null,
            "overflow_y": null,
            "padding": null,
            "right": null,
            "top": null,
            "visibility": null,
            "width": null
          }
        },
        "a02ac9ca6bf14b74a1f2fd9f9d71ee3f": {
          "model_module": "@jupyter-widgets/controls",
          "model_name": "ProgressStyleModel",
          "model_module_version": "1.5.0",
          "state": {
            "_model_module": "@jupyter-widgets/controls",
            "_model_module_version": "1.5.0",
            "_model_name": "ProgressStyleModel",
            "_view_count": null,
            "_view_module": "@jupyter-widgets/base",
            "_view_module_version": "1.2.0",
            "_view_name": "StyleView",
            "bar_color": null,
            "description_width": ""
          }
        },
        "27b9eeef1ee242e39e3aa3b3b8a6a3c9": {
          "model_module": "@jupyter-widgets/base",
          "model_name": "LayoutModel",
          "model_module_version": "1.2.0",
          "state": {
            "_model_module": "@jupyter-widgets/base",
            "_model_module_version": "1.2.0",
            "_model_name": "LayoutModel",
            "_view_count": null,
            "_view_module": "@jupyter-widgets/base",
            "_view_module_version": "1.2.0",
            "_view_name": "LayoutView",
            "align_content": null,
            "align_items": null,
            "align_self": null,
            "border": null,
            "bottom": null,
            "display": null,
            "flex": null,
            "flex_flow": null,
            "grid_area": null,
            "grid_auto_columns": null,
            "grid_auto_flow": null,
            "grid_auto_rows": null,
            "grid_column": null,
            "grid_gap": null,
            "grid_row": null,
            "grid_template_areas": null,
            "grid_template_columns": null,
            "grid_template_rows": null,
            "height": null,
            "justify_content": null,
            "justify_items": null,
            "left": null,
            "margin": null,
            "max_height": null,
            "max_width": null,
            "min_height": null,
            "min_width": null,
            "object_fit": null,
            "object_position": null,
            "order": null,
            "overflow": null,
            "overflow_x": null,
            "overflow_y": null,
            "padding": null,
            "right": null,
            "top": null,
            "visibility": null,
            "width": null
          }
        },
        "6e2ff05717ef41db98a8b960955eb246": {
          "model_module": "@jupyter-widgets/controls",
          "model_name": "DescriptionStyleModel",
          "model_module_version": "1.5.0",
          "state": {
            "_model_module": "@jupyter-widgets/controls",
            "_model_module_version": "1.5.0",
            "_model_name": "DescriptionStyleModel",
            "_view_count": null,
            "_view_module": "@jupyter-widgets/base",
            "_view_module_version": "1.2.0",
            "_view_name": "StyleView",
            "description_width": ""
          }
        },
        "5d3ccbf7a1ac402ebfe67612278b7a57": {
          "model_module": "@jupyter-widgets/controls",
          "model_name": "HBoxModel",
          "model_module_version": "1.5.0",
          "state": {
            "_dom_classes": [],
            "_model_module": "@jupyter-widgets/controls",
            "_model_module_version": "1.5.0",
            "_model_name": "HBoxModel",
            "_view_count": null,
            "_view_module": "@jupyter-widgets/controls",
            "_view_module_version": "1.5.0",
            "_view_name": "HBoxView",
            "box_style": "",
            "children": [
              "IPY_MODEL_ba7ae7a341f142d7b73d1d58d80126c9",
              "IPY_MODEL_ef21671a0d374382aec92f094e999b8d",
              "IPY_MODEL_a9e9040caf0b4510b0f05a53dd7fadec"
            ],
            "layout": "IPY_MODEL_0bb84c4a2a174b00b5c7ea5b4c6866a2"
          }
        },
        "ba7ae7a341f142d7b73d1d58d80126c9": {
          "model_module": "@jupyter-widgets/controls",
          "model_name": "HTMLModel",
          "model_module_version": "1.5.0",
          "state": {
            "_dom_classes": [],
            "_model_module": "@jupyter-widgets/controls",
            "_model_module_version": "1.5.0",
            "_model_name": "HTMLModel",
            "_view_count": null,
            "_view_module": "@jupyter-widgets/controls",
            "_view_module_version": "1.5.0",
            "_view_name": "HTMLView",
            "description": "",
            "description_tooltip": null,
            "layout": "IPY_MODEL_7a1ccceebf5543618daacfeb0fc57686",
            "placeholder": "​",
            "style": "IPY_MODEL_14b0e8cc365347c7a2356fec43909f7d",
            "value": "Map: 100%"
          }
        },
        "ef21671a0d374382aec92f094e999b8d": {
          "model_module": "@jupyter-widgets/controls",
          "model_name": "FloatProgressModel",
          "model_module_version": "1.5.0",
          "state": {
            "_dom_classes": [],
            "_model_module": "@jupyter-widgets/controls",
            "_model_module_version": "1.5.0",
            "_model_name": "FloatProgressModel",
            "_view_count": null,
            "_view_module": "@jupyter-widgets/controls",
            "_view_module_version": "1.5.0",
            "_view_name": "ProgressView",
            "bar_style": "success",
            "description": "",
            "description_tooltip": null,
            "layout": "IPY_MODEL_586a27ad63064628ae339a9be7e79da4",
            "max": 5000,
            "min": 0,
            "orientation": "horizontal",
            "style": "IPY_MODEL_e7da88bd58e54ff2a4929463827b54a5",
            "value": 5000
          }
        },
        "a9e9040caf0b4510b0f05a53dd7fadec": {
          "model_module": "@jupyter-widgets/controls",
          "model_name": "HTMLModel",
          "model_module_version": "1.5.0",
          "state": {
            "_dom_classes": [],
            "_model_module": "@jupyter-widgets/controls",
            "_model_module_version": "1.5.0",
            "_model_name": "HTMLModel",
            "_view_count": null,
            "_view_module": "@jupyter-widgets/controls",
            "_view_module_version": "1.5.0",
            "_view_name": "HTMLView",
            "description": "",
            "description_tooltip": null,
            "layout": "IPY_MODEL_e28aa2ad588c42b19f5a6d60316d561a",
            "placeholder": "​",
            "style": "IPY_MODEL_8ed0e56758b64ce2898279c86f5b4827",
            "value": " 5000/5000 [00:01&lt;00:00, 3161.51 examples/s]"
          }
        },
        "0bb84c4a2a174b00b5c7ea5b4c6866a2": {
          "model_module": "@jupyter-widgets/base",
          "model_name": "LayoutModel",
          "model_module_version": "1.2.0",
          "state": {
            "_model_module": "@jupyter-widgets/base",
            "_model_module_version": "1.2.0",
            "_model_name": "LayoutModel",
            "_view_count": null,
            "_view_module": "@jupyter-widgets/base",
            "_view_module_version": "1.2.0",
            "_view_name": "LayoutView",
            "align_content": null,
            "align_items": null,
            "align_self": null,
            "border": null,
            "bottom": null,
            "display": null,
            "flex": null,
            "flex_flow": null,
            "grid_area": null,
            "grid_auto_columns": null,
            "grid_auto_flow": null,
            "grid_auto_rows": null,
            "grid_column": null,
            "grid_gap": null,
            "grid_row": null,
            "grid_template_areas": null,
            "grid_template_columns": null,
            "grid_template_rows": null,
            "height": null,
            "justify_content": null,
            "justify_items": null,
            "left": null,
            "margin": null,
            "max_height": null,
            "max_width": null,
            "min_height": null,
            "min_width": null,
            "object_fit": null,
            "object_position": null,
            "order": null,
            "overflow": null,
            "overflow_x": null,
            "overflow_y": null,
            "padding": null,
            "right": null,
            "top": null,
            "visibility": null,
            "width": null
          }
        },
        "7a1ccceebf5543618daacfeb0fc57686": {
          "model_module": "@jupyter-widgets/base",
          "model_name": "LayoutModel",
          "model_module_version": "1.2.0",
          "state": {
            "_model_module": "@jupyter-widgets/base",
            "_model_module_version": "1.2.0",
            "_model_name": "LayoutModel",
            "_view_count": null,
            "_view_module": "@jupyter-widgets/base",
            "_view_module_version": "1.2.0",
            "_view_name": "LayoutView",
            "align_content": null,
            "align_items": null,
            "align_self": null,
            "border": null,
            "bottom": null,
            "display": null,
            "flex": null,
            "flex_flow": null,
            "grid_area": null,
            "grid_auto_columns": null,
            "grid_auto_flow": null,
            "grid_auto_rows": null,
            "grid_column": null,
            "grid_gap": null,
            "grid_row": null,
            "grid_template_areas": null,
            "grid_template_columns": null,
            "grid_template_rows": null,
            "height": null,
            "justify_content": null,
            "justify_items": null,
            "left": null,
            "margin": null,
            "max_height": null,
            "max_width": null,
            "min_height": null,
            "min_width": null,
            "object_fit": null,
            "object_position": null,
            "order": null,
            "overflow": null,
            "overflow_x": null,
            "overflow_y": null,
            "padding": null,
            "right": null,
            "top": null,
            "visibility": null,
            "width": null
          }
        },
        "14b0e8cc365347c7a2356fec43909f7d": {
          "model_module": "@jupyter-widgets/controls",
          "model_name": "DescriptionStyleModel",
          "model_module_version": "1.5.0",
          "state": {
            "_model_module": "@jupyter-widgets/controls",
            "_model_module_version": "1.5.0",
            "_model_name": "DescriptionStyleModel",
            "_view_count": null,
            "_view_module": "@jupyter-widgets/base",
            "_view_module_version": "1.2.0",
            "_view_name": "StyleView",
            "description_width": ""
          }
        },
        "586a27ad63064628ae339a9be7e79da4": {
          "model_module": "@jupyter-widgets/base",
          "model_name": "LayoutModel",
          "model_module_version": "1.2.0",
          "state": {
            "_model_module": "@jupyter-widgets/base",
            "_model_module_version": "1.2.0",
            "_model_name": "LayoutModel",
            "_view_count": null,
            "_view_module": "@jupyter-widgets/base",
            "_view_module_version": "1.2.0",
            "_view_name": "LayoutView",
            "align_content": null,
            "align_items": null,
            "align_self": null,
            "border": null,
            "bottom": null,
            "display": null,
            "flex": null,
            "flex_flow": null,
            "grid_area": null,
            "grid_auto_columns": null,
            "grid_auto_flow": null,
            "grid_auto_rows": null,
            "grid_column": null,
            "grid_gap": null,
            "grid_row": null,
            "grid_template_areas": null,
            "grid_template_columns": null,
            "grid_template_rows": null,
            "height": null,
            "justify_content": null,
            "justify_items": null,
            "left": null,
            "margin": null,
            "max_height": null,
            "max_width": null,
            "min_height": null,
            "min_width": null,
            "object_fit": null,
            "object_position": null,
            "order": null,
            "overflow": null,
            "overflow_x": null,
            "overflow_y": null,
            "padding": null,
            "right": null,
            "top": null,
            "visibility": null,
            "width": null
          }
        },
        "e7da88bd58e54ff2a4929463827b54a5": {
          "model_module": "@jupyter-widgets/controls",
          "model_name": "ProgressStyleModel",
          "model_module_version": "1.5.0",
          "state": {
            "_model_module": "@jupyter-widgets/controls",
            "_model_module_version": "1.5.0",
            "_model_name": "ProgressStyleModel",
            "_view_count": null,
            "_view_module": "@jupyter-widgets/base",
            "_view_module_version": "1.2.0",
            "_view_name": "StyleView",
            "bar_color": null,
            "description_width": ""
          }
        },
        "e28aa2ad588c42b19f5a6d60316d561a": {
          "model_module": "@jupyter-widgets/base",
          "model_name": "LayoutModel",
          "model_module_version": "1.2.0",
          "state": {
            "_model_module": "@jupyter-widgets/base",
            "_model_module_version": "1.2.0",
            "_model_name": "LayoutModel",
            "_view_count": null,
            "_view_module": "@jupyter-widgets/base",
            "_view_module_version": "1.2.0",
            "_view_name": "LayoutView",
            "align_content": null,
            "align_items": null,
            "align_self": null,
            "border": null,
            "bottom": null,
            "display": null,
            "flex": null,
            "flex_flow": null,
            "grid_area": null,
            "grid_auto_columns": null,
            "grid_auto_flow": null,
            "grid_auto_rows": null,
            "grid_column": null,
            "grid_gap": null,
            "grid_row": null,
            "grid_template_areas": null,
            "grid_template_columns": null,
            "grid_template_rows": null,
            "height": null,
            "justify_content": null,
            "justify_items": null,
            "left": null,
            "margin": null,
            "max_height": null,
            "max_width": null,
            "min_height": null,
            "min_width": null,
            "object_fit": null,
            "object_position": null,
            "order": null,
            "overflow": null,
            "overflow_x": null,
            "overflow_y": null,
            "padding": null,
            "right": null,
            "top": null,
            "visibility": null,
            "width": null
          }
        },
        "8ed0e56758b64ce2898279c86f5b4827": {
          "model_module": "@jupyter-widgets/controls",
          "model_name": "DescriptionStyleModel",
          "model_module_version": "1.5.0",
          "state": {
            "_model_module": "@jupyter-widgets/controls",
            "_model_module_version": "1.5.0",
            "_model_name": "DescriptionStyleModel",
            "_view_count": null,
            "_view_module": "@jupyter-widgets/base",
            "_view_module_version": "1.2.0",
            "_view_name": "StyleView",
            "description_width": ""
          }
        },
        "5d059bf9bc0848e5924ca5c52dce01fd": {
          "model_module": "@jupyter-widgets/controls",
          "model_name": "HBoxModel",
          "model_module_version": "1.5.0",
          "state": {
            "_dom_classes": [],
            "_model_module": "@jupyter-widgets/controls",
            "_model_module_version": "1.5.0",
            "_model_name": "HBoxModel",
            "_view_count": null,
            "_view_module": "@jupyter-widgets/controls",
            "_view_module_version": "1.5.0",
            "_view_name": "HBoxView",
            "box_style": "",
            "children": [
              "IPY_MODEL_cf2971bd6f164bdb809ff92243716991",
              "IPY_MODEL_8bcdf5de142a41cca0fa01b81c2910c8",
              "IPY_MODEL_347d82c4f1fa4ccd94d27ef74346a9a3"
            ],
            "layout": "IPY_MODEL_695439c82f564164bb9688bde353586e"
          }
        },
        "cf2971bd6f164bdb809ff92243716991": {
          "model_module": "@jupyter-widgets/controls",
          "model_name": "HTMLModel",
          "model_module_version": "1.5.0",
          "state": {
            "_dom_classes": [],
            "_model_module": "@jupyter-widgets/controls",
            "_model_module_version": "1.5.0",
            "_model_name": "HTMLModel",
            "_view_count": null,
            "_view_module": "@jupyter-widgets/controls",
            "_view_module_version": "1.5.0",
            "_view_name": "HTMLView",
            "description": "",
            "description_tooltip": null,
            "layout": "IPY_MODEL_0f3543f7c61e419c9e8642522bb2fdec",
            "placeholder": "​",
            "style": "IPY_MODEL_5ac2e417ea944f15aedfcbc9cc4b11a1",
            "value": "Map: 100%"
          }
        },
        "8bcdf5de142a41cca0fa01b81c2910c8": {
          "model_module": "@jupyter-widgets/controls",
          "model_name": "FloatProgressModel",
          "model_module_version": "1.5.0",
          "state": {
            "_dom_classes": [],
            "_model_module": "@jupyter-widgets/controls",
            "_model_module_version": "1.5.0",
            "_model_name": "FloatProgressModel",
            "_view_count": null,
            "_view_module": "@jupyter-widgets/controls",
            "_view_module_version": "1.5.0",
            "_view_name": "ProgressView",
            "bar_style": "success",
            "description": "",
            "description_tooltip": null,
            "layout": "IPY_MODEL_23fedef9eed948ef81d992d8d858875a",
            "max": 5000,
            "min": 0,
            "orientation": "horizontal",
            "style": "IPY_MODEL_6766677dd0104c56ab8bdf664ab412ee",
            "value": 5000
          }
        },
        "347d82c4f1fa4ccd94d27ef74346a9a3": {
          "model_module": "@jupyter-widgets/controls",
          "model_name": "HTMLModel",
          "model_module_version": "1.5.0",
          "state": {
            "_dom_classes": [],
            "_model_module": "@jupyter-widgets/controls",
            "_model_module_version": "1.5.0",
            "_model_name": "HTMLModel",
            "_view_count": null,
            "_view_module": "@jupyter-widgets/controls",
            "_view_module_version": "1.5.0",
            "_view_name": "HTMLView",
            "description": "",
            "description_tooltip": null,
            "layout": "IPY_MODEL_3c6d68d099ca49349236923cea360c66",
            "placeholder": "​",
            "style": "IPY_MODEL_a6e6af1445a84f4f968cb4fd9f74d5ae",
            "value": " 5000/5000 [00:01&lt;00:00, 3145.55 examples/s]"
          }
        },
        "695439c82f564164bb9688bde353586e": {
          "model_module": "@jupyter-widgets/base",
          "model_name": "LayoutModel",
          "model_module_version": "1.2.0",
          "state": {
            "_model_module": "@jupyter-widgets/base",
            "_model_module_version": "1.2.0",
            "_model_name": "LayoutModel",
            "_view_count": null,
            "_view_module": "@jupyter-widgets/base",
            "_view_module_version": "1.2.0",
            "_view_name": "LayoutView",
            "align_content": null,
            "align_items": null,
            "align_self": null,
            "border": null,
            "bottom": null,
            "display": null,
            "flex": null,
            "flex_flow": null,
            "grid_area": null,
            "grid_auto_columns": null,
            "grid_auto_flow": null,
            "grid_auto_rows": null,
            "grid_column": null,
            "grid_gap": null,
            "grid_row": null,
            "grid_template_areas": null,
            "grid_template_columns": null,
            "grid_template_rows": null,
            "height": null,
            "justify_content": null,
            "justify_items": null,
            "left": null,
            "margin": null,
            "max_height": null,
            "max_width": null,
            "min_height": null,
            "min_width": null,
            "object_fit": null,
            "object_position": null,
            "order": null,
            "overflow": null,
            "overflow_x": null,
            "overflow_y": null,
            "padding": null,
            "right": null,
            "top": null,
            "visibility": null,
            "width": null
          }
        },
        "0f3543f7c61e419c9e8642522bb2fdec": {
          "model_module": "@jupyter-widgets/base",
          "model_name": "LayoutModel",
          "model_module_version": "1.2.0",
          "state": {
            "_model_module": "@jupyter-widgets/base",
            "_model_module_version": "1.2.0",
            "_model_name": "LayoutModel",
            "_view_count": null,
            "_view_module": "@jupyter-widgets/base",
            "_view_module_version": "1.2.0",
            "_view_name": "LayoutView",
            "align_content": null,
            "align_items": null,
            "align_self": null,
            "border": null,
            "bottom": null,
            "display": null,
            "flex": null,
            "flex_flow": null,
            "grid_area": null,
            "grid_auto_columns": null,
            "grid_auto_flow": null,
            "grid_auto_rows": null,
            "grid_column": null,
            "grid_gap": null,
            "grid_row": null,
            "grid_template_areas": null,
            "grid_template_columns": null,
            "grid_template_rows": null,
            "height": null,
            "justify_content": null,
            "justify_items": null,
            "left": null,
            "margin": null,
            "max_height": null,
            "max_width": null,
            "min_height": null,
            "min_width": null,
            "object_fit": null,
            "object_position": null,
            "order": null,
            "overflow": null,
            "overflow_x": null,
            "overflow_y": null,
            "padding": null,
            "right": null,
            "top": null,
            "visibility": null,
            "width": null
          }
        },
        "5ac2e417ea944f15aedfcbc9cc4b11a1": {
          "model_module": "@jupyter-widgets/controls",
          "model_name": "DescriptionStyleModel",
          "model_module_version": "1.5.0",
          "state": {
            "_model_module": "@jupyter-widgets/controls",
            "_model_module_version": "1.5.0",
            "_model_name": "DescriptionStyleModel",
            "_view_count": null,
            "_view_module": "@jupyter-widgets/base",
            "_view_module_version": "1.2.0",
            "_view_name": "StyleView",
            "description_width": ""
          }
        },
        "23fedef9eed948ef81d992d8d858875a": {
          "model_module": "@jupyter-widgets/base",
          "model_name": "LayoutModel",
          "model_module_version": "1.2.0",
          "state": {
            "_model_module": "@jupyter-widgets/base",
            "_model_module_version": "1.2.0",
            "_model_name": "LayoutModel",
            "_view_count": null,
            "_view_module": "@jupyter-widgets/base",
            "_view_module_version": "1.2.0",
            "_view_name": "LayoutView",
            "align_content": null,
            "align_items": null,
            "align_self": null,
            "border": null,
            "bottom": null,
            "display": null,
            "flex": null,
            "flex_flow": null,
            "grid_area": null,
            "grid_auto_columns": null,
            "grid_auto_flow": null,
            "grid_auto_rows": null,
            "grid_column": null,
            "grid_gap": null,
            "grid_row": null,
            "grid_template_areas": null,
            "grid_template_columns": null,
            "grid_template_rows": null,
            "height": null,
            "justify_content": null,
            "justify_items": null,
            "left": null,
            "margin": null,
            "max_height": null,
            "max_width": null,
            "min_height": null,
            "min_width": null,
            "object_fit": null,
            "object_position": null,
            "order": null,
            "overflow": null,
            "overflow_x": null,
            "overflow_y": null,
            "padding": null,
            "right": null,
            "top": null,
            "visibility": null,
            "width": null
          }
        },
        "6766677dd0104c56ab8bdf664ab412ee": {
          "model_module": "@jupyter-widgets/controls",
          "model_name": "ProgressStyleModel",
          "model_module_version": "1.5.0",
          "state": {
            "_model_module": "@jupyter-widgets/controls",
            "_model_module_version": "1.5.0",
            "_model_name": "ProgressStyleModel",
            "_view_count": null,
            "_view_module": "@jupyter-widgets/base",
            "_view_module_version": "1.2.0",
            "_view_name": "StyleView",
            "bar_color": null,
            "description_width": ""
          }
        },
        "3c6d68d099ca49349236923cea360c66": {
          "model_module": "@jupyter-widgets/base",
          "model_name": "LayoutModel",
          "model_module_version": "1.2.0",
          "state": {
            "_model_module": "@jupyter-widgets/base",
            "_model_module_version": "1.2.0",
            "_model_name": "LayoutModel",
            "_view_count": null,
            "_view_module": "@jupyter-widgets/base",
            "_view_module_version": "1.2.0",
            "_view_name": "LayoutView",
            "align_content": null,
            "align_items": null,
            "align_self": null,
            "border": null,
            "bottom": null,
            "display": null,
            "flex": null,
            "flex_flow": null,
            "grid_area": null,
            "grid_auto_columns": null,
            "grid_auto_flow": null,
            "grid_auto_rows": null,
            "grid_column": null,
            "grid_gap": null,
            "grid_row": null,
            "grid_template_areas": null,
            "grid_template_columns": null,
            "grid_template_rows": null,
            "height": null,
            "justify_content": null,
            "justify_items": null,
            "left": null,
            "margin": null,
            "max_height": null,
            "max_width": null,
            "min_height": null,
            "min_width": null,
            "object_fit": null,
            "object_position": null,
            "order": null,
            "overflow": null,
            "overflow_x": null,
            "overflow_y": null,
            "padding": null,
            "right": null,
            "top": null,
            "visibility": null,
            "width": null
          }
        },
        "a6e6af1445a84f4f968cb4fd9f74d5ae": {
          "model_module": "@jupyter-widgets/controls",
          "model_name": "DescriptionStyleModel",
          "model_module_version": "1.5.0",
          "state": {
            "_model_module": "@jupyter-widgets/controls",
            "_model_module_version": "1.5.0",
            "_model_name": "DescriptionStyleModel",
            "_view_count": null,
            "_view_module": "@jupyter-widgets/base",
            "_view_module_version": "1.2.0",
            "_view_name": "StyleView",
            "description_width": ""
          }
        }
      }
    }
  },
  "cells": [
    {
      "cell_type": "markdown",
      "metadata": {
        "id": "view-in-github",
        "colab_type": "text"
      },
      "source": [
        "<a href=\"https://colab.research.google.com/github/jubacochran/NLP/blob/main/Experiment_Sentiment.ipynb\" target=\"_parent\"><img src=\"https://colab.research.google.com/assets/colab-badge.svg\" alt=\"Open In Colab\"/></a>"
      ]
    },
    {
      "cell_type": "markdown",
      "source": [
        "**(This is the experimentation Notebook. The Final model will be uploaded seperately**)\n",
        "\n",
        "\n",
        "**Objective:** My goal was to build a LLM with the best performance in the interest of time. I experimented with many layers, methodologies and optimization techniques (Adam, SGD, RMSProp, Adagrad) to understand their impact on the model’s performance.\n",
        "\n",
        "[Dataset](https://www.kaggle.com/datasets/columbine/imdb-dataset-sentiment-analysis-in-csv-format/data):\n",
        "The chosen dataset was the IMDB Sentiment Analysis dataset from Kaggle, which contains labeled text data for sentiment classification. The dataset is balanced, with an equal distribution of positive and negative reviews . Preprocessing involved tokenization, padding, and splitting into training and testing sets.\n",
        "\n",
        "**Model Design:**\n",
        "Initially, a basic LSTM model with an embedding layer was used, which performed suboptimally due to long training times and poor accuracy. The model architecture was as follows:\n",
        "\n",
        "**Embedding Layer:** Converts words into dense vectors.\n",
        "LSTM Layer: 512 units for learning sequential dependencies.\n",
        "Dense Layer: A fully connected layer with 65,881 output units.\n",
        "The initial training run revealed very high loss values and poor accuracy (starting at 0.0362), which prompted a rethinking of the approach. The model took more than 10 hours to train for just the first epoch.\n",
        "\n",
        "**Refinement (ULMFiT):**\n",
        "After reviewing research from Jay Alammar and Maarten Grootendorst’s \"Hands-On Large Language Models,\" the Universal Language Model Fine-tuning (ULMFiT) method was implemented. ULMFiT is a transfer learning approach, using pre-trained models to improve efficiency and performance in task-specific applications.\n",
        "\n",
        "**Base Model: **Used the DistilBERT-base-uncased transformer model for its lightweight nature.\n",
        "\n",
        "**Task-specific Model:** The model was fine-tuned using twitter-roberta-base-sentiment-latest, a pre-trained model tailored for sentiment analysis tasks.\n",
        "\n",
        "**Classification Head:** Added a classification layer on top for binary sentiment prediction.\n",
        "Optimization:\n",
        "The optimization technique was experimented with multiple algorithms through hyperparameter sweeps with Weights & Biases (W&B):\n",
        "\n",
        "![W&B Chart 12_14_2024, 10_46_09 AM.png](data:image/png;base64,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)\n",
        "\n",
        "**Hyperparameter Sweep:** Parameters such as decay rate, learning rate, batch size, number of epochs, and optimizer were tested.\n",
        "Optimizers Tested: AdamW, Adam, SGD, RMSProp, Adagrad.\n",
        "Results from Hyperparameter Tuning (via W&B):\n",
        "After 5 epochs, the model showed impressive improvements:\n",
        "\n",
        "Validation Accuracy: ~92%\n",
        "Test Accuracy: ~91.4%\n",
        "Precision: ~92.1%\n",
        "Recall: ~91.4%\n",
        "F1-Score: ~91.4%\n",
        "Loss: ~0.93\n",
        "The W&B charts show that AdamW with learning rate 5e-5 and a decay rate of 0.0001 performed the best, as it minimized the loss function and resulted in stable performance.\n",
        "Key Insights:\n",
        "\n",
        "Activation Functions: The primary experiment involved using different activation functions (Sigmoid, Tanh, and ReLU) within the model’s architecture. ReLU generally provided the best performance across layers, enabling faster convergence.\n",
        "Optimization Technique: The AdamW optimizer consistently outperformed others like SGD and Adagrad in terms of accuracy, precision, recall, and F1 score. RMSProp also yielded promising results.\n",
        "Transfer Learning: The use of pre-trained models (DistilBERT and Roberta) through the ULMFiT approach allowed for faster convergence and higher performance compared to training from scratch.\n",
        "Training Time: By shifting to Google Colab's GPU services and optimizing the training pipeline, training time was drastically reduced (from over 10 hours per epoch to approximately 1 hour per epoch).\n",
        "Final Model:\n",
        "The final model, after 15 epochs, achieved the following on the test set:\n",
        "\n",
        "Accuracy: 91.56%\n",
        "Precision: 91.48%\n",
        "Recall: 91.38%\n",
        "F1-Score: 91.39%\n",
        "Loss: 1.32\n",
        "This model demonstrates high efficacy in sentiment classification tasks, validating the impact of transfer learning and optimized hyperparameters.\n",
        "\n",
        "You can reference the [W&B project]()https://chatgpt.com/c/675d5bc8-2148-8012-a453-eadeece490ac#:~:text=can%20reference%20the-,W%26B%20project,-for%20detailed%20metrics for detailed metrics, and experiment details can be found in the logs."
      ],
      "metadata": {
        "id": "-56-DPZCuaXU"
      }
    },
    {
      "cell_type": "code",
      "source": [
        "pip install --upgrade datasets gcsfs\n"
      ],
      "metadata": {
        "colab": {
          "base_uri": "https://localhost:8080/"
        },
        "collapsed": true,
        "id": "xHaLQGck8-r6",
        "outputId": "b9c62c3a-e1ca-4549-a491-1b143f215573"
      },
      "execution_count": null,
      "outputs": [
        {
          "output_type": "stream",
          "name": "stdout",
          "text": [
            "Requirement already satisfied: datasets in /usr/local/lib/python3.10/dist-packages (3.2.0)\n",
            "Requirement already satisfied: gcsfs in /usr/local/lib/python3.10/dist-packages (2024.9.0.post1)\n",
            "Collecting gcsfs\n",
            "  Using cached gcsfs-2024.10.0-py2.py3-none-any.whl.metadata (1.6 kB)\n",
            "Requirement already satisfied: filelock in /usr/local/lib/python3.10/dist-packages (from datasets) (3.16.1)\n",
            "Requirement already satisfied: numpy>=1.17 in /usr/local/lib/python3.10/dist-packages (from datasets) (1.26.4)\n",
            "Requirement already satisfied: pyarrow>=15.0.0 in /usr/local/lib/python3.10/dist-packages (from datasets) (17.0.0)\n",
            "Requirement already satisfied: dill<0.3.9,>=0.3.0 in /usr/local/lib/python3.10/dist-packages (from datasets) (0.3.8)\n",
            "Requirement already satisfied: pandas in /usr/local/lib/python3.10/dist-packages (from datasets) (2.2.2)\n",
            "Requirement already satisfied: requests>=2.32.2 in /usr/local/lib/python3.10/dist-packages (from datasets) (2.32.3)\n",
            "Requirement already satisfied: tqdm>=4.66.3 in /usr/local/lib/python3.10/dist-packages (from datasets) (4.66.6)\n",
            "Requirement already satisfied: xxhash in /usr/local/lib/python3.10/dist-packages (from datasets) (3.5.0)\n",
            "Requirement already satisfied: multiprocess<0.70.17 in /usr/local/lib/python3.10/dist-packages (from datasets) (0.70.16)\n",
            "Requirement already satisfied: fsspec<=2024.9.0,>=2023.1.0 in /usr/local/lib/python3.10/dist-packages (from fsspec[http]<=2024.9.0,>=2023.1.0->datasets) (2024.9.0)\n",
            "Requirement already satisfied: aiohttp in /usr/local/lib/python3.10/dist-packages (from datasets) (3.11.9)\n",
            "Requirement already satisfied: huggingface-hub>=0.23.0 in /usr/local/lib/python3.10/dist-packages (from datasets) (0.26.3)\n",
            "Requirement already satisfied: packaging in /usr/local/lib/python3.10/dist-packages (from datasets) (24.2)\n",
            "Requirement already satisfied: pyyaml>=5.1 in /usr/local/lib/python3.10/dist-packages (from datasets) (6.0.2)\n",
            "Requirement already satisfied: decorator>4.1.2 in /usr/local/lib/python3.10/dist-packages (from gcsfs) (4.4.2)\n",
            "INFO: pip is looking at multiple versions of gcsfs to determine which version is compatible with other requirements. This could take a while.\n",
            "Requirement already satisfied: google-auth>=1.2 in /usr/local/lib/python3.10/dist-packages (from gcsfs) (2.27.0)\n",
            "Requirement already satisfied: google-auth-oauthlib in /usr/local/lib/python3.10/dist-packages (from gcsfs) (1.2.1)\n",
            "Requirement already satisfied: google-cloud-storage in /usr/local/lib/python3.10/dist-packages (from gcsfs) (2.8.0)\n",
            "Requirement already satisfied: aiohappyeyeballs>=2.3.0 in /usr/local/lib/python3.10/dist-packages (from aiohttp->datasets) (2.4.4)\n",
            "Requirement already satisfied: aiosignal>=1.1.2 in /usr/local/lib/python3.10/dist-packages (from aiohttp->datasets) (1.3.1)\n",
            "Requirement already satisfied: async-timeout<6.0,>=4.0 in /usr/local/lib/python3.10/dist-packages (from aiohttp->datasets) (4.0.3)\n",
            "Requirement already satisfied: attrs>=17.3.0 in /usr/local/lib/python3.10/dist-packages (from aiohttp->datasets) (24.2.0)\n",
            "Requirement already satisfied: frozenlist>=1.1.1 in /usr/local/lib/python3.10/dist-packages (from aiohttp->datasets) (1.5.0)\n",
            "Requirement already satisfied: multidict<7.0,>=4.5 in /usr/local/lib/python3.10/dist-packages (from aiohttp->datasets) (6.1.0)\n",
            "Requirement already satisfied: propcache>=0.2.0 in /usr/local/lib/python3.10/dist-packages (from aiohttp->datasets) (0.2.1)\n",
            "Requirement already satisfied: yarl<2.0,>=1.17.0 in /usr/local/lib/python3.10/dist-packages (from aiohttp->datasets) (1.18.3)\n",
            "Requirement already satisfied: cachetools<6.0,>=2.0.0 in /usr/local/lib/python3.10/dist-packages (from google-auth>=1.2->gcsfs) (5.5.0)\n",
            "Requirement already satisfied: pyasn1-modules>=0.2.1 in /usr/local/lib/python3.10/dist-packages (from google-auth>=1.2->gcsfs) (0.4.1)\n",
            "Requirement already satisfied: rsa<5,>=3.1.4 in /usr/local/lib/python3.10/dist-packages (from google-auth>=1.2->gcsfs) (4.9)\n",
            "Requirement already satisfied: typing-extensions>=3.7.4.3 in /usr/local/lib/python3.10/dist-packages (from huggingface-hub>=0.23.0->datasets) (4.12.2)\n",
            "Requirement already satisfied: charset-normalizer<4,>=2 in /usr/local/lib/python3.10/dist-packages (from requests>=2.32.2->datasets) (3.4.0)\n",
            "Requirement already satisfied: idna<4,>=2.5 in /usr/local/lib/python3.10/dist-packages (from requests>=2.32.2->datasets) (3.10)\n",
            "Requirement already satisfied: urllib3<3,>=1.21.1 in /usr/local/lib/python3.10/dist-packages (from requests>=2.32.2->datasets) (2.2.3)\n",
            "Requirement already satisfied: certifi>=2017.4.17 in /usr/local/lib/python3.10/dist-packages (from requests>=2.32.2->datasets) (2024.8.30)\n",
            "Requirement already satisfied: requests-oauthlib>=0.7.0 in /usr/local/lib/python3.10/dist-packages (from google-auth-oauthlib->gcsfs) (1.3.1)\n",
            "Requirement already satisfied: google-api-core!=2.0.*,!=2.1.*,!=2.2.*,!=2.3.0,<3.0.0dev,>=1.31.5 in /usr/local/lib/python3.10/dist-packages (from google-cloud-storage->gcsfs) (2.19.2)\n",
            "Requirement already satisfied: google-cloud-core<3.0dev,>=2.3.0 in /usr/local/lib/python3.10/dist-packages (from google-cloud-storage->gcsfs) (2.4.1)\n",
            "Requirement already satisfied: google-resumable-media>=2.3.2 in /usr/local/lib/python3.10/dist-packages (from google-cloud-storage->gcsfs) (2.7.2)\n",
            "Requirement already satisfied: python-dateutil>=2.8.2 in /usr/local/lib/python3.10/dist-packages (from pandas->datasets) (2.8.2)\n",
            "Requirement already satisfied: pytz>=2020.1 in /usr/local/lib/python3.10/dist-packages (from pandas->datasets) (2024.2)\n",
            "Requirement already satisfied: tzdata>=2022.7 in /usr/local/lib/python3.10/dist-packages (from pandas->datasets) (2024.2)\n",
            "Requirement already satisfied: googleapis-common-protos<2.0.dev0,>=1.56.2 in /usr/local/lib/python3.10/dist-packages (from google-api-core!=2.0.*,!=2.1.*,!=2.2.*,!=2.3.0,<3.0.0dev,>=1.31.5->google-cloud-storage->gcsfs) (1.66.0)\n",
            "Requirement already satisfied: protobuf!=3.20.0,!=3.20.1,!=4.21.0,!=4.21.1,!=4.21.2,!=4.21.3,!=4.21.4,!=4.21.5,<6.0.0.dev0,>=3.19.5 in /usr/local/lib/python3.10/dist-packages (from google-api-core!=2.0.*,!=2.1.*,!=2.2.*,!=2.3.0,<3.0.0dev,>=1.31.5->google-cloud-storage->gcsfs) (4.25.5)\n",
            "Requirement already satisfied: proto-plus<2.0.0dev,>=1.22.3 in /usr/local/lib/python3.10/dist-packages (from google-api-core!=2.0.*,!=2.1.*,!=2.2.*,!=2.3.0,<3.0.0dev,>=1.31.5->google-cloud-storage->gcsfs) (1.25.0)\n",
            "Requirement already satisfied: google-crc32c<2.0dev,>=1.0 in /usr/local/lib/python3.10/dist-packages (from google-resumable-media>=2.3.2->google-cloud-storage->gcsfs) (1.6.0)\n",
            "Requirement already satisfied: pyasn1<0.7.0,>=0.4.6 in /usr/local/lib/python3.10/dist-packages (from pyasn1-modules>=0.2.1->google-auth>=1.2->gcsfs) (0.6.1)\n",
            "Requirement already satisfied: six>=1.5 in /usr/local/lib/python3.10/dist-packages (from python-dateutil>=2.8.2->pandas->datasets) (1.16.0)\n",
            "Requirement already satisfied: oauthlib>=3.0.0 in /usr/local/lib/python3.10/dist-packages (from requests-oauthlib>=0.7.0->google-auth-oauthlib->gcsfs) (3.2.2)\n"
          ]
        }
      ]
    },
    {
      "cell_type": "code",
      "source": [
        "pip install wandb"
      ],
      "metadata": {
        "colab": {
          "base_uri": "https://localhost:8080/"
        },
        "collapsed": true,
        "id": "FXWZV8qri7oW",
        "outputId": "be27b91b-4e38-42aa-8198-3dfb66894449"
      },
      "execution_count": null,
      "outputs": [
        {
          "output_type": "stream",
          "name": "stdout",
          "text": [
            "Requirement already satisfied: wandb in /usr/local/lib/python3.10/dist-packages (0.18.7)\n",
            "Requirement already satisfied: click!=8.0.0,>=7.1 in /usr/local/lib/python3.10/dist-packages (from wandb) (8.1.7)\n",
            "Requirement already satisfied: docker-pycreds>=0.4.0 in /usr/local/lib/python3.10/dist-packages (from wandb) (0.4.0)\n",
            "Requirement already satisfied: gitpython!=3.1.29,>=1.0.0 in /usr/local/lib/python3.10/dist-packages (from wandb) (3.1.43)\n",
            "Requirement already satisfied: platformdirs in /usr/local/lib/python3.10/dist-packages (from wandb) (4.3.6)\n",
            "Requirement already satisfied: protobuf!=4.21.0,!=5.28.0,<6,>=3.19.0 in /usr/local/lib/python3.10/dist-packages (from wandb) (4.25.5)\n",
            "Requirement already satisfied: psutil>=5.0.0 in /usr/local/lib/python3.10/dist-packages (from wandb) (5.9.5)\n",
            "Requirement already satisfied: pyyaml in /usr/local/lib/python3.10/dist-packages (from wandb) (6.0.2)\n",
            "Requirement already satisfied: requests<3,>=2.0.0 in /usr/local/lib/python3.10/dist-packages (from wandb) (2.32.3)\n",
            "Requirement already satisfied: sentry-sdk>=2.0.0 in /usr/local/lib/python3.10/dist-packages (from wandb) (2.19.0)\n",
            "Requirement already satisfied: setproctitle in /usr/local/lib/python3.10/dist-packages (from wandb) (1.3.4)\n",
            "Requirement already satisfied: setuptools in /usr/local/lib/python3.10/dist-packages (from wandb) (75.1.0)\n",
            "Requirement already satisfied: typing-extensions<5,>=4.4 in /usr/local/lib/python3.10/dist-packages (from wandb) (4.12.2)\n",
            "Requirement already satisfied: six>=1.4.0 in /usr/local/lib/python3.10/dist-packages (from docker-pycreds>=0.4.0->wandb) (1.16.0)\n",
            "Requirement already satisfied: gitdb<5,>=4.0.1 in /usr/local/lib/python3.10/dist-packages (from gitpython!=3.1.29,>=1.0.0->wandb) (4.0.11)\n",
            "Requirement already satisfied: charset-normalizer<4,>=2 in /usr/local/lib/python3.10/dist-packages (from requests<3,>=2.0.0->wandb) (3.4.0)\n",
            "Requirement already satisfied: idna<4,>=2.5 in /usr/local/lib/python3.10/dist-packages (from requests<3,>=2.0.0->wandb) (3.10)\n",
            "Requirement already satisfied: urllib3<3,>=1.21.1 in /usr/local/lib/python3.10/dist-packages (from requests<3,>=2.0.0->wandb) (2.2.3)\n",
            "Requirement already satisfied: certifi>=2017.4.17 in /usr/local/lib/python3.10/dist-packages (from requests<3,>=2.0.0->wandb) (2024.8.30)\n",
            "Requirement already satisfied: smmap<6,>=3.0.1 in /usr/local/lib/python3.10/dist-packages (from gitdb<5,>=4.0.1->gitpython!=3.1.29,>=1.0.0->wandb) (5.0.1)\n"
          ]
        }
      ]
    },
    {
      "cell_type": "code",
      "source": [
        "!wandb login"
      ],
      "metadata": {
        "colab": {
          "base_uri": "https://localhost:8080/"
        },
        "id": "hoL7N9eUjA7g",
        "outputId": "4723f80b-b0fb-4a02-b68c-3f845be0a0e2"
      },
      "execution_count": null,
      "outputs": [
        {
          "output_type": "stream",
          "name": "stdout",
          "text": [
            "\u001b[34m\u001b[1mwandb\u001b[0m: Currently logged in as: \u001b[33mjubacochran\u001b[0m (\u001b[33mjubacochran-booking-com\u001b[0m). Use \u001b[1m`wandb login --relogin`\u001b[0m to force relogin\n"
          ]
        }
      ]
    },
    {
      "cell_type": "code",
      "source": [
        "torch.autograd.set_detect_anomaly(True)"
      ],
      "metadata": {
        "id": "kTQVGjPgXrpv"
      },
      "execution_count": null,
      "outputs": []
    },
    {
      "cell_type": "code",
      "execution_count": null,
      "metadata": {
        "id": "0UQafIuem9YC"
      },
      "outputs": [],
      "source": [
        "import torch\n",
        "from transformers import AutoModelForCausalLM, AutoTokenizer,pipeline, AutoModelForSequenceClassification, TrainingArguments, Trainer\n",
        "from datasets import Dataset, DatasetDict\n",
        "torch.cuda.is_available()\n",
        "import kagglehub\n",
        "import pandas as pd\n",
        "import matplotlib.pyplot as plt\n",
        "from transformers import TrainingArguments, Trainer, DataCollatorWithPadding\n",
        "from sklearn.metrics import classification_report, accuracy_score, precision_recall_fscore_support\n",
        "import wandb\n",
        "import random\n",
        "import math\n",
        "import numpy as np\n",
        "\n"
      ]
    },
    {
      "cell_type": "code",
      "source": [
        "#Load model and tokenizer\n",
        "modelBase_name = 'distilbert/distilbert-base-uncased'\n",
        "modelTaskSpecific_name = 'cardiffnlp/twitter-roberta-base-sentiment-latest'\n",
        "\n",
        "tokenizer   = AutoTokenizer.from_pretrained(modelBase_name)\n",
        "model = AutoModelForSequenceClassification.from_pretrained(\n",
        "    modelBase_name,\n",
        "    num_labels=2\n",
        ")\n",
        "\n"
      ],
      "metadata": {
        "id": "szWLAIh6xqAk",
        "colab": {
          "base_uri": "https://localhost:8080/"
        },
        "outputId": "221bcb27-b881-46f2-8d54-e0443c39050e"
      },
      "execution_count": null,
      "outputs": [
        {
          "output_type": "stream",
          "name": "stderr",
          "text": [
            "/usr/local/lib/python3.10/dist-packages/huggingface_hub/utils/_auth.py:94: UserWarning: \n",
            "The secret `HF_TOKEN` does not exist in your Colab secrets.\n",
            "To authenticate with the Hugging Face Hub, create a token in your settings tab (https://huggingface.co/settings/tokens), set it as secret in your Google Colab and restart your session.\n",
            "You will be able to reuse this secret in all of your notebooks.\n",
            "Please note that authentication is recommended but still optional to access public models or datasets.\n",
            "  warnings.warn(\n",
            "Some weights of DistilBertForSequenceClassification were not initialized from the model checkpoint at distilbert/distilbert-base-uncased and are newly initialized: ['classifier.bias', 'classifier.weight', 'pre_classifier.bias', 'pre_classifier.weight']\n",
            "You should probably TRAIN this model on a down-stream task to be able to use it for predictions and inference.\n"
          ]
        }
      ]
    },
    {
      "cell_type": "code",
      "source": [
        "\n",
        "train_df = pd.read_csv(\"/content/sentiment_analysis/Train.csv\")\n",
        "val_df = pd.read_csv(\"/content/sentiment_analysis/Valid.csv\")\n",
        "test_df = pd.read_csv(\"/content/sentiment_analysis/Test.csv\")\n",
        "\n",
        "dataset = {\n",
        "    \"train\": train_df,\n",
        "    \"val\": val_df,\n",
        "    \"test\": test_df\n",
        "}\n",
        "\n",
        "\n",
        "print(\"Number of training samples:\", len(dataset[\"train\"]))\n",
        "print(\"Number of validation samples:\", len(dataset[\"val\"]))\n",
        "print(\"Number of test samples:\", len(dataset[\"test\"]))\n"
      ],
      "metadata": {
        "id": "nSODRjLm4cdN",
        "colab": {
          "base_uri": "https://localhost:8080/"
        },
        "outputId": "9d9acb6a-cbe8-47af-b487-503a7ddc0f54"
      },
      "execution_count": null,
      "outputs": [
        {
          "output_type": "stream",
          "name": "stdout",
          "text": [
            "Number of training samples: 40000\n",
            "Number of validation samples: 5000\n",
            "Number of test samples: 5000\n"
          ]
        }
      ]
    },
    {
      "cell_type": "code",
      "source": [
        "train_df['label'] = train_df['label'].astype(int)\n",
        "val_df['label'] = val_df['label'].astype(int)\n",
        "test_df['label'] = test_df['label'].astype(int)\n"
      ],
      "metadata": {
        "id": "96JSj5inNSzG"
      },
      "execution_count": null,
      "outputs": []
    },
    {
      "cell_type": "code",
      "source": [
        "print(dataset['train'])\n",
        "print(dataset['train'].info())"
      ],
      "metadata": {
        "colab": {
          "base_uri": "https://localhost:8080/"
        },
        "id": "-O8GyhvOIZxL",
        "outputId": "04672095-e1f0-4f14-808b-e1dd0a0b0d93"
      },
      "execution_count": null,
      "outputs": [
        {
          "output_type": "stream",
          "name": "stdout",
          "text": [
            "                                                    text  label\n",
            "0      I grew up (b. 1965) watching and loving the Th...      0\n",
            "1      When I put this movie in my DVD player, and sa...      0\n",
            "2      Why do people who do not know what a particula...      0\n",
            "3      Even though I have great interest in Biblical ...      0\n",
            "4      Im a die hard Dads Army fan and nothing will e...      1\n",
            "...                                                  ...    ...\n",
            "39995  \"Western Union\" is something of a forgotten cl...      1\n",
            "39996  This movie is an incredible piece of work. It ...      1\n",
            "39997  My wife and I watched this movie because we pl...      0\n",
            "39998  When I first watched Flatliners, I was amazed....      1\n",
            "39999  Why would this film be so good, but only gross...      1\n",
            "\n",
            "[40000 rows x 2 columns]\n",
            "<class 'pandas.core.frame.DataFrame'>\n",
            "RangeIndex: 40000 entries, 0 to 39999\n",
            "Data columns (total 2 columns):\n",
            " #   Column  Non-Null Count  Dtype \n",
            "---  ------  --------------  ----- \n",
            " 0   text    40000 non-null  object\n",
            " 1   label   40000 non-null  int64 \n",
            "dtypes: int64(1), object(1)\n",
            "memory usage: 625.1+ KB\n",
            "None\n"
          ]
        }
      ]
    },
    {
      "cell_type": "code",
      "source": [
        "dataset['train']['label'].value_counts().plot(kind='bar')\n",
        "print(dataset['train']['label'].value_counts())\n",
        "print(dataset['train']['label'].isna().sum())\n",
        "\n"
      ],
      "metadata": {
        "colab": {
          "base_uri": "https://localhost:8080/",
          "height": 531
        },
        "id": "0D8A74uS_awe",
        "outputId": "70bf2fe0-2e89-4a03-ce35-8a7c502844d2"
      },
      "execution_count": null,
      "outputs": [
        {
          "output_type": "stream",
          "name": "stdout",
          "text": [
            "label\n",
            "0    20019\n",
            "1    19981\n",
            "Name: count, dtype: int64\n",
            "0\n"
          ]
        },
        {
          "output_type": "display_data",
          "data": {
            "text/plain": [
              "<Figure size 640x480 with 1 Axes>"
            ],
            "image/png": "[encoded data removed]"
          },
          "metadata": {}
        }
      ]
    },
    {
      "cell_type": "code",
      "source": [
        "dataset['val']['label'].value_counts().plot(kind='bar')\n",
        "print(dataset['val']['label'].value_counts())\n",
        "print(dataset['val']['label'].isna().sum())\n",
        "print(dataset['val']['label'].isnull().sum())\n",
        "print(dataset['val'].info())"
      ],
      "metadata": {
        "colab": {
          "base_uri": "https://localhost:8080/",
          "height": 722
        },
        "id": "K1BbgFNYYPVY",
        "outputId": "6695179f-b68b-48fb-eb1f-4008fd1d46cc"
      },
      "execution_count": null,
      "outputs": [
        {
          "output_type": "stream",
          "name": "stdout",
          "text": [
            "label\n",
            "1    2514\n",
            "0    2486\n",
            "Name: count, dtype: int64\n",
            "0\n",
            "0\n",
            "<class 'pandas.core.frame.DataFrame'>\n",
            "RangeIndex: 5000 entries, 0 to 4999\n",
            "Data columns (total 2 columns):\n",
            " #   Column  Non-Null Count  Dtype \n",
            "---  ------  --------------  ----- \n",
            " 0   text    5000 non-null   object\n",
            " 1   label   5000 non-null   int64 \n",
            "dtypes: int64(1), object(1)\n",
            "memory usage: 78.2+ KB\n",
            "None\n"
          ]
        },
        {
          "output_type": "display_data",
          "data": {
            "text/plain": [
              "<Figure size 640x480 with 1 Axes>"
            ],
            "image/png": "[encoded data removed]"
          },
          "metadata": {}
        }
      ]
    },
    {
      "cell_type": "code",
      "source": [
        "dataset['test']['label'].value_counts().plot(kind='bar')\n",
        "print(dataset['test']['label'].value_counts())\n",
        "print(dataset['test']['label'].isna().sum())\n",
        "print(dataset['test']['label'].isnull().sum())"
      ],
      "metadata": {
        "colab": {
          "base_uri": "https://localhost:8080/",
          "height": 548
        },
        "id": "Iy1i_tQ-YUhe",
        "outputId": "a5cf20d0-e3fc-4b9b-af43-83de433d43e1"
      },
      "execution_count": null,
      "outputs": [
        {
          "output_type": "stream",
          "name": "stdout",
          "text": [
            "label\n",
            "1    2505\n",
            "0    2495\n",
            "Name: count, dtype: int64\n",
            "0\n",
            "0\n"
          ]
        },
        {
          "output_type": "display_data",
          "data": {
            "text/plain": [
              "<Figure size 640x480 with 1 Axes>"
            ],
            "image/png": "[encoded data removed]"
          },
          "metadata": {}
        }
      ]
    },
    {
      "cell_type": "markdown",
      "source": [
        "The Training classes are balanced"
      ],
      "metadata": {
        "id": "BI_wG-U3Ixjf"
      }
    },
    {
      "cell_type": "code",
      "source": [
        "#Converting pandas to hugging face dataset\n",
        "\n",
        "train_dataset = Dataset.from_pandas(train_df, preserve_index=False)\n",
        "val_dataset = Dataset.from_pandas(val_df, preserve_index=False)\n",
        "test_dataset = Dataset.from_pandas(test_df, preserve_index=False)\n",
        "\n",
        "raw_datasets = DatasetDict({\n",
        "    \"train\": train_dataset,\n",
        "    \"validation\": val_dataset,\n",
        "    \"test\": test_dataset\n",
        "})"
      ],
      "metadata": {
        "id": "EVB1FSyvI4RY"
      },
      "execution_count": null,
      "outputs": []
    },
    {
      "cell_type": "code",
      "source": [
        "print(raw_datasets)\n"
      ],
      "metadata": {
        "colab": {
          "base_uri": "https://localhost:8080/"
        },
        "id": "i2v-9cvuUOcx",
        "outputId": "8fd3c7aa-5aec-4041-ee23-f9188287a870"
      },
      "execution_count": null,
      "outputs": [
        {
          "output_type": "stream",
          "name": "stdout",
          "text": [
            "DatasetDict({\n",
            "    train: Dataset({\n",
            "        features: ['text', 'label'],\n",
            "        num_rows: 40000\n",
            "    })\n",
            "    validation: Dataset({\n",
            "        features: ['text', 'label'],\n",
            "        num_rows: 5000\n",
            "    })\n",
            "    test: Dataset({\n",
            "        features: ['text', 'label'],\n",
            "        num_rows: 5000\n",
            "    })\n",
            "})\n"
          ]
        }
      ]
    },
    {
      "cell_type": "code",
      "source": [
        "print(len(raw_datasets[\"train\"][0]['text']))"
      ],
      "metadata": {
        "colab": {
          "base_uri": "https://localhost:8080/"
        },
        "id": "PK3cEvWdXgok",
        "outputId": "cddae4b8-2d5f-42c2-cac5-16c3070f9a02"
      },
      "execution_count": null,
      "outputs": [
        {
          "output_type": "stream",
          "name": "stdout",
          "text": [
            "874\n"
          ]
        }
      ]
    },
    {
      "cell_type": "code",
      "source": [
        "#Taking a look at a single document\n",
        "length=tokenizer(raw_datasets[\"train\"][0]['text'])\n",
        "print(len(length['input_ids']))\n"
      ],
      "metadata": {
        "colab": {
          "base_uri": "https://localhost:8080/"
        },
        "id": "LzNuwMGhY1FV",
        "outputId": "ffb160d9-39cf-4c22-c49d-a4471522d6e7"
      },
      "execution_count": null,
      "outputs": [
        {
          "output_type": "stream",
          "name": "stdout",
          "text": [
            "189\n"
          ]
        }
      ]
    },
    {
      "cell_type": "code",
      "source": [
        "\n",
        "def tokenize_function(df):\n",
        "    return tokenizer(df[\"text\"], truncation=False, padding=False)\n",
        "\n",
        "\n",
        "tokenized_datasets = raw_datasets.map(tokenize_function, batched=True)\n",
        "\n",
        "#get all lengths for the train set\n",
        "train_lengths = [len(ids) for ids in tokenized_datasets[\"train\"][\"input_ids\"]]\n",
        "\n",
        "print(\"Max length in train:\", max(train_lengths))\n",
        "print(\"Min length in train:\", min(train_lengths))\n",
        "\n",
        "#same for validation and test sets:\n",
        "val_lengths = [len(ids) for ids in tokenized_datasets[\"validation\"][\"input_ids\"]]\n",
        "test_lengths = [len(ids) for ids in tokenized_datasets[\"test\"][\"input_ids\"]]\n",
        "\n",
        "print(\"Max length in val:\", max(val_lengths))\n",
        "print(\"Min length in val:\", min(val_lengths))\n",
        "print(\"Max length in test:\", max(test_lengths))\n",
        "print(\"Min length in test:\", min(test_lengths))\n",
        "\n",
        "\n",
        "pcts = [50, 75, 90, 95, 99]\n",
        "for p in pcts:\n",
        "    val = np.percentile(train_lengths, p)\n",
        "    print(f\"{p}th percentile: {val}\")\n"
      ],
      "metadata": {
        "colab": {
          "base_uri": "https://localhost:8080/",
          "height": 321,
          "referenced_widgets": [
            "11b0b85c2de84b1980c53f70ad0cb62d",
            "59a0c47c22f14c36b6dfb9ca3dc0a456",
            "c183ff3644904e1ea343666b9bec50fc",
            "ddcc663464d8423ea79808f4f673ad65",
            "30d5002444564b769133dc20c069f3bb",
            "759a5ec76b724efcb6b9efc3c912dc12",
            "fa65b8ef3bbd4b32a7ab0dc3c3be5cbc",
            "e1059eec0eab4c5498bd641129cc67a0",
            "e993c96a16b743579e07951c2a936e3e",
            "301cdc35cce54f4288217afe033ad63e",
            "43e5d654c9a8400e8d15e271205f165f",
            "c5bba1d6756846f389a13bdff1b6b60f",
            "5226c22f186d4a12b06ca42b41aa3faa",
            "487d96a1af3045b28e35bf1208bbeef0",
            "5735d59bc1a148b3ac5b66413bf7676d",
            "b9cf685041384a93b14fc5dfd44e1ef0",
            "3ebe806645d24f8a97a3d503455d4fb1",
            "0423002f4c134531bc9720ffbd6377f0",
            "35925ccf286542bfa7a653ed07f28a41",
            "a81f28faa53848e2bc49ec4a2ded7bd6",
            "9861d918a4b048ceaa839da3c2672c4e",
            "3f177767673743e499d02a292fec2a56",
            "0482367369b94f28b595b3317b736a4e",
            "881869c12e2e472fab2dfe100f16003d",
            "ea7cae857b58466f891bde78dd3c0356",
            "8428739bf0a245869f9c925b790aa264",
            "66889a7460a443f0b479ae4d70d25117",
            "32cc4a8448ec4978a74eb3e901c57157",
            "ea6c8a1d1ba9459ebf2dfb896c9e48f9",
            "e008674fc1b64a55b03d0bdcfe3347ed",
            "ddbacf025c1b48af8d8fceb1e15a0e2c",
            "8e5e242add0749d580d59abfb968f87e",
            "078cbd5db1cd46d9b2a2c51993c1f4ad"
          ]
        },
        "id": "TW64YIhabbxW",
        "outputId": "09dfa97e-ecc2-4aa5-9f28-d44162fc4858"
      },
      "execution_count": null,
      "outputs": [
        {
          "output_type": "display_data",
          "data": {
            "text/plain": [
              "Map:   0%|          | 0/40000 [00:00<?, ? examples/s]"
            ],
            "application/vnd.jupyter.widget-view+json": {
              "version_major": 2,
              "version_minor": 0,
              "model_id": "11b0b85c2de84b1980c53f70ad0cb62d"
            }
          },
          "metadata": {}
        },
        {
          "output_type": "stream",
          "name": "stderr",
          "text": [
            "Token indices sequence length is longer than the specified maximum sequence length for this model (1384 > 512). Running this sequence through the model will result in indexing errors\n"
          ]
        },
        {
          "output_type": "display_data",
          "data": {
            "text/plain": [
              "Map:   0%|          | 0/5000 [00:00<?, ? examples/s]"
            ],
            "application/vnd.jupyter.widget-view+json": {
              "version_major": 2,
              "version_minor": 0,
              "model_id": "c5bba1d6756846f389a13bdff1b6b60f"
            }
          },
          "metadata": {}
        },
        {
          "output_type": "display_data",
          "data": {
            "text/plain": [
              "Map:   0%|          | 0/5000 [00:00<?, ? examples/s]"
            ],
            "application/vnd.jupyter.widget-view+json": {
              "version_major": 2,
              "version_minor": 0,
              "model_id": "0482367369b94f28b595b3317b736a4e"
            }
          },
          "metadata": {}
        },
        {
          "output_type": "stream",
          "name": "stdout",
          "text": [
            "Max length in train: 3157\n",
            "Min length in train: 10\n",
            "Max length in val: 2315\n",
            "Min length in val: 13\n",
            "Max length in test: 3035\n",
            "Min length in test: 14\n",
            "50th percentile: 232.0\n",
            "75th percentile: 378.0\n",
            "90th percentile: 610.0\n",
            "95th percentile: 794.0\n",
            "99th percentile: 1198.0\n"
          ]
        }
      ]
    },
    {
      "cell_type": "code",
      "source": [
        "#Data tokenization\n",
        "\n",
        "def preprocess(df, truncation=True):\n",
        "    return tokenizer(df['text'], truncation=True, padding=True,max_length=512)\n"
      ],
      "metadata": {
        "id": "Isx4IW0NU7CE"
      },
      "execution_count": null,
      "outputs": []
    },
    {
      "cell_type": "code",
      "source": [
        "#Tokenizing all three datasets\n",
        "tokenized_datasets = raw_datasets.map(preprocess, batched=True)"
      ],
      "metadata": {
        "colab": {
          "base_uri": "https://localhost:8080/",
          "height": 113,
          "referenced_widgets": [
            "5a8d4ccfec7643bfb98088e3970847bb",
            "dfe55df682734a3a8022c0a7a5a3581c",
            "d5fa458347ca442681de3c5aa9cc5d1b",
            "17f4313925ba49e38b0e8bdcad8f76f5",
            "ac73b598a11543c6b99973e4caeb0a46",
            "539da4c3a4a34c59b52a97d265a603ad",
            "f5dbc64f410e41919093c7bbc674ea57",
            "091293ecaee4459dbc932910f8c31bed",
            "a02ac9ca6bf14b74a1f2fd9f9d71ee3f",
            "27b9eeef1ee242e39e3aa3b3b8a6a3c9",
            "6e2ff05717ef41db98a8b960955eb246",
            "5d3ccbf7a1ac402ebfe67612278b7a57",
            "ba7ae7a341f142d7b73d1d58d80126c9",
            "ef21671a0d374382aec92f094e999b8d",
            "a9e9040caf0b4510b0f05a53dd7fadec",
            "0bb84c4a2a174b00b5c7ea5b4c6866a2",
            "7a1ccceebf5543618daacfeb0fc57686",
            "14b0e8cc365347c7a2356fec43909f7d",
            "586a27ad63064628ae339a9be7e79da4",
            "e7da88bd58e54ff2a4929463827b54a5",
            "e28aa2ad588c42b19f5a6d60316d561a",
            "8ed0e56758b64ce2898279c86f5b4827",
            "5d059bf9bc0848e5924ca5c52dce01fd",
            "cf2971bd6f164bdb809ff92243716991",
            "8bcdf5de142a41cca0fa01b81c2910c8",
            "347d82c4f1fa4ccd94d27ef74346a9a3",
            "695439c82f564164bb9688bde353586e",
            "0f3543f7c61e419c9e8642522bb2fdec",
            "5ac2e417ea944f15aedfcbc9cc4b11a1",
            "23fedef9eed948ef81d992d8d858875a",
            "6766677dd0104c56ab8bdf664ab412ee",
            "3c6d68d099ca49349236923cea360c66",
            "a6e6af1445a84f4f968cb4fd9f74d5ae"
          ]
        },
        "id": "ErNKlvLbVv-6",
        "outputId": "59a9e01a-8401-4fab-83e9-393fcb417b9f"
      },
      "execution_count": null,
      "outputs": [
        {
          "output_type": "display_data",
          "data": {
            "text/plain": [
              "Map:   0%|          | 0/40000 [00:00<?, ? examples/s]"
            ],
            "application/vnd.jupyter.widget-view+json": {
              "version_major": 2,
              "version_minor": 0,
              "model_id": "5a8d4ccfec7643bfb98088e3970847bb"
            }
          },
          "metadata": {}
        },
        {
          "output_type": "display_data",
          "data": {
            "text/plain": [
              "Map:   0%|          | 0/5000 [00:00<?, ? examples/s]"
            ],
            "application/vnd.jupyter.widget-view+json": {
              "version_major": 2,
              "version_minor": 0,
              "model_id": "5d3ccbf7a1ac402ebfe67612278b7a57"
            }
          },
          "metadata": {}
        },
        {
          "output_type": "display_data",
          "data": {
            "text/plain": [
              "Map:   0%|          | 0/5000 [00:00<?, ? examples/s]"
            ],
            "application/vnd.jupyter.widget-view+json": {
              "version_major": 2,
              "version_minor": 0,
              "model_id": "5d059bf9bc0848e5924ca5c52dce01fd"
            }
          },
          "metadata": {}
        }
      ]
    },
    {
      "cell_type": "code",
      "source": [
        "if 'label' in tokenized_datasets[\"train\"].column_names:\n",
        "    tokenized_datasets = tokenized_datasets.rename_column(\"label\", \"labels\")"
      ],
      "metadata": {
        "id": "NTipqQgMb38X"
      },
      "execution_count": null,
      "outputs": []
    },
    {
      "cell_type": "code",
      "source": [
        "#Create tensors\n",
        "\n",
        "tokenized_datasets = tokenized_datasets.remove_columns([\"text\"])\n",
        "tokenized_datasets.set_format(\"torch\")\n"
      ],
      "metadata": {
        "id": "UwRI9fUkWMIb"
      },
      "execution_count": null,
      "outputs": []
    },
    {
      "cell_type": "code",
      "source": [
        "print(tokenized_datasets)"
      ],
      "metadata": {
        "colab": {
          "base_uri": "https://localhost:8080/"
        },
        "id": "E6vVvKSTWMQn",
        "outputId": "822eadbe-592c-44b2-df6c-402e8995be1c"
      },
      "execution_count": null,
      "outputs": [
        {
          "output_type": "stream",
          "name": "stdout",
          "text": [
            "DatasetDict({\n",
            "    train: Dataset({\n",
            "        features: ['labels', 'input_ids', 'attention_mask'],\n",
            "        num_rows: 40000\n",
            "    })\n",
            "    validation: Dataset({\n",
            "        features: ['labels', 'input_ids', 'attention_mask'],\n",
            "        num_rows: 5000\n",
            "    })\n",
            "    test: Dataset({\n",
            "        features: ['labels', 'input_ids', 'attention_mask'],\n",
            "        num_rows: 5000\n",
            "    })\n",
            "})\n"
          ]
        }
      ]
    },
    {
      "cell_type": "code",
      "source": [
        "labels = tokenized_datasets[\"train\"]['labels']\n",
        "print(labels.unique(return_counts=True))\n",
        "\n"
      ],
      "metadata": {
        "colab": {
          "base_uri": "https://localhost:8080/"
        },
        "id": "cMkx2-Cak5La",
        "outputId": "06d00cb2-2dfb-4875-8296-49e78eb93e21"
      },
      "execution_count": null,
      "outputs": [
        {
          "output_type": "stream",
          "name": "stdout",
          "text": [
            "(tensor([0, 1]), tensor([20019, 19981]))\n"
          ]
        }
      ]
    },
    {
      "cell_type": "code",
      "source": [
        "labels = tokenized_datasets[\"validation\"]['labels']\n",
        "print(labels.unique(return_counts=True))"
      ],
      "metadata": {
        "colab": {
          "base_uri": "https://localhost:8080/"
        },
        "id": "KGdwGKqOJ_D8",
        "outputId": "08a22075-967a-42f0-a24c-40b5ca80baf9"
      },
      "execution_count": null,
      "outputs": [
        {
          "output_type": "stream",
          "name": "stdout",
          "text": [
            "(tensor([0, 1]), tensor([2486, 2514]))\n"
          ]
        }
      ]
    },
    {
      "cell_type": "code",
      "source": [
        "labels = tokenized_datasets[\"test\"]['labels']\n",
        "print(labels.unique(return_counts=True))"
      ],
      "metadata": {
        "colab": {
          "base_uri": "https://localhost:8080/"
        },
        "id": "OQXk7ReMKNYI",
        "outputId": "87a78f31-f5d2-4098-8eaa-860067895a0f"
      },
      "execution_count": null,
      "outputs": [
        {
          "output_type": "stream",
          "name": "stdout",
          "text": [
            "(tensor([0, 1]), tensor([2495, 2505]))\n"
          ]
        }
      ]
    },
    {
      "cell_type": "code",
      "source": [
        "train_dataset = tokenized_datasets[\"train\"]\n",
        "val_dataset = tokenized_datasets[\"validation\"]\n",
        "test_dataset = tokenized_datasets[\"test\"]"
      ],
      "metadata": {
        "id": "Blrl2t33WMVD"
      },
      "execution_count": null,
      "outputs": []
    },
    {
      "cell_type": "code",
      "source": [
        "def compute_metrics(eval_pred):\n",
        "    logits, labels = eval_pred\n",
        "    preds = logits.argmax(axis=-1)\n",
        "    acc = accuracy_score(labels, preds)\n",
        "    precision, recall, f1, _ = precision_recall_fscore_support(labels, preds, average='weighted', zero_division=0)\n",
        "    return {\n",
        "        \"accuracy\": acc,\n",
        "        \"precision\": precision,\n",
        "        \"recall\": recall,\n",
        "        \"f1\": f1\n",
        "    }"
      ],
      "metadata": {
        "id": "4wFVu2iEZLgo"
      },
      "execution_count": null,
      "outputs": []
    },
    {
      "cell_type": "code",
      "source": [
        "sweep_config = {\n",
        "    'method': 'random',\n",
        "    'metric': {\n",
        "        'name': 'loss',\n",
        "        'goal': 'minimize'\n",
        "    },\n",
        "    'parameters': {\n",
        "        'per_device_train_batch_size': {\n",
        "            'values': [16, 32, 64]\n",
        "        },\n",
        "        'per_device_eval_batch_size': {\n",
        "            'values': [16, 32, 64]\n",
        "        },\n",
        "        'decay_rate': {\n",
        "            'values': [0.01, 0.001, 0.0001]\n",
        "        },\n",
        "        'num_train_epochs': {\n",
        "            'values': [3, 5, 10, 15]\n",
        "        },\n",
        "        'learning_rate': {\n",
        "            'values': [1e-6, 2e-6, 5e-6, 1e-5, 2e-5, 3e-5, 5e-5, 1e-4]\n",
        "        },\n",
        "        'optimizer': {\n",
        "            'values': ['adamw_torch', 'adam', 'sgd', 'rmsprop', 'adagrad']\n",
        "        }\n",
        "    }\n",
        "}\n"
      ],
      "metadata": {
        "id": "KgwYPDawgjET"
      },
      "execution_count": null,
      "outputs": []
    },
    {
      "cell_type": "code",
      "source": [
        "# Data collator for dynamic padding\n",
        "data_collator = DataCollatorWithPadding(tokenizer=tokenizer)"
      ],
      "metadata": {
        "id": "tXMXB4npZLah"
      },
      "execution_count": null,
      "outputs": []
    },
    {
      "cell_type": "code",
      "source": [
        "import wandb\n",
        "from transformers import TrainingArguments, Trainer\n",
        "\n",
        "def train_with_hyperparams(config=None):\n",
        "    # Initialize wandb run with config\n",
        "    with wandb.init(config=config, project=\"IMDB-sentiment-project\"):\n",
        "        config = wandb.config\n",
        "\n",
        "        # Set up training arguments, using values from the sweep config\n",
        "        training_args = TrainingArguments(\n",
        "            output_dir=\"output\",\n",
        "            evaluation_strategy=\"epoch\",\n",
        "            save_strategy=\"epoch\",\n",
        "            learning_rate=config.learning_rate,\n",
        "            per_device_train_batch_size=config.per_device_train_batch_size,\n",
        "            per_device_eval_batch_size=config.per_device_eval_batch_size,\n",
        "            num_train_epochs=config.num_train_epochs,\n",
        "            weight_decay=0.01,\n",
        "            load_best_model_at_end=True,\n",
        "            metric_for_best_model=\"accuracy\",\n",
        "            logging_dir=\"./logs\",\n",
        "            logging_strategy=\"steps\",\n",
        "            logging_steps=100,\n",
        "            gradient_checkpointing=False,\n",
        "            fp16=False,\n",
        "            bf16=False,\n",
        "            optim=config.optimizer,\n",
        "            report_to=\"wandb\",\n",
        "            run_name=f\"deberta-run-lr{config.learning_rate}-bs{config.per_device_train_batch_size}-ep{config.num_train_epochs}\"\n",
        "        )\n",
        "\n",
        "        trainer = Trainer(\n",
        "            model=model,\n",
        "            args=training_args,\n",
        "            train_dataset=train_dataset,\n",
        "            eval_dataset=val_dataset,\n",
        "            tokenizer=tokenizer,\n",
        "            data_collator=data_collator,\n",
        "            compute_metrics=compute_metrics\n",
        "        )\n",
        "\n",
        "        trainer.train()\n",
        "        val_results = trainer.evaluate()\n",
        "        wandb.log(val_results)\n",
        "\n",
        "        test_results = trainer.predict(test_dataset)\n",
        "        wandb.log({\"test_accuracy\": test_results.metrics[\"test_accuracy\"],\n",
        "                   \"test_f1\": test_results.metrics[\"test_f1\"]})\n",
        "\n",
        "        # Print results if you want\n",
        "        print(\"Validation Results:\", val_results)\n",
        "        print(\"Test Results:\", test_results.metrics)\n"
      ],
      "metadata": {
        "id": "A4gWS3v-WMYj"
      },
      "execution_count": null,
      "outputs": []
    },
    {
      "cell_type": "code",
      "source": [
        "sweep_id = wandb.sweep(sweep_config, project=\"IMDB-sentiment-project\")"
      ],
      "metadata": {
        "colab": {
          "base_uri": "https://localhost:8080/"
        },
        "id": "MipPwI-WkbBr",
        "outputId": "5b24fc34-5732-4d0f-fcca-64942eb032b0"
      },
      "execution_count": null,
      "outputs": [
        {
          "output_type": "stream",
          "name": "stdout",
          "text": [
            "Create sweep with ID: qita39jj\n",
            "Sweep URL: https://wandb.ai/jubacochran-booking-com/IMDB-sentiment-project/sweeps/qita39jj\n"
          ]
        }
      ]
    },
    {
      "cell_type": "code",
      "source": [
        "wandb.agent(sweep_id, function=train_with_hyperparams, count=10)"
      ],
      "metadata": {
        "colab": {
          "base_uri": "https://localhost:8080/",
          "height": 1000
        },
        "id": "QPeQDNMDklKg",
        "outputId": "e71d8684-f97b-4ecf-8147-af95ac5ba430"
      },
      "execution_count": null,
      "outputs": [
        {
          "output_type": "stream",
          "name": "stderr",
          "text": [
            "\u001b[34m\u001b[1mwandb\u001b[0m: Agent Starting Run: 879oxtrv with config:\n",
            "\u001b[34m\u001b[1mwandb\u001b[0m: \tdecay_rate: 0.0001\n",
            "\u001b[34m\u001b[1mwandb\u001b[0m: \tlearning_rate: 5e-05\n",
            "\u001b[34m\u001b[1mwandb\u001b[0m: \tnum_train_epochs: 5\n",
            "\u001b[34m\u001b[1mwandb\u001b[0m: \toptimizer: adamw_torch\n",
            "\u001b[34m\u001b[1mwandb\u001b[0m: \tper_device_eval_batch_size: 16\n",
            "\u001b[34m\u001b[1mwandb\u001b[0m: \tper_device_train_batch_size: 16\n",
            "\u001b[34m\u001b[1mwandb\u001b[0m: \u001b[33mWARNING\u001b[0m Ignored wandb.init() arg project when running a sweep.\n"
          ]
        },
        {
          "output_type": "display_data",
          "data": {
            "text/plain": [
              "<IPython.core.display.HTML object>"
            ],
            "text/html": [
              "Tracking run with wandb version 0.18.7"
            ]
          },
          "metadata": {}
        },
        {
          "output_type": "display_data",
          "data": {
            "text/plain": [
              "<IPython.core.display.HTML object>"
            ],
            "text/html": [
              "Run data is saved locally in <code>/content/wandb/run-20241213_041623-879oxtrv</code>"
            ]
          },
          "metadata": {}
        },
        {
          "output_type": "display_data",
          "data": {
            "text/plain": [
              "<IPython.core.display.HTML object>"
            ],
            "text/html": [
              "Syncing run <strong><a href='https://wandb.ai/jubacochran-booking-com/IMDB-sentiment-project/runs/879oxtrv' target=\"_blank\">major-sweep-1</a></strong> to <a href='https://wandb.ai/jubacochran-booking-com/IMDB-sentiment-project' target=\"_blank\">Weights & Biases</a> (<a href='https://wandb.me/developer-guide' target=\"_blank\">docs</a>)<br/>Sweep page: <a href='https://wandb.ai/jubacochran-booking-com/IMDB-sentiment-project/sweeps/qita39jj' target=\"_blank\">https://wandb.ai/jubacochran-booking-com/IMDB-sentiment-project/sweeps/qita39jj</a>"
            ]
          },
          "metadata": {}
        },
        {
          "output_type": "display_data",
          "data": {
            "text/plain": [
              "<IPython.core.display.HTML object>"
            ],
            "text/html": [
              " View project at <a href='https://wandb.ai/jubacochran-booking-com/IMDB-sentiment-project' target=\"_blank\">https://wandb.ai/jubacochran-booking-com/IMDB-sentiment-project</a>"
            ]
          },
          "metadata": {}
        },
        {
          "output_type": "display_data",
          "data": {
            "text/plain": [
              "<IPython.core.display.HTML object>"
            ],
            "text/html": [
              " View sweep at <a href='https://wandb.ai/jubacochran-booking-com/IMDB-sentiment-project/sweeps/qita39jj' target=\"_blank\">https://wandb.ai/jubacochran-booking-com/IMDB-sentiment-project/sweeps/qita39jj</a>"
            ]
          },
          "metadata": {}
        },
        {
          "output_type": "display_data",
          "data": {
            "text/plain": [
              "<IPython.core.display.HTML object>"
            ],
            "text/html": [
              " View run at <a href='https://wandb.ai/jubacochran-booking-com/IMDB-sentiment-project/runs/879oxtrv' target=\"_blank\">https://wandb.ai/jubacochran-booking-com/IMDB-sentiment-project/runs/879oxtrv</a>"
            ]
          },
          "metadata": {}
        },
        {
          "output_type": "stream",
          "name": "stderr",
          "text": [
            "/usr/local/lib/python3.10/dist-packages/transformers/training_args.py:1568: FutureWarning: `evaluation_strategy` is deprecated and will be removed in version 4.46 of 🤗 Transformers. Use `eval_strategy` instead\n",
            "  warnings.warn(\n",
            "<ipython-input-44-ca50632647f1>:32: FutureWarning: `tokenizer` is deprecated and will be removed in version 5.0.0 for `Trainer.__init__`. Use `processing_class` instead.\n",
            "  trainer = Trainer(\n",
            "/usr/local/lib/python3.10/dist-packages/transformers/optimization.py:591: FutureWarning: This implementation of AdamW is deprecated and will be removed in a future version. Use the PyTorch implementation torch.optim.AdamW instead, or set `no_deprecation_warning=True` to disable this warning\n",
            "  warnings.warn(\n",
            "\u001b[34m\u001b[1mwandb\u001b[0m: \u001b[33mWARNING\u001b[0m Config item 'per_device_train_batch_size' was locked by 'sweep' (ignored update).\n",
            "\u001b[34m\u001b[1mwandb\u001b[0m: \u001b[33mWARNING\u001b[0m Config item 'per_device_eval_batch_size' was locked by 'sweep' (ignored update).\n",
            "\u001b[34m\u001b[1mwandb\u001b[0m: \u001b[33mWARNING\u001b[0m Config item 'learning_rate' was locked by 'sweep' (ignored update).\n",
            "\u001b[34m\u001b[1mwandb\u001b[0m: \u001b[33mWARNING\u001b[0m Config item 'num_train_epochs' was locked by 'sweep' (ignored update).\n"
          ]
        },
        {
          "output_type": "display_data",
          "data": {
            "text/plain": [
              "<IPython.core.display.HTML object>"
            ],
            "text/html": [
              "\n",
              "    <div>\n",
              "      \n",
              "      <progress value='12500' max='12500' style='width:300px; height:20px; vertical-align: middle;'></progress>\n",
              "      [12500/12500 36:04, Epoch 5/5]\n",
              "    </div>\n",
              "    <table border=\"1\" class=\"dataframe\">\n",
              "  <thead>\n",
              " <tr style=\"text-align: left;\">\n",
              "      <th>Epoch</th>\n",
              "      <th>Training Loss</th>\n",
              "      <th>Validation Loss</th>\n",
              "      <th>Accuracy</th>\n",
              "      <th>Precision</th>\n",
              "      <th>Recall</th>\n",
              "      <th>F1</th>\n",
              "    </tr>\n",
              "  </thead>\n",
              "  <tbody>\n",
              "    <tr>\n",
              "      <td>1</td>\n",
              "      <td>0.014300</td>\n",
              "      <td>0.832967</td>\n",
              "      <td>0.919400</td>\n",
              "      <td>0.919400</td>\n",
              "      <td>0.919400</td>\n",
              "      <td>0.919400</td>\n",
              "    </tr>\n",
              "    <tr>\n",
              "      <td>2</td>\n",
              "      <td>0.015400</td>\n",
              "      <td>0.815482</td>\n",
              "      <td>0.919000</td>\n",
              "      <td>0.919140</td>\n",
              "      <td>0.919000</td>\n",
              "      <td>0.918989</td>\n",
              "    </tr>\n",
              "    <tr>\n",
              "      <td>3</td>\n",
              "      <td>0.000000</td>\n",
              "      <td>0.764985</td>\n",
              "      <td>0.920600</td>\n",
              "      <td>0.921270</td>\n",
              "      <td>0.920600</td>\n",
              "      <td>0.920559</td>\n",
              "    </tr>\n",
              "    <tr>\n",
              "      <td>4</td>\n",
              "      <td>0.002300</td>\n",
              "      <td>0.889028</td>\n",
              "      <td>0.916800</td>\n",
              "      <td>0.918123</td>\n",
              "      <td>0.916800</td>\n",
              "      <td>0.916720</td>\n",
              "    </tr>\n",
              "    <tr>\n",
              "      <td>5</td>\n",
              "      <td>0.000000</td>\n",
              "      <td>0.934853</td>\n",
              "      <td>0.921000</td>\n",
              "      <td>0.921428</td>\n",
              "      <td>0.921000</td>\n",
              "      <td>0.920972</td>\n",
              "    </tr>\n",
              "  </tbody>\n",
              "</table><p>"
            ]
          },
          "metadata": {}
        },
        {
          "output_type": "display_data",
          "data": {
            "text/plain": [
              "<IPython.core.display.HTML object>"
            ],
            "text/html": []
          },
          "metadata": {}
        },
        {
          "output_type": "stream",
          "name": "stdout",
          "text": [
            "Validation Results: {'eval_loss': 0.9348529577255249, 'eval_accuracy': 0.921, 'eval_precision': 0.9214282335692741, 'eval_recall': 0.921, 'eval_f1': 0.9209720870946708, 'eval_runtime': 17.0885, 'eval_samples_per_second': 292.595, 'eval_steps_per_second': 18.316, 'epoch': 5.0}\n",
            "Test Results: {'test_loss': 1.0063059329986572, 'test_accuracy': 0.9144, 'test_precision': 0.9151113744383523, 'test_recall': 0.9144, 'test_f1': 0.9143593839421484, 'test_runtime': 17.457, 'test_samples_per_second': 286.418, 'test_steps_per_second': 17.93}\n"
          ]
        },
        {
          "output_type": "display_data",
          "data": {
            "text/plain": [
              "<IPython.core.display.HTML object>"
            ],
            "text/html": [
              "\n",
              "    <style>\n",
              "        .wandb-row {\n",
              "            display: flex;\n",
              "            flex-direction: row;\n",
              "            flex-wrap: wrap;\n",
              "            justify-content: flex-start;\n",
              "            width: 100%;\n",
              "        }\n",
              "        .wandb-col {\n",
              "            display: flex;\n",
              "            flex-direction: column;\n",
              "            flex-basis: 100%;\n",
              "            flex: 1;\n",
              "            padding: 10px;\n",
              "        }\n",
              "    </style>\n",
              "<div class=\"wandb-row\"><div class=\"wandb-col\"><h3>Run history:</h3><br/><table class=\"wandb\"><tr><td>epoch</td><td>▁</td></tr><tr><td>eval/accuracy</td><td>▅▅▇▁██</td></tr><tr><td>eval/f1</td><td>▅▅▇▁██</td></tr><tr><td>eval/loss</td><td>▄▃▁▆██</td></tr><tr><td>eval/precision</td><td>▄▃█▁██</td></tr><tr><td>eval/recall</td><td>▅▅▇▁██</td></tr><tr><td>eval/runtime</td><td>▁▁▂▇██</td></tr><tr><td>eval/samples_per_second</td><td>██▇▂▁▁</td></tr><tr><td>eval/steps_per_second</td><td>██▇▂▁▁</td></tr><tr><td>eval_accuracy</td><td>▁</td></tr><tr><td>eval_f1</td><td>▁</td></tr><tr><td>eval_loss</td><td>▁</td></tr><tr><td>eval_precision</td><td>▁</td></tr><tr><td>eval_recall</td><td>▁</td></tr><tr><td>eval_runtime</td><td>▁</td></tr><tr><td>eval_samples_per_second</td><td>▁</td></tr><tr><td>eval_steps_per_second</td><td>▁</td></tr><tr><td>test/accuracy</td><td>▁</td></tr><tr><td>test/f1</td><td>▁</td></tr><tr><td>test/loss</td><td>▁</td></tr><tr><td>test/precision</td><td>▁</td></tr><tr><td>test/recall</td><td>▁</td></tr><tr><td>test/runtime</td><td>▁</td></tr><tr><td>test/samples_per_second</td><td>▁</td></tr><tr><td>test/steps_per_second</td><td>▁</td></tr><tr><td>test_accuracy</td><td>▁</td></tr><tr><td>test_f1</td><td>▁</td></tr><tr><td>train/epoch</td><td>▁▁▁▁▂▂▂▂▂▂▃▃▃▃▃▄▄▄▄▄▄▄▅▅▅▆▆▆▆▆▆▆▇▇▇▇▇▇██</td></tr><tr><td>train/global_step</td><td>▁▁▁▁▁▂▂▂▂▂▃▃▃▃▄▄▄▄▄▅▅▅▅▅▅▆▆▆▆▇▇▇▇▇▇▇▇▇██</td></tr><tr><td>train/grad_norm</td><td>▁▁▃▁▁▁▁▁▁▁▁▁▁▁▁█▁▁▁▁▁▁▁▁▁▁▁▁▁▁▁▁▁▁▁▁▁▁▁▁</td></tr><tr><td>train/learning_rate</td><td>████▇▇▇▇▇▇▆▆▆▆▆▅▅▅▅▅▅▄▄▄▃▃▂▂▂▂▂▂▂▂▁▁▁▁▁▁</td></tr><tr><td>train/loss</td><td>▅█▃▆▅▂▅▆▄▄▃▃▂▅▂▆▁█▃▃▃▂▃▁▄▁▄▂▁▂▃▃▁▁▁▃▁▂▁▁</td></tr></table><br/></div><div class=\"wandb-col\"><h3>Run summary:</h3><br/><table class=\"wandb\"><tr><td>epoch</td><td>5</td></tr><tr><td>eval/accuracy</td><td>0.921</td></tr><tr><td>eval/f1</td><td>0.92097</td></tr><tr><td>eval/loss</td><td>0.93485</td></tr><tr><td>eval/precision</td><td>0.92143</td></tr><tr><td>eval/recall</td><td>0.921</td></tr><tr><td>eval/runtime</td><td>17.0885</td></tr><tr><td>eval/samples_per_second</td><td>292.595</td></tr><tr><td>eval/steps_per_second</td><td>18.316</td></tr><tr><td>eval_accuracy</td><td>0.921</td></tr><tr><td>eval_f1</td><td>0.92097</td></tr><tr><td>eval_loss</td><td>0.93485</td></tr><tr><td>eval_precision</td><td>0.92143</td></tr><tr><td>eval_recall</td><td>0.921</td></tr><tr><td>eval_runtime</td><td>17.0885</td></tr><tr><td>eval_samples_per_second</td><td>292.595</td></tr><tr><td>eval_steps_per_second</td><td>18.316</td></tr><tr><td>test/accuracy</td><td>0.9144</td></tr><tr><td>test/f1</td><td>0.91436</td></tr><tr><td>test/loss</td><td>1.00631</td></tr><tr><td>test/precision</td><td>0.91511</td></tr><tr><td>test/recall</td><td>0.9144</td></tr><tr><td>test/runtime</td><td>17.457</td></tr><tr><td>test/samples_per_second</td><td>286.418</td></tr><tr><td>test/steps_per_second</td><td>17.93</td></tr><tr><td>test_accuracy</td><td>0.9144</td></tr><tr><td>test_f1</td><td>0.91436</td></tr><tr><td>total_flos</td><td>2.64934797312e+16</td></tr><tr><td>train/epoch</td><td>5</td></tr><tr><td>train/global_step</td><td>12500</td></tr><tr><td>train/grad_norm</td><td>1e-05</td></tr><tr><td>train/learning_rate</td><td>0</td></tr><tr><td>train/loss</td><td>0</td></tr><tr><td>train_loss</td><td>0.00836</td></tr><tr><td>train_runtime</td><td>2165.0322</td></tr><tr><td>train_samples_per_second</td><td>92.377</td></tr><tr><td>train_steps_per_second</td><td>5.774</td></tr></table><br/></div></div>"
            ]
          },
          "metadata": {}
        },
        {
          "output_type": "display_data",
          "data": {
            "text/plain": [
              "<IPython.core.display.HTML object>"
            ],
            "text/html": [
              " View run <strong style=\"color:#cdcd00\">major-sweep-1</strong> at: <a href='https://wandb.ai/jubacochran-booking-com/IMDB-sentiment-project/runs/879oxtrv' target=\"_blank\">https://wandb.ai/jubacochran-booking-com/IMDB-sentiment-project/runs/879oxtrv</a><br/> View project at: <a href='https://wandb.ai/jubacochran-booking-com/IMDB-sentiment-project' target=\"_blank\">https://wandb.ai/jubacochran-booking-com/IMDB-sentiment-project</a><br/>Synced 5 W&B file(s), 0 media file(s), 0 artifact file(s) and 0 other file(s)"
            ]
          },
          "metadata": {}
        },
        {
          "output_type": "display_data",
          "data": {
            "text/plain": [
              "<IPython.core.display.HTML object>"
            ],
            "text/html": [
              "Find logs at: <code>./wandb/run-20241213_041623-879oxtrv/logs</code>"
            ]
          },
          "metadata": {}
        },
        {
          "output_type": "stream",
          "name": "stderr",
          "text": [
            "\u001b[34m\u001b[1mwandb\u001b[0m: Agent Starting Run: 14x6m5dq with config:\n",
            "\u001b[34m\u001b[1mwandb\u001b[0m: \tdecay_rate: 0.0001\n",
            "\u001b[34m\u001b[1mwandb\u001b[0m: \tlearning_rate: 5e-05\n",
            "\u001b[34m\u001b[1mwandb\u001b[0m: \tnum_train_epochs: 5\n",
            "\u001b[34m\u001b[1mwandb\u001b[0m: \toptimizer: adamw_torch\n",
            "\u001b[34m\u001b[1mwandb\u001b[0m: \tper_device_eval_batch_size: 32\n",
            "\u001b[34m\u001b[1mwandb\u001b[0m: \tper_device_train_batch_size: 64\n",
            "\u001b[34m\u001b[1mwandb\u001b[0m: \u001b[33mWARNING\u001b[0m Ignored wandb.init() arg project when running a sweep.\n"
          ]
        },
        {
          "output_type": "display_data",
          "data": {
            "text/plain": [
              "<IPython.core.display.HTML object>"
            ],
            "text/html": [
              "Tracking run with wandb version 0.18.7"
            ]
          },
          "metadata": {}
        },
        {
          "output_type": "display_data",
          "data": {
            "text/plain": [
              "<IPython.core.display.HTML object>"
            ],
            "text/html": [
              "Run data is saved locally in <code>/content/wandb/run-20241213_045311-14x6m5dq</code>"
            ]
          },
          "metadata": {}
        },
        {
          "output_type": "display_data",
          "data": {
            "text/plain": [
              "<IPython.core.display.HTML object>"
            ],
            "text/html": [
              "Syncing run <strong><a href='https://wandb.ai/jubacochran-booking-com/IMDB-sentiment-project/runs/14x6m5dq' target=\"_blank\">snowy-sweep-2</a></strong> to <a href='https://wandb.ai/jubacochran-booking-com/IMDB-sentiment-project' target=\"_blank\">Weights & Biases</a> (<a href='https://wandb.me/developer-guide' target=\"_blank\">docs</a>)<br/>Sweep page: <a href='https://wandb.ai/jubacochran-booking-com/IMDB-sentiment-project/sweeps/qita39jj' target=\"_blank\">https://wandb.ai/jubacochran-booking-com/IMDB-sentiment-project/sweeps/qita39jj</a>"
            ]
          },
          "metadata": {}
        },
        {
          "output_type": "display_data",
          "data": {
            "text/plain": [
              "<IPython.core.display.HTML object>"
            ],
            "text/html": [
              " View project at <a href='https://wandb.ai/jubacochran-booking-com/IMDB-sentiment-project' target=\"_blank\">https://wandb.ai/jubacochran-booking-com/IMDB-sentiment-project</a>"
            ]
          },
          "metadata": {}
        },
        {
          "output_type": "display_data",
          "data": {
            "text/plain": [
              "<IPython.core.display.HTML object>"
            ],
            "text/html": [
              " View sweep at <a href='https://wandb.ai/jubacochran-booking-com/IMDB-sentiment-project/sweeps/qita39jj' target=\"_blank\">https://wandb.ai/jubacochran-booking-com/IMDB-sentiment-project/sweeps/qita39jj</a>"
            ]
          },
          "metadata": {}
        },
        {
          "output_type": "display_data",
          "data": {
            "text/plain": [
              "<IPython.core.display.HTML object>"
            ],
            "text/html": [
              " View run at <a href='https://wandb.ai/jubacochran-booking-com/IMDB-sentiment-project/runs/14x6m5dq' target=\"_blank\">https://wandb.ai/jubacochran-booking-com/IMDB-sentiment-project/runs/14x6m5dq</a>"
            ]
          },
          "metadata": {}
        },
        {
          "output_type": "stream",
          "name": "stderr",
          "text": [
            "/usr/local/lib/python3.10/dist-packages/transformers/training_args.py:1568: FutureWarning: `evaluation_strategy` is deprecated and will be removed in version 4.46 of 🤗 Transformers. Use `eval_strategy` instead\n",
            "  warnings.warn(\n",
            "<ipython-input-44-ca50632647f1>:32: FutureWarning: `tokenizer` is deprecated and will be removed in version 5.0.0 for `Trainer.__init__`. Use `processing_class` instead.\n",
            "  trainer = Trainer(\n",
            "/usr/local/lib/python3.10/dist-packages/transformers/optimization.py:591: FutureWarning: This implementation of AdamW is deprecated and will be removed in a future version. Use the PyTorch implementation torch.optim.AdamW instead, or set `no_deprecation_warning=True` to disable this warning\n",
            "  warnings.warn(\n",
            "\u001b[34m\u001b[1mwandb\u001b[0m: \u001b[33mWARNING\u001b[0m Config item 'per_device_train_batch_size' was locked by 'sweep' (ignored update).\n",
            "\u001b[34m\u001b[1mwandb\u001b[0m: \u001b[33mWARNING\u001b[0m Config item 'per_device_eval_batch_size' was locked by 'sweep' (ignored update).\n",
            "\u001b[34m\u001b[1mwandb\u001b[0m: \u001b[33mWARNING\u001b[0m Config item 'learning_rate' was locked by 'sweep' (ignored update).\n",
            "\u001b[34m\u001b[1mwandb\u001b[0m: \u001b[33mWARNING\u001b[0m Config item 'num_train_epochs' was locked by 'sweep' (ignored update).\n"
          ]
        },
        {
          "output_type": "display_data",
          "data": {
            "text/plain": [
              "<IPython.core.display.HTML object>"
            ],
            "text/html": [
              "\n",
              "    <div>\n",
              "      \n",
              "      <progress value='3125' max='3125' style='width:300px; height:20px; vertical-align: middle;'></progress>\n",
              "      [3125/3125 32:18, Epoch 5/5]\n",
              "    </div>\n",
              "    <table border=\"1\" class=\"dataframe\">\n",
              "  <thead>\n",
              " <tr style=\"text-align: left;\">\n",
              "      <th>Epoch</th>\n",
              "      <th>Training Loss</th>\n",
              "      <th>Validation Loss</th>\n",
              "      <th>Accuracy</th>\n",
              "      <th>Precision</th>\n",
              "      <th>Recall</th>\n",
              "      <th>F1</th>\n",
              "    </tr>\n",
              "  </thead>\n",
              "  <tbody>\n",
              "    <tr>\n",
              "      <td>1</td>\n",
              "      <td>0.002300</td>\n",
              "      <td>0.741213</td>\n",
              "      <td>0.921400</td>\n",
              "      <td>0.922444</td>\n",
              "      <td>0.921400</td>\n",
              "      <td>0.921363</td>\n",
              "    </tr>\n",
              "    <tr>\n",
              "      <td>2</td>\n",
              "      <td>0.004100</td>\n",
              "      <td>0.778633</td>\n",
              "      <td>0.921400</td>\n",
              "      <td>0.921567</td>\n",
              "      <td>0.921400</td>\n",
              "      <td>0.921387</td>\n",
              "    </tr>\n",
              "    <tr>\n",
              "      <td>3</td>\n",
              "      <td>0.001400</td>\n",
              "      <td>0.838882</td>\n",
              "      <td>0.923200</td>\n",
              "      <td>0.923266</td>\n",
              "      <td>0.923200</td>\n",
              "      <td>0.923200</td>\n",
              "    </tr>\n",
              "    <tr>\n",
              "      <td>4</td>\n",
              "      <td>0.000600</td>\n",
              "      <td>0.911786</td>\n",
              "      <td>0.923800</td>\n",
              "      <td>0.924135</td>\n",
              "      <td>0.923800</td>\n",
              "      <td>0.923791</td>\n",
              "    </tr>\n",
              "    <tr>\n",
              "      <td>5</td>\n",
              "      <td>0.000000</td>\n",
              "      <td>0.921076</td>\n",
              "      <td>0.922600</td>\n",
              "      <td>0.922825</td>\n",
              "      <td>0.922600</td>\n",
              "      <td>0.922584</td>\n",
              "    </tr>\n",
              "  </tbody>\n",
              "</table><p>"
            ]
          },
          "metadata": {}
        },
        {
          "output_type": "display_data",
          "data": {
            "text/plain": [
              "<IPython.core.display.HTML object>"
            ],
            "text/html": []
          },
          "metadata": {}
        },
        {
          "output_type": "stream",
          "name": "stdout",
          "text": [
            "Validation Results: {'eval_loss': 0.9117861390113831, 'eval_accuracy': 0.9238, 'eval_precision': 0.9241347733903209, 'eval_recall': 0.9238, 'eval_f1': 0.9237913766281647, 'eval_runtime': 16.1862, 'eval_samples_per_second': 308.905, 'eval_steps_per_second': 9.7, 'epoch': 5.0}\n",
            "Test Results: {'test_loss': 1.018385410308838, 'test_accuracy': 0.9114, 'test_precision': 0.9115247852463834, 'test_recall': 0.9114, 'test_f1': 0.9113949708449302, 'test_runtime': 16.1171, 'test_samples_per_second': 310.229, 'test_steps_per_second': 9.741}\n"
          ]
        },
        {
          "output_type": "display_data",
          "data": {
            "text/plain": [
              "<IPython.core.display.HTML object>"
            ],
            "text/html": [
              "\n",
              "    <style>\n",
              "        .wandb-row {\n",
              "            display: flex;\n",
              "            flex-direction: row;\n",
              "            flex-wrap: wrap;\n",
              "            justify-content: flex-start;\n",
              "            width: 100%;\n",
              "        }\n",
              "        .wandb-col {\n",
              "            display: flex;\n",
              "            flex-direction: column;\n",
              "            flex-basis: 100%;\n",
              "            flex: 1;\n",
              "            padding: 10px;\n",
              "        }\n",
              "    </style>\n",
              "<div class=\"wandb-row\"><div class=\"wandb-col\"><h3>Run history:</h3><br/><table class=\"wandb\"><tr><td>epoch</td><td>▁</td></tr><tr><td>eval/accuracy</td><td>▁▁▆█▄█</td></tr><tr><td>eval/f1</td><td>▁▁▆█▅█</td></tr><tr><td>eval/loss</td><td>▁▂▅███</td></tr><tr><td>eval/precision</td><td>▃▁▆█▄█</td></tr><tr><td>eval/recall</td><td>▁▁▆█▄█</td></tr><tr><td>eval/runtime</td><td>▅▂▁▄▆█</td></tr><tr><td>eval/samples_per_second</td><td>▄▇█▅▃▁</td></tr><tr><td>eval/steps_per_second</td><td>▄▇█▅▃▁</td></tr><tr><td>eval_accuracy</td><td>▁</td></tr><tr><td>eval_f1</td><td>▁</td></tr><tr><td>eval_loss</td><td>▁</td></tr><tr><td>eval_precision</td><td>▁</td></tr><tr><td>eval_recall</td><td>▁</td></tr><tr><td>eval_runtime</td><td>▁</td></tr><tr><td>eval_samples_per_second</td><td>▁</td></tr><tr><td>eval_steps_per_second</td><td>▁</td></tr><tr><td>test/accuracy</td><td>▁</td></tr><tr><td>test/f1</td><td>▁</td></tr><tr><td>test/loss</td><td>▁</td></tr><tr><td>test/precision</td><td>▁</td></tr><tr><td>test/recall</td><td>▁</td></tr><tr><td>test/runtime</td><td>▁</td></tr><tr><td>test/samples_per_second</td><td>▁</td></tr><tr><td>test/steps_per_second</td><td>▁</td></tr><tr><td>test_accuracy</td><td>▁</td></tr><tr><td>test_f1</td><td>▁</td></tr><tr><td>train/epoch</td><td>▁▁▁▂▂▂▂▂▃▃▃▃▄▄▄▄▄▄▅▅▅▅▅▆▆▆▆▇▇▇▇▇▇█████</td></tr><tr><td>train/global_step</td><td>▁▁▁▂▂▂▂▂▃▃▃▃▄▄▄▄▄▄▅▅▅▅▅▆▆▆▆▇▇▇▇▇▇███████</td></tr><tr><td>train/grad_norm</td><td>▁▁▁▁▁▁█▁▁▁▁▁▁▁▁▁▁▁▁▁▁▁▂▁▁▁▁▁▁▁▁</td></tr><tr><td>train/learning_rate</td><td>███▇▇▇▇▆▆▆▆▅▅▅▅▄▄▄▄▄▃▃▃▃▂▂▂▂▁▁▁</td></tr><tr><td>train/loss</td><td>▅▆█▇▃▃▆▃▃▁▂▅▂▂▂▁▃▂▂▁▁▁▁▂▂▂▂▂▁▁▁</td></tr></table><br/></div><div class=\"wandb-col\"><h3>Run summary:</h3><br/><table class=\"wandb\"><tr><td>epoch</td><td>5</td></tr><tr><td>eval/accuracy</td><td>0.9238</td></tr><tr><td>eval/f1</td><td>0.92379</td></tr><tr><td>eval/loss</td><td>0.91179</td></tr><tr><td>eval/precision</td><td>0.92413</td></tr><tr><td>eval/recall</td><td>0.9238</td></tr><tr><td>eval/runtime</td><td>16.1862</td></tr><tr><td>eval/samples_per_second</td><td>308.905</td></tr><tr><td>eval/steps_per_second</td><td>9.7</td></tr><tr><td>eval_accuracy</td><td>0.9238</td></tr><tr><td>eval_f1</td><td>0.92379</td></tr><tr><td>eval_loss</td><td>0.91179</td></tr><tr><td>eval_precision</td><td>0.92413</td></tr><tr><td>eval_recall</td><td>0.9238</td></tr><tr><td>eval_runtime</td><td>16.1862</td></tr><tr><td>eval_samples_per_second</td><td>308.905</td></tr><tr><td>eval_steps_per_second</td><td>9.7</td></tr><tr><td>test/accuracy</td><td>0.9114</td></tr><tr><td>test/f1</td><td>0.91139</td></tr><tr><td>test/loss</td><td>1.01839</td></tr><tr><td>test/precision</td><td>0.91152</td></tr><tr><td>test/recall</td><td>0.9114</td></tr><tr><td>test/runtime</td><td>16.1171</td></tr><tr><td>test/samples_per_second</td><td>310.229</td></tr><tr><td>test/steps_per_second</td><td>9.741</td></tr><tr><td>test_accuracy</td><td>0.9114</td></tr><tr><td>test_f1</td><td>0.91139</td></tr><tr><td>total_flos</td><td>2.64934797312e+16</td></tr><tr><td>train/epoch</td><td>5</td></tr><tr><td>train/global_step</td><td>3125</td></tr><tr><td>train/grad_norm</td><td>0.00031</td></tr><tr><td>train/learning_rate</td><td>0.0</td></tr><tr><td>train/loss</td><td>0</td></tr><tr><td>train_loss</td><td>0.00186</td></tr><tr><td>train_runtime</td><td>1939.0564</td></tr><tr><td>train_samples_per_second</td><td>103.143</td></tr><tr><td>train_steps_per_second</td><td>1.612</td></tr></table><br/></div></div>"
            ]
          },
          "metadata": {}
        },
        {
          "output_type": "display_data",
          "data": {
            "text/plain": [
              "<IPython.core.display.HTML object>"
            ],
            "text/html": [
              " View run <strong style=\"color:#cdcd00\">snowy-sweep-2</strong> at: <a href='https://wandb.ai/jubacochran-booking-com/IMDB-sentiment-project/runs/14x6m5dq' target=\"_blank\">https://wandb.ai/jubacochran-booking-com/IMDB-sentiment-project/runs/14x6m5dq</a><br/> View project at: <a href='https://wandb.ai/jubacochran-booking-com/IMDB-sentiment-project' target=\"_blank\">https://wandb.ai/jubacochran-booking-com/IMDB-sentiment-project</a><br/>Synced 5 W&B file(s), 0 media file(s), 0 artifact file(s) and 0 other file(s)"
            ]
          },
          "metadata": {}
        },
        {
          "output_type": "display_data",
          "data": {
            "text/plain": [
              "<IPython.core.display.HTML object>"
            ],
            "text/html": [
              "Find logs at: <code>./wandb/run-20241213_045311-14x6m5dq/logs</code>"
            ]
          },
          "metadata": {}
        },
        {
          "output_type": "stream",
          "name": "stderr",
          "text": [
            "\u001b[34m\u001b[1mwandb\u001b[0m: Agent Starting Run: t09fqjum with config:\n",
            "\u001b[34m\u001b[1mwandb\u001b[0m: \tdecay_rate: 0.0001\n",
            "\u001b[34m\u001b[1mwandb\u001b[0m: \tlearning_rate: 2e-06\n",
            "\u001b[34m\u001b[1mwandb\u001b[0m: \tnum_train_epochs: 5\n",
            "\u001b[34m\u001b[1mwandb\u001b[0m: \toptimizer: rmsprop\n",
            "\u001b[34m\u001b[1mwandb\u001b[0m: \tper_device_eval_batch_size: 16\n",
            "\u001b[34m\u001b[1mwandb\u001b[0m: \tper_device_train_batch_size: 16\n",
            "\u001b[34m\u001b[1mwandb\u001b[0m: \u001b[33mWARNING\u001b[0m Ignored wandb.init() arg project when running a sweep.\n"
          ]
        },
        {
          "output_type": "display_data",
          "data": {
            "text/plain": [
              "<IPython.core.display.HTML object>"
            ],
            "text/html": [
              "Tracking run with wandb version 0.18.7"
            ]
          },
          "metadata": {}
        },
        {
          "output_type": "display_data",
          "data": {
            "text/plain": [
              "<IPython.core.display.HTML object>"
            ],
            "text/html": [
              "Run data is saved locally in <code>/content/wandb/run-20241213_052609-t09fqjum</code>"
            ]
          },
          "metadata": {}
        },
        {
          "output_type": "display_data",
          "data": {
            "text/plain": [
              "<IPython.core.display.HTML object>"
            ],
            "text/html": [
              "Syncing run <strong><a href='https://wandb.ai/jubacochran-booking-com/IMDB-sentiment-project/runs/t09fqjum' target=\"_blank\">stilted-sweep-3</a></strong> to <a href='https://wandb.ai/jubacochran-booking-com/IMDB-sentiment-project' target=\"_blank\">Weights & Biases</a> (<a href='https://wandb.me/developer-guide' target=\"_blank\">docs</a>)<br/>Sweep page: <a href='https://wandb.ai/jubacochran-booking-com/IMDB-sentiment-project/sweeps/qita39jj' target=\"_blank\">https://wandb.ai/jubacochran-booking-com/IMDB-sentiment-project/sweeps/qita39jj</a>"
            ]
          },
          "metadata": {}
        },
        {
          "output_type": "display_data",
          "data": {
            "text/plain": [
              "<IPython.core.display.HTML object>"
            ],
            "text/html": [
              " View project at <a href='https://wandb.ai/jubacochran-booking-com/IMDB-sentiment-project' target=\"_blank\">https://wandb.ai/jubacochran-booking-com/IMDB-sentiment-project</a>"
            ]
          },
          "metadata": {}
        },
        {
          "output_type": "display_data",
          "data": {
            "text/plain": [
              "<IPython.core.display.HTML object>"
            ],
            "text/html": [
              " View sweep at <a href='https://wandb.ai/jubacochran-booking-com/IMDB-sentiment-project/sweeps/qita39jj' target=\"_blank\">https://wandb.ai/jubacochran-booking-com/IMDB-sentiment-project/sweeps/qita39jj</a>"
            ]
          },
          "metadata": {}
        },
        {
          "output_type": "display_data",
          "data": {
            "text/plain": [
              "<IPython.core.display.HTML object>"
            ],
            "text/html": [
              " View run at <a href='https://wandb.ai/jubacochran-booking-com/IMDB-sentiment-project/runs/t09fqjum' target=\"_blank\">https://wandb.ai/jubacochran-booking-com/IMDB-sentiment-project/runs/t09fqjum</a>"
            ]
          },
          "metadata": {}
        },
        {
          "output_type": "stream",
          "name": "stderr",
          "text": [
            "/usr/local/lib/python3.10/dist-packages/transformers/training_args.py:1568: FutureWarning: `evaluation_strategy` is deprecated and will be removed in version 4.46 of 🤗 Transformers. Use `eval_strategy` instead\n",
            "  warnings.warn(\n",
            "<ipython-input-44-ca50632647f1>:32: FutureWarning: `tokenizer` is deprecated and will be removed in version 5.0.0 for `Trainer.__init__`. Use `processing_class` instead.\n",
            "  trainer = Trainer(\n",
            "/usr/local/lib/python3.10/dist-packages/transformers/optimization.py:591: FutureWarning: This implementation of AdamW is deprecated and will be removed in a future version. Use the PyTorch implementation torch.optim.AdamW instead, or set `no_deprecation_warning=True` to disable this warning\n",
            "  warnings.warn(\n",
            "\u001b[34m\u001b[1mwandb\u001b[0m: \u001b[33mWARNING\u001b[0m Config item 'per_device_train_batch_size' was locked by 'sweep' (ignored update).\n",
            "\u001b[34m\u001b[1mwandb\u001b[0m: \u001b[33mWARNING\u001b[0m Config item 'per_device_eval_batch_size' was locked by 'sweep' (ignored update).\n",
            "\u001b[34m\u001b[1mwandb\u001b[0m: \u001b[33mWARNING\u001b[0m Config item 'learning_rate' was locked by 'sweep' (ignored update).\n",
            "\u001b[34m\u001b[1mwandb\u001b[0m: \u001b[33mWARNING\u001b[0m Config item 'num_train_epochs' was locked by 'sweep' (ignored update).\n"
          ]
        },
        {
          "output_type": "display_data",
          "data": {
            "text/plain": [
              "<IPython.core.display.HTML object>"
            ],
            "text/html": [
              "\n",
              "    <div>\n",
              "      \n",
              "      <progress value='12500' max='12500' style='width:300px; height:20px; vertical-align: middle;'></progress>\n",
              "      [12500/12500 36:20, Epoch 5/5]\n",
              "    </div>\n",
              "    <table border=\"1\" class=\"dataframe\">\n",
              "  <thead>\n",
              " <tr style=\"text-align: left;\">\n",
              "      <th>Epoch</th>\n",
              "      <th>Training Loss</th>\n",
              "      <th>Validation Loss</th>\n",
              "      <th>Accuracy</th>\n",
              "      <th>Precision</th>\n",
              "      <th>Recall</th>\n",
              "      <th>F1</th>\n",
              "    </tr>\n",
              "  </thead>\n",
              "  <tbody>\n",
              "    <tr>\n",
              "      <td>1</td>\n",
              "      <td>0.000000</td>\n",
              "      <td>1.074639</td>\n",
              "      <td>0.920200</td>\n",
              "      <td>0.920816</td>\n",
              "      <td>0.920200</td>\n",
              "      <td>0.920161</td>\n",
              "    </tr>\n",
              "    <tr>\n",
              "      <td>2</td>\n",
              "      <td>0.000000</td>\n",
              "      <td>1.057481</td>\n",
              "      <td>0.922400</td>\n",
              "      <td>0.922456</td>\n",
              "      <td>0.922400</td>\n",
              "      <td>0.922395</td>\n",
              "    </tr>\n",
              "    <tr>\n",
              "      <td>3</td>\n",
              "      <td>0.000000</td>\n",
              "      <td>1.096474</td>\n",
              "      <td>0.922200</td>\n",
              "      <td>0.922457</td>\n",
              "      <td>0.922200</td>\n",
              "      <td>0.922182</td>\n",
              "    </tr>\n",
              "    <tr>\n",
              "      <td>4</td>\n",
              "      <td>0.000000</td>\n",
              "      <td>1.116029</td>\n",
              "      <td>0.922000</td>\n",
              "      <td>0.922338</td>\n",
              "      <td>0.922000</td>\n",
              "      <td>0.921978</td>\n",
              "    </tr>\n",
              "    <tr>\n",
              "      <td>5</td>\n",
              "      <td>0.000000</td>\n",
              "      <td>1.106986</td>\n",
              "      <td>0.922800</td>\n",
              "      <td>0.922948</td>\n",
              "      <td>0.922800</td>\n",
              "      <td>0.922789</td>\n",
              "    </tr>\n",
              "  </tbody>\n",
              "</table><p>"
            ]
          },
          "metadata": {}
        },
        {
          "output_type": "display_data",
          "data": {
            "text/plain": [
              "<IPython.core.display.HTML object>"
            ],
            "text/html": []
          },
          "metadata": {}
        },
        {
          "output_type": "stream",
          "name": "stdout",
          "text": [
            "Validation Results: {'eval_loss': 1.1069862842559814, 'eval_accuracy': 0.9228, 'eval_precision': 0.9229476512594307, 'eval_recall': 0.9228, 'eval_f1': 0.9227887323727275, 'eval_runtime': 17.1043, 'eval_samples_per_second': 292.325, 'eval_steps_per_second': 18.3, 'epoch': 5.0}\n",
            "Test Results: {'test_loss': 1.2382316589355469, 'test_accuracy': 0.913, 'test_precision': 0.9131820278946939, 'test_recall': 0.913, 'test_f1': 0.9129883784349604, 'test_runtime': 17.4137, 'test_samples_per_second': 287.13, 'test_steps_per_second': 17.974}\n"
          ]
        },
        {
          "output_type": "display_data",
          "data": {
            "text/plain": [
              "<IPython.core.display.HTML object>"
            ],
            "text/html": [
              "\n",
              "    <style>\n",
              "        .wandb-row {\n",
              "            display: flex;\n",
              "            flex-direction: row;\n",
              "            flex-wrap: wrap;\n",
              "            justify-content: flex-start;\n",
              "            width: 100%;\n",
              "        }\n",
              "        .wandb-col {\n",
              "            display: flex;\n",
              "            flex-direction: column;\n",
              "            flex-basis: 100%;\n",
              "            flex: 1;\n",
              "            padding: 10px;\n",
              "        }\n",
              "    </style>\n",
              "<div class=\"wandb-row\"><div class=\"wandb-col\"><h3>Run history:</h3><br/><table class=\"wandb\"><tr><td>epoch</td><td>▁</td></tr><tr><td>eval/accuracy</td><td>▁▇▆▆██</td></tr><tr><td>eval/f1</td><td>▁▇▆▆██</td></tr><tr><td>eval/loss</td><td>▃▁▆█▇▇</td></tr><tr><td>eval/precision</td><td>▁▆▆▆██</td></tr><tr><td>eval/recall</td><td>▁▇▆▆██</td></tr><tr><td>eval/runtime</td><td>▄▁▂█▆▆</td></tr><tr><td>eval/samples_per_second</td><td>▅█▇▁▃▃</td></tr><tr><td>eval/steps_per_second</td><td>▅█▇▁▃▃</td></tr><tr><td>eval_accuracy</td><td>▁</td></tr><tr><td>eval_f1</td><td>▁</td></tr><tr><td>eval_loss</td><td>▁</td></tr><tr><td>eval_precision</td><td>▁</td></tr><tr><td>eval_recall</td><td>▁</td></tr><tr><td>eval_runtime</td><td>▁</td></tr><tr><td>eval_samples_per_second</td><td>▁</td></tr><tr><td>eval_steps_per_second</td><td>▁</td></tr><tr><td>test/accuracy</td><td>▁</td></tr><tr><td>test/f1</td><td>▁</td></tr><tr><td>test/loss</td><td>▁</td></tr><tr><td>test/precision</td><td>▁</td></tr><tr><td>test/recall</td><td>▁</td></tr><tr><td>test/runtime</td><td>▁</td></tr><tr><td>test/samples_per_second</td><td>▁</td></tr><tr><td>test/steps_per_second</td><td>▁</td></tr><tr><td>test_accuracy</td><td>▁</td></tr><tr><td>test_f1</td><td>▁</td></tr><tr><td>train/epoch</td><td>▁▁▁▂▂▂▂▂▂▃▃▃▃▄▄▄▄▄▄▄▅▅▅▅▅▆▆▆▆▆▇▇▇▇▇▇████</td></tr><tr><td>train/global_step</td><td>▁▁▁▂▂▂▂▂▂▂▂▃▃▄▄▄▄▄▅▅▅▅▅▅▆▆▆▆▆▇▇▇▇▇▇▇████</td></tr><tr><td>train/grad_norm</td><td>█▁▁▂▁▁▁▁▂▁▁▁▁▁▁▁▁▂▁▁▁▁▁▁▃▅▁▁▂▁▁▁▁▁▁▁▁▁▁▁</td></tr><tr><td>train/learning_rate</td><td>████▇▇▇▇▇▇▆▆▆▆▅▄▄▄▄▄▄▄▄▄▄▃▃▃▂▂▂▂▂▂▂▂▁▁▁▁</td></tr><tr><td>train/loss</td><td>▁▁▁▁▁▁▁▁▁▁▁▁▁▁▁▁▁▁▁█▁▁▁▁▁▁▁▁▁▁▁▁▁▁▁▁▁▁▁▁</td></tr></table><br/></div><div class=\"wandb-col\"><h3>Run summary:</h3><br/><table class=\"wandb\"><tr><td>epoch</td><td>5</td></tr><tr><td>eval/accuracy</td><td>0.9228</td></tr><tr><td>eval/f1</td><td>0.92279</td></tr><tr><td>eval/loss</td><td>1.10699</td></tr><tr><td>eval/precision</td><td>0.92295</td></tr><tr><td>eval/recall</td><td>0.9228</td></tr><tr><td>eval/runtime</td><td>17.1043</td></tr><tr><td>eval/samples_per_second</td><td>292.325</td></tr><tr><td>eval/steps_per_second</td><td>18.3</td></tr><tr><td>eval_accuracy</td><td>0.9228</td></tr><tr><td>eval_f1</td><td>0.92279</td></tr><tr><td>eval_loss</td><td>1.10699</td></tr><tr><td>eval_precision</td><td>0.92295</td></tr><tr><td>eval_recall</td><td>0.9228</td></tr><tr><td>eval_runtime</td><td>17.1043</td></tr><tr><td>eval_samples_per_second</td><td>292.325</td></tr><tr><td>eval_steps_per_second</td><td>18.3</td></tr><tr><td>test/accuracy</td><td>0.913</td></tr><tr><td>test/f1</td><td>0.91299</td></tr><tr><td>test/loss</td><td>1.23823</td></tr><tr><td>test/precision</td><td>0.91318</td></tr><tr><td>test/recall</td><td>0.913</td></tr><tr><td>test/runtime</td><td>17.4137</td></tr><tr><td>test/samples_per_second</td><td>287.13</td></tr><tr><td>test/steps_per_second</td><td>17.974</td></tr><tr><td>test_accuracy</td><td>0.913</td></tr><tr><td>test_f1</td><td>0.91299</td></tr><tr><td>total_flos</td><td>2.64934797312e+16</td></tr><tr><td>train/epoch</td><td>5</td></tr><tr><td>train/global_step</td><td>12500</td></tr><tr><td>train/grad_norm</td><td>0.0</td></tr><tr><td>train/learning_rate</td><td>0</td></tr><tr><td>train/loss</td><td>0</td></tr><tr><td>train_loss</td><td>6e-05</td></tr><tr><td>train_runtime</td><td>2180.392</td></tr><tr><td>train_samples_per_second</td><td>91.727</td></tr><tr><td>train_steps_per_second</td><td>5.733</td></tr></table><br/></div></div>"
            ]
          },
          "metadata": {}
        },
        {
          "output_type": "display_data",
          "data": {
            "text/plain": [
              "<IPython.core.display.HTML object>"
            ],
            "text/html": [
              " View run <strong style=\"color:#cdcd00\">stilted-sweep-3</strong> at: <a href='https://wandb.ai/jubacochran-booking-com/IMDB-sentiment-project/runs/t09fqjum' target=\"_blank\">https://wandb.ai/jubacochran-booking-com/IMDB-sentiment-project/runs/t09fqjum</a><br/> View project at: <a href='https://wandb.ai/jubacochran-booking-com/IMDB-sentiment-project' target=\"_blank\">https://wandb.ai/jubacochran-booking-com/IMDB-sentiment-project</a><br/>Synced 5 W&B file(s), 0 media file(s), 0 artifact file(s) and 0 other file(s)"
            ]
          },
          "metadata": {}
        },
        {
          "output_type": "display_data",
          "data": {
            "text/plain": [
              "<IPython.core.display.HTML object>"
            ],
            "text/html": [
              "Find logs at: <code>./wandb/run-20241213_052609-t09fqjum/logs</code>"
            ]
          },
          "metadata": {}
        },
        {
          "output_type": "stream",
          "name": "stderr",
          "text": [
            "\u001b[34m\u001b[1mwandb\u001b[0m: Agent Starting Run: 0lyfbq08 with config:\n",
            "\u001b[34m\u001b[1mwandb\u001b[0m: \tdecay_rate: 0.0001\n",
            "\u001b[34m\u001b[1mwandb\u001b[0m: \tlearning_rate: 5e-05\n",
            "\u001b[34m\u001b[1mwandb\u001b[0m: \tnum_train_epochs: 3\n",
            "\u001b[34m\u001b[1mwandb\u001b[0m: \toptimizer: rmsprop\n",
            "\u001b[34m\u001b[1mwandb\u001b[0m: \tper_device_eval_batch_size: 16\n",
            "\u001b[34m\u001b[1mwandb\u001b[0m: \tper_device_train_batch_size: 64\n",
            "\u001b[34m\u001b[1mwandb\u001b[0m: \u001b[33mWARNING\u001b[0m Ignored wandb.init() arg project when running a sweep.\n"
          ]
        },
        {
          "output_type": "display_data",
          "data": {
            "text/plain": [
              "<IPython.core.display.HTML object>"
            ],
            "text/html": [
              "Tracking run with wandb version 0.18.7"
            ]
          },
          "metadata": {}
        },
        {
          "output_type": "display_data",
          "data": {
            "text/plain": [
              "<IPython.core.display.HTML object>"
            ],
            "text/html": [
              "Run data is saved locally in <code>/content/wandb/run-20241213_060312-0lyfbq08</code>"
            ]
          },
          "metadata": {}
        },
        {
          "output_type": "display_data",
          "data": {
            "text/plain": [
              "<IPython.core.display.HTML object>"
            ],
            "text/html": [
              "Syncing run <strong><a href='https://wandb.ai/jubacochran-booking-com/IMDB-sentiment-project/runs/0lyfbq08' target=\"_blank\">sunny-sweep-4</a></strong> to <a href='https://wandb.ai/jubacochran-booking-com/IMDB-sentiment-project' target=\"_blank\">Weights & Biases</a> (<a href='https://wandb.me/developer-guide' target=\"_blank\">docs</a>)<br/>Sweep page: <a href='https://wandb.ai/jubacochran-booking-com/IMDB-sentiment-project/sweeps/qita39jj' target=\"_blank\">https://wandb.ai/jubacochran-booking-com/IMDB-sentiment-project/sweeps/qita39jj</a>"
            ]
          },
          "metadata": {}
        },
        {
          "output_type": "display_data",
          "data": {
            "text/plain": [
              "<IPython.core.display.HTML object>"
            ],
            "text/html": [
              " View project at <a href='https://wandb.ai/jubacochran-booking-com/IMDB-sentiment-project' target=\"_blank\">https://wandb.ai/jubacochran-booking-com/IMDB-sentiment-project</a>"
            ]
          },
          "metadata": {}
        },
        {
          "output_type": "display_data",
          "data": {
            "text/plain": [
              "<IPython.core.display.HTML object>"
            ],
            "text/html": [
              " View sweep at <a href='https://wandb.ai/jubacochran-booking-com/IMDB-sentiment-project/sweeps/qita39jj' target=\"_blank\">https://wandb.ai/jubacochran-booking-com/IMDB-sentiment-project/sweeps/qita39jj</a>"
            ]
          },
          "metadata": {}
        },
        {
          "output_type": "display_data",
          "data": {
            "text/plain": [
              "<IPython.core.display.HTML object>"
            ],
            "text/html": [
              " View run at <a href='https://wandb.ai/jubacochran-booking-com/IMDB-sentiment-project/runs/0lyfbq08' target=\"_blank\">https://wandb.ai/jubacochran-booking-com/IMDB-sentiment-project/runs/0lyfbq08</a>"
            ]
          },
          "metadata": {}
        },
        {
          "output_type": "stream",
          "name": "stderr",
          "text": [
            "/usr/local/lib/python3.10/dist-packages/transformers/training_args.py:1568: FutureWarning: `evaluation_strategy` is deprecated and will be removed in version 4.46 of 🤗 Transformers. Use `eval_strategy` instead\n",
            "  warnings.warn(\n",
            "<ipython-input-44-ca50632647f1>:32: FutureWarning: `tokenizer` is deprecated and will be removed in version 5.0.0 for `Trainer.__init__`. Use `processing_class` instead.\n",
            "  trainer = Trainer(\n",
            "/usr/local/lib/python3.10/dist-packages/transformers/optimization.py:591: FutureWarning: This implementation of AdamW is deprecated and will be removed in a future version. Use the PyTorch implementation torch.optim.AdamW instead, or set `no_deprecation_warning=True` to disable this warning\n",
            "  warnings.warn(\n",
            "\u001b[34m\u001b[1mwandb\u001b[0m: \u001b[33mWARNING\u001b[0m Config item 'per_device_train_batch_size' was locked by 'sweep' (ignored update).\n",
            "\u001b[34m\u001b[1mwandb\u001b[0m: \u001b[33mWARNING\u001b[0m Config item 'per_device_eval_batch_size' was locked by 'sweep' (ignored update).\n",
            "\u001b[34m\u001b[1mwandb\u001b[0m: \u001b[33mWARNING\u001b[0m Config item 'learning_rate' was locked by 'sweep' (ignored update).\n",
            "\u001b[34m\u001b[1mwandb\u001b[0m: \u001b[33mWARNING\u001b[0m Config item 'num_train_epochs' was locked by 'sweep' (ignored update).\n"
          ]
        },
        {
          "output_type": "display_data",
          "data": {
            "text/plain": [
              "<IPython.core.display.HTML object>"
            ],
            "text/html": [
              "\n",
              "    <div>\n",
              "      \n",
              "      <progress value='1875' max='1875' style='width:300px; height:20px; vertical-align: middle;'></progress>\n",
              "      [1875/1875 19:26, Epoch 3/3]\n",
              "    </div>\n",
              "    <table border=\"1\" class=\"dataframe\">\n",
              "  <thead>\n",
              " <tr style=\"text-align: left;\">\n",
              "      <th>Epoch</th>\n",
              "      <th>Training Loss</th>\n",
              "      <th>Validation Loss</th>\n",
              "      <th>Accuracy</th>\n",
              "      <th>Precision</th>\n",
              "      <th>Recall</th>\n",
              "      <th>F1</th>\n",
              "    </tr>\n",
              "  </thead>\n",
              "  <tbody>\n",
              "    <tr>\n",
              "      <td>1</td>\n",
              "      <td>0.005900</td>\n",
              "      <td>1.153868</td>\n",
              "      <td>0.914400</td>\n",
              "      <td>0.916033</td>\n",
              "      <td>0.914400</td>\n",
              "      <td>0.914299</td>\n",
              "    </tr>\n",
              "    <tr>\n",
              "      <td>2</td>\n",
              "      <td>0.000900</td>\n",
              "      <td>1.023978</td>\n",
              "      <td>0.919800</td>\n",
              "      <td>0.919826</td>\n",
              "      <td>0.919800</td>\n",
              "      <td>0.919797</td>\n",
              "    </tr>\n",
              "    <tr>\n",
              "      <td>3</td>\n",
              "      <td>0.000000</td>\n",
              "      <td>1.000852</td>\n",
              "      <td>0.917600</td>\n",
              "      <td>0.917879</td>\n",
              "      <td>0.917600</td>\n",
              "      <td>0.917580</td>\n",
              "    </tr>\n",
              "  </tbody>\n",
              "</table><p>"
            ]
          },
          "metadata": {}
        },
        {
          "output_type": "display_data",
          "data": {
            "text/plain": [
              "<IPython.core.display.HTML object>"
            ],
            "text/html": []
          },
          "metadata": {}
        },
        {
          "output_type": "stream",
          "name": "stdout",
          "text": [
            "Validation Results: {'eval_loss': 1.0239778757095337, 'eval_accuracy': 0.9198, 'eval_precision': 0.9198258535472953, 'eval_recall': 0.9198, 'eval_f1': 0.9197966986509384, 'eval_runtime': 17.0692, 'eval_samples_per_second': 292.926, 'eval_steps_per_second': 18.337, 'epoch': 3.0}\n",
            "Test Results: {'test_loss': 1.1280169486999512, 'test_accuracy': 0.9096, 'test_precision': 0.9096568239374917, 'test_recall': 0.9096, 'test_f1': 0.9095956605222735, 'test_runtime': 17.4821, 'test_samples_per_second': 286.006, 'test_steps_per_second': 17.904}\n"
          ]
        },
        {
          "output_type": "display_data",
          "data": {
            "text/plain": [
              "<IPython.core.display.HTML object>"
            ],
            "text/html": [
              "\n",
              "    <style>\n",
              "        .wandb-row {\n",
              "            display: flex;\n",
              "            flex-direction: row;\n",
              "            flex-wrap: wrap;\n",
              "            justify-content: flex-start;\n",
              "            width: 100%;\n",
              "        }\n",
              "        .wandb-col {\n",
              "            display: flex;\n",
              "            flex-direction: column;\n",
              "            flex-basis: 100%;\n",
              "            flex: 1;\n",
              "            padding: 10px;\n",
              "        }\n",
              "    </style>\n",
              "<div class=\"wandb-row\"><div class=\"wandb-col\"><h3>Run history:</h3><br/><table class=\"wandb\"><tr><td>epoch</td><td>▁</td></tr><tr><td>eval/accuracy</td><td>▁█▅█</td></tr><tr><td>eval/f1</td><td>▁█▅█</td></tr><tr><td>eval/loss</td><td>█▂▁▂</td></tr><tr><td>eval/precision</td><td>▁█▄█</td></tr><tr><td>eval/recall</td><td>▁█▅█</td></tr><tr><td>eval/runtime</td><td>▁▇█▅</td></tr><tr><td>eval/samples_per_second</td><td>█▂▁▄</td></tr><tr><td>eval/steps_per_second</td><td>█▂▁▄</td></tr><tr><td>eval_accuracy</td><td>▁</td></tr><tr><td>eval_f1</td><td>▁</td></tr><tr><td>eval_loss</td><td>▁</td></tr><tr><td>eval_precision</td><td>▁</td></tr><tr><td>eval_recall</td><td>▁</td></tr><tr><td>eval_runtime</td><td>▁</td></tr><tr><td>eval_samples_per_second</td><td>▁</td></tr><tr><td>eval_steps_per_second</td><td>▁</td></tr><tr><td>test/accuracy</td><td>▁</td></tr><tr><td>test/f1</td><td>▁</td></tr><tr><td>test/loss</td><td>▁</td></tr><tr><td>test/precision</td><td>▁</td></tr><tr><td>test/recall</td><td>▁</td></tr><tr><td>test/runtime</td><td>▁</td></tr><tr><td>test/samples_per_second</td><td>▁</td></tr><tr><td>test/steps_per_second</td><td>▁</td></tr><tr><td>test_accuracy</td><td>▁</td></tr><tr><td>test_f1</td><td>▁</td></tr><tr><td>train/epoch</td><td>▁▁▂▂▃▃▃▃▄▄▅▅▅▆▆▆▇▇▇████</td></tr><tr><td>train/global_step</td><td>▁▁▂▂▃▃▃▃▄▄▅▅▅▆▆▆▇▇▇███████</td></tr><tr><td>train/grad_norm</td><td>▁▁▁▁▁▁▁▁▁▁█▁▁▁▁▁▁▁</td></tr><tr><td>train/learning_rate</td><td>██▇▇▆▆▆▅▅▄▄▃▃▃▂▂▁▁</td></tr><tr><td>train/loss</td><td>▃▂▁▁▅█▅▅▃▁▁▂▁▂▂▁▁▁</td></tr></table><br/></div><div class=\"wandb-col\"><h3>Run summary:</h3><br/><table class=\"wandb\"><tr><td>epoch</td><td>3</td></tr><tr><td>eval/accuracy</td><td>0.9198</td></tr><tr><td>eval/f1</td><td>0.9198</td></tr><tr><td>eval/loss</td><td>1.02398</td></tr><tr><td>eval/precision</td><td>0.91983</td></tr><tr><td>eval/recall</td><td>0.9198</td></tr><tr><td>eval/runtime</td><td>17.0692</td></tr><tr><td>eval/samples_per_second</td><td>292.926</td></tr><tr><td>eval/steps_per_second</td><td>18.337</td></tr><tr><td>eval_accuracy</td><td>0.9198</td></tr><tr><td>eval_f1</td><td>0.9198</td></tr><tr><td>eval_loss</td><td>1.02398</td></tr><tr><td>eval_precision</td><td>0.91983</td></tr><tr><td>eval_recall</td><td>0.9198</td></tr><tr><td>eval_runtime</td><td>17.0692</td></tr><tr><td>eval_samples_per_second</td><td>292.926</td></tr><tr><td>eval_steps_per_second</td><td>18.337</td></tr><tr><td>test/accuracy</td><td>0.9096</td></tr><tr><td>test/f1</td><td>0.9096</td></tr><tr><td>test/loss</td><td>1.12802</td></tr><tr><td>test/precision</td><td>0.90966</td></tr><tr><td>test/recall</td><td>0.9096</td></tr><tr><td>test/runtime</td><td>17.4821</td></tr><tr><td>test/samples_per_second</td><td>286.006</td></tr><tr><td>test/steps_per_second</td><td>17.904</td></tr><tr><td>test_accuracy</td><td>0.9096</td></tr><tr><td>test_f1</td><td>0.9096</td></tr><tr><td>total_flos</td><td>1.589608783872e+16</td></tr><tr><td>train/epoch</td><td>3</td></tr><tr><td>train/global_step</td><td>1875</td></tr><tr><td>train/grad_norm</td><td>0.0</td></tr><tr><td>train/learning_rate</td><td>0.0</td></tr><tr><td>train/loss</td><td>0</td></tr><tr><td>train_loss</td><td>0.0012</td></tr><tr><td>train_runtime</td><td>1167.3528</td></tr><tr><td>train_samples_per_second</td><td>102.797</td></tr><tr><td>train_steps_per_second</td><td>1.606</td></tr></table><br/></div></div>"
            ]
          },
          "metadata": {}
        },
        {
          "output_type": "display_data",
          "data": {
            "text/plain": [
              "<IPython.core.display.HTML object>"
            ],
            "text/html": [
              " View run <strong style=\"color:#cdcd00\">sunny-sweep-4</strong> at: <a href='https://wandb.ai/jubacochran-booking-com/IMDB-sentiment-project/runs/0lyfbq08' target=\"_blank\">https://wandb.ai/jubacochran-booking-com/IMDB-sentiment-project/runs/0lyfbq08</a><br/> View project at: <a href='https://wandb.ai/jubacochran-booking-com/IMDB-sentiment-project' target=\"_blank\">https://wandb.ai/jubacochran-booking-com/IMDB-sentiment-project</a><br/>Synced 5 W&B file(s), 0 media file(s), 0 artifact file(s) and 0 other file(s)"
            ]
          },
          "metadata": {}
        },
        {
          "output_type": "display_data",
          "data": {
            "text/plain": [
              "<IPython.core.display.HTML object>"
            ],
            "text/html": [
              "Find logs at: <code>./wandb/run-20241213_060312-0lyfbq08/logs</code>"
            ]
          },
          "metadata": {}
        },
        {
          "output_type": "stream",
          "name": "stderr",
          "text": [
            "\u001b[34m\u001b[1mwandb\u001b[0m: Agent Starting Run: cvgp4myv with config:\n",
            "\u001b[34m\u001b[1mwandb\u001b[0m: \tdecay_rate: 0.01\n",
            "\u001b[34m\u001b[1mwandb\u001b[0m: \tlearning_rate: 5e-06\n",
            "\u001b[34m\u001b[1mwandb\u001b[0m: \tnum_train_epochs: 3\n",
            "\u001b[34m\u001b[1mwandb\u001b[0m: \toptimizer: adagrad\n",
            "\u001b[34m\u001b[1mwandb\u001b[0m: \tper_device_eval_batch_size: 64\n",
            "\u001b[34m\u001b[1mwandb\u001b[0m: \tper_device_train_batch_size: 16\n",
            "\u001b[34m\u001b[1mwandb\u001b[0m: \u001b[33mWARNING\u001b[0m Ignored wandb.init() arg project when running a sweep.\n"
          ]
        },
        {
          "output_type": "display_data",
          "data": {
            "text/plain": [
              "<IPython.core.display.HTML object>"
            ],
            "text/html": [
              "Tracking run with wandb version 0.18.7"
            ]
          },
          "metadata": {}
        },
        {
          "output_type": "display_data",
          "data": {
            "text/plain": [
              "<IPython.core.display.HTML object>"
            ],
            "text/html": [
              "Run data is saved locally in <code>/content/wandb/run-20241213_062319-cvgp4myv</code>"
            ]
          },
          "metadata": {}
        },
        {
          "output_type": "display_data",
          "data": {
            "text/plain": [
              "<IPython.core.display.HTML object>"
            ],
            "text/html": [
              "Syncing run <strong><a href='https://wandb.ai/jubacochran-booking-com/IMDB-sentiment-project/runs/cvgp4myv' target=\"_blank\">worthy-sweep-5</a></strong> to <a href='https://wandb.ai/jubacochran-booking-com/IMDB-sentiment-project' target=\"_blank\">Weights & Biases</a> (<a href='https://wandb.me/developer-guide' target=\"_blank\">docs</a>)<br/>Sweep page: <a href='https://wandb.ai/jubacochran-booking-com/IMDB-sentiment-project/sweeps/qita39jj' target=\"_blank\">https://wandb.ai/jubacochran-booking-com/IMDB-sentiment-project/sweeps/qita39jj</a>"
            ]
          },
          "metadata": {}
        },
        {
          "output_type": "display_data",
          "data": {
            "text/plain": [
              "<IPython.core.display.HTML object>"
            ],
            "text/html": [
              " View project at <a href='https://wandb.ai/jubacochran-booking-com/IMDB-sentiment-project' target=\"_blank\">https://wandb.ai/jubacochran-booking-com/IMDB-sentiment-project</a>"
            ]
          },
          "metadata": {}
        },
        {
          "output_type": "display_data",
          "data": {
            "text/plain": [
              "<IPython.core.display.HTML object>"
            ],
            "text/html": [
              " View sweep at <a href='https://wandb.ai/jubacochran-booking-com/IMDB-sentiment-project/sweeps/qita39jj' target=\"_blank\">https://wandb.ai/jubacochran-booking-com/IMDB-sentiment-project/sweeps/qita39jj</a>"
            ]
          },
          "metadata": {}
        },
        {
          "output_type": "display_data",
          "data": {
            "text/plain": [
              "<IPython.core.display.HTML object>"
            ],
            "text/html": [
              " View run at <a href='https://wandb.ai/jubacochran-booking-com/IMDB-sentiment-project/runs/cvgp4myv' target=\"_blank\">https://wandb.ai/jubacochran-booking-com/IMDB-sentiment-project/runs/cvgp4myv</a>"
            ]
          },
          "metadata": {}
        },
        {
          "output_type": "stream",
          "name": "stderr",
          "text": [
            "/usr/local/lib/python3.10/dist-packages/transformers/training_args.py:1568: FutureWarning: `evaluation_strategy` is deprecated and will be removed in version 4.46 of 🤗 Transformers. Use `eval_strategy` instead\n",
            "  warnings.warn(\n",
            "<ipython-input-44-ca50632647f1>:32: FutureWarning: `tokenizer` is deprecated and will be removed in version 5.0.0 for `Trainer.__init__`. Use `processing_class` instead.\n",
            "  trainer = Trainer(\n",
            "/usr/local/lib/python3.10/dist-packages/transformers/optimization.py:591: FutureWarning: This implementation of AdamW is deprecated and will be removed in a future version. Use the PyTorch implementation torch.optim.AdamW instead, or set `no_deprecation_warning=True` to disable this warning\n",
            "  warnings.warn(\n",
            "\u001b[34m\u001b[1mwandb\u001b[0m: \u001b[33mWARNING\u001b[0m Config item 'per_device_train_batch_size' was locked by 'sweep' (ignored update).\n",
            "\u001b[34m\u001b[1mwandb\u001b[0m: \u001b[33mWARNING\u001b[0m Config item 'per_device_eval_batch_size' was locked by 'sweep' (ignored update).\n",
            "\u001b[34m\u001b[1mwandb\u001b[0m: \u001b[33mWARNING\u001b[0m Config item 'learning_rate' was locked by 'sweep' (ignored update).\n",
            "\u001b[34m\u001b[1mwandb\u001b[0m: \u001b[33mWARNING\u001b[0m Config item 'num_train_epochs' was locked by 'sweep' (ignored update).\n"
          ]
        },
        {
          "output_type": "display_data",
          "data": {
            "text/plain": [
              "<IPython.core.display.HTML object>"
            ],
            "text/html": [
              "\n",
              "    <div>\n",
              "      \n",
              "      <progress value='7500' max='7500' style='width:300px; height:20px; vertical-align: middle;'></progress>\n",
              "      [7500/7500 21:43, Epoch 3/3]\n",
              "    </div>\n",
              "    <table border=\"1\" class=\"dataframe\">\n",
              "  <thead>\n",
              " <tr style=\"text-align: left;\">\n",
              "      <th>Epoch</th>\n",
              "      <th>Training Loss</th>\n",
              "      <th>Validation Loss</th>\n",
              "      <th>Accuracy</th>\n",
              "      <th>Precision</th>\n",
              "      <th>Recall</th>\n",
              "      <th>F1</th>\n",
              "    </tr>\n",
              "  </thead>\n",
              "  <tbody>\n",
              "    <tr>\n",
              "      <td>1</td>\n",
              "      <td>0.000000</td>\n",
              "      <td>1.203917</td>\n",
              "      <td>0.917600</td>\n",
              "      <td>0.917600</td>\n",
              "      <td>0.917600</td>\n",
              "      <td>0.917600</td>\n",
              "    </tr>\n",
              "    <tr>\n",
              "      <td>2</td>\n",
              "      <td>0.000000</td>\n",
              "      <td>1.234877</td>\n",
              "      <td>0.919400</td>\n",
              "      <td>0.919431</td>\n",
              "      <td>0.919400</td>\n",
              "      <td>0.919396</td>\n",
              "    </tr>\n",
              "    <tr>\n",
              "      <td>3</td>\n",
              "      <td>0.000000</td>\n",
              "      <td>1.252131</td>\n",
              "      <td>0.918200</td>\n",
              "      <td>0.918204</td>\n",
              "      <td>0.918200</td>\n",
              "      <td>0.918199</td>\n",
              "    </tr>\n",
              "  </tbody>\n",
              "</table><p>"
            ]
          },
          "metadata": {}
        },
        {
          "output_type": "display_data",
          "data": {
            "text/plain": [
              "<IPython.core.display.HTML object>"
            ],
            "text/html": []
          },
          "metadata": {}
        },
        {
          "output_type": "stream",
          "name": "stdout",
          "text": [
            "Validation Results: {'eval_loss': 1.2348765134811401, 'eval_accuracy': 0.9194, 'eval_precision': 0.9194313523714234, 'eval_recall': 0.9194, 'eval_f1': 0.9193962178545054, 'eval_runtime': 15.4823, 'eval_samples_per_second': 322.949, 'eval_steps_per_second': 5.103, 'epoch': 3.0}\n",
            "Test Results: {'test_loss': 1.3458878993988037, 'test_accuracy': 0.9138, 'test_precision': 0.9138980432978918, 'test_recall': 0.9138, 'test_f1': 0.9137934102391195, 'test_runtime': 15.4654, 'test_samples_per_second': 323.302, 'test_steps_per_second': 5.108}\n"
          ]
        },
        {
          "output_type": "display_data",
          "data": {
            "text/plain": [
              "<IPython.core.display.HTML object>"
            ],
            "text/html": [
              "\n",
              "    <style>\n",
              "        .wandb-row {\n",
              "            display: flex;\n",
              "            flex-direction: row;\n",
              "            flex-wrap: wrap;\n",
              "            justify-content: flex-start;\n",
              "            width: 100%;\n",
              "        }\n",
              "        .wandb-col {\n",
              "            display: flex;\n",
              "            flex-direction: column;\n",
              "            flex-basis: 100%;\n",
              "            flex: 1;\n",
              "            padding: 10px;\n",
              "        }\n",
              "    </style>\n",
              "<div class=\"wandb-row\"><div class=\"wandb-col\"><h3>Run history:</h3><br/><table class=\"wandb\"><tr><td>epoch</td><td>▁</td></tr><tr><td>eval/accuracy</td><td>▁█▃█</td></tr><tr><td>eval/f1</td><td>▁█▃█</td></tr><tr><td>eval/loss</td><td>▁▅█▅</td></tr><tr><td>eval/precision</td><td>▁█▃█</td></tr><tr><td>eval/recall</td><td>▁█▃█</td></tr><tr><td>eval/runtime</td><td>▁▆█▄</td></tr><tr><td>eval/samples_per_second</td><td>█▃▁▅</td></tr><tr><td>eval/steps_per_second</td><td>█▃▁▅</td></tr><tr><td>eval_accuracy</td><td>▁</td></tr><tr><td>eval_f1</td><td>▁</td></tr><tr><td>eval_loss</td><td>▁</td></tr><tr><td>eval_precision</td><td>▁</td></tr><tr><td>eval_recall</td><td>▁</td></tr><tr><td>eval_runtime</td><td>▁</td></tr><tr><td>eval_samples_per_second</td><td>▁</td></tr><tr><td>eval_steps_per_second</td><td>▁</td></tr><tr><td>test/accuracy</td><td>▁</td></tr><tr><td>test/f1</td><td>▁</td></tr><tr><td>test/loss</td><td>▁</td></tr><tr><td>test/precision</td><td>▁</td></tr><tr><td>test/recall</td><td>▁</td></tr><tr><td>test/runtime</td><td>▁</td></tr><tr><td>test/samples_per_second</td><td>▁</td></tr><tr><td>test/steps_per_second</td><td>▁</td></tr><tr><td>test_accuracy</td><td>▁</td></tr><tr><td>test_f1</td><td>▁</td></tr><tr><td>train/epoch</td><td>▁▁▁▁▂▂▂▂▃▃▃▃▃▃▃▄▄▄▄▄▅▅▅▅▅▆▆▆▆▆▆▇▇▇▇▇████</td></tr><tr><td>train/global_step</td><td>▁▁▁▁▂▂▂▂▂▃▃▃▃▃▃▃▄▄▄▄▄▅▅▅▅▅▆▆▆▆▆▇▇▇▇▇████</td></tr><tr><td>train/grad_norm</td><td>▁▁▁▁▁█▁▁▁▁▁▁▁▁▁▁▁▁▁▁▁▁▁▁▁▁▁▁▁▁▁▁▁▁▁▁▁▁▁▁</td></tr><tr><td>train/learning_rate</td><td>████▇▇▇▇▇▇▆▆▆▆▆▅▅▅▅▅▄▄▄▄▄▄▃▃▃▃▃▂▂▂▂▂▁▁▁▁</td></tr><tr><td>train/loss</td><td>▁▁▁▁▁▁▁▁▁▁▁▁▁▁▁▁▁▁▁▁▁▁▁▁▁▁▁▁▁▁▁▁▁▁▁▁▁▁▁▁</td></tr></table><br/></div><div class=\"wandb-col\"><h3>Run summary:</h3><br/><table class=\"wandb\"><tr><td>epoch</td><td>3</td></tr><tr><td>eval/accuracy</td><td>0.9194</td></tr><tr><td>eval/f1</td><td>0.9194</td></tr><tr><td>eval/loss</td><td>1.23488</td></tr><tr><td>eval/precision</td><td>0.91943</td></tr><tr><td>eval/recall</td><td>0.9194</td></tr><tr><td>eval/runtime</td><td>15.4823</td></tr><tr><td>eval/samples_per_second</td><td>322.949</td></tr><tr><td>eval/steps_per_second</td><td>5.103</td></tr><tr><td>eval_accuracy</td><td>0.9194</td></tr><tr><td>eval_f1</td><td>0.9194</td></tr><tr><td>eval_loss</td><td>1.23488</td></tr><tr><td>eval_precision</td><td>0.91943</td></tr><tr><td>eval_recall</td><td>0.9194</td></tr><tr><td>eval_runtime</td><td>15.4823</td></tr><tr><td>eval_samples_per_second</td><td>322.949</td></tr><tr><td>eval_steps_per_second</td><td>5.103</td></tr><tr><td>test/accuracy</td><td>0.9138</td></tr><tr><td>test/f1</td><td>0.91379</td></tr><tr><td>test/loss</td><td>1.34589</td></tr><tr><td>test/precision</td><td>0.9139</td></tr><tr><td>test/recall</td><td>0.9138</td></tr><tr><td>test/runtime</td><td>15.4654</td></tr><tr><td>test/samples_per_second</td><td>323.302</td></tr><tr><td>test/steps_per_second</td><td>5.108</td></tr><tr><td>test_accuracy</td><td>0.9138</td></tr><tr><td>test_f1</td><td>0.91379</td></tr><tr><td>total_flos</td><td>1.589608783872e+16</td></tr><tr><td>train/epoch</td><td>3</td></tr><tr><td>train/global_step</td><td>7500</td></tr><tr><td>train/grad_norm</td><td>0.0</td></tr><tr><td>train/learning_rate</td><td>0</td></tr><tr><td>train/loss</td><td>0</td></tr><tr><td>train_loss</td><td>3e-05</td></tr><tr><td>train_runtime</td><td>1303.8523</td></tr><tr><td>train_samples_per_second</td><td>92.035</td></tr><tr><td>train_steps_per_second</td><td>5.752</td></tr></table><br/></div></div>"
            ]
          },
          "metadata": {}
        },
        {
          "output_type": "display_data",
          "data": {
            "text/plain": [
              "<IPython.core.display.HTML object>"
            ],
            "text/html": [
              " View run <strong style=\"color:#cdcd00\">worthy-sweep-5</strong> at: <a href='https://wandb.ai/jubacochran-booking-com/IMDB-sentiment-project/runs/cvgp4myv' target=\"_blank\">https://wandb.ai/jubacochran-booking-com/IMDB-sentiment-project/runs/cvgp4myv</a><br/> View project at: <a href='https://wandb.ai/jubacochran-booking-com/IMDB-sentiment-project' target=\"_blank\">https://wandb.ai/jubacochran-booking-com/IMDB-sentiment-project</a><br/>Synced 5 W&B file(s), 0 media file(s), 0 artifact file(s) and 0 other file(s)"
            ]
          },
          "metadata": {}
        },
        {
          "output_type": "display_data",
          "data": {
            "text/plain": [
              "<IPython.core.display.HTML object>"
            ],
            "text/html": [
              "Find logs at: <code>./wandb/run-20241213_062319-cvgp4myv/logs</code>"
            ]
          },
          "metadata": {}
        },
        {
          "output_type": "stream",
          "name": "stderr",
          "text": [
            "\u001b[34m\u001b[1mwandb\u001b[0m: Agent Starting Run: 7calmfm9 with config:\n",
            "\u001b[34m\u001b[1mwandb\u001b[0m: \tdecay_rate: 0.001\n",
            "\u001b[34m\u001b[1mwandb\u001b[0m: \tlearning_rate: 3e-05\n",
            "\u001b[34m\u001b[1mwandb\u001b[0m: \tnum_train_epochs: 5\n",
            "\u001b[34m\u001b[1mwandb\u001b[0m: \toptimizer: rmsprop\n",
            "\u001b[34m\u001b[1mwandb\u001b[0m: \tper_device_eval_batch_size: 64\n",
            "\u001b[34m\u001b[1mwandb\u001b[0m: \tper_device_train_batch_size: 16\n",
            "\u001b[34m\u001b[1mwandb\u001b[0m: \u001b[33mWARNING\u001b[0m Ignored wandb.init() arg project when running a sweep.\n"
          ]
        },
        {
          "output_type": "display_data",
          "data": {
            "text/plain": [
              "<IPython.core.display.HTML object>"
            ],
            "text/html": [
              "Tracking run with wandb version 0.18.7"
            ]
          },
          "metadata": {}
        },
        {
          "output_type": "display_data",
          "data": {
            "text/plain": [
              "<IPython.core.display.HTML object>"
            ],
            "text/html": [
              "Run data is saved locally in <code>/content/wandb/run-20241213_064542-7calmfm9</code>"
            ]
          },
          "metadata": {}
        },
        {
          "output_type": "display_data",
          "data": {
            "text/plain": [
              "<IPython.core.display.HTML object>"
            ],
            "text/html": [
              "Syncing run <strong><a href='https://wandb.ai/jubacochran-booking-com/IMDB-sentiment-project/runs/7calmfm9' target=\"_blank\">ruby-sweep-6</a></strong> to <a href='https://wandb.ai/jubacochran-booking-com/IMDB-sentiment-project' target=\"_blank\">Weights & Biases</a> (<a href='https://wandb.me/developer-guide' target=\"_blank\">docs</a>)<br/>Sweep page: <a href='https://wandb.ai/jubacochran-booking-com/IMDB-sentiment-project/sweeps/qita39jj' target=\"_blank\">https://wandb.ai/jubacochran-booking-com/IMDB-sentiment-project/sweeps/qita39jj</a>"
            ]
          },
          "metadata": {}
        },
        {
          "output_type": "display_data",
          "data": {
            "text/plain": [
              "<IPython.core.display.HTML object>"
            ],
            "text/html": [
              " View project at <a href='https://wandb.ai/jubacochran-booking-com/IMDB-sentiment-project' target=\"_blank\">https://wandb.ai/jubacochran-booking-com/IMDB-sentiment-project</a>"
            ]
          },
          "metadata": {}
        },
        {
          "output_type": "display_data",
          "data": {
            "text/plain": [
              "<IPython.core.display.HTML object>"
            ],
            "text/html": [
              " View sweep at <a href='https://wandb.ai/jubacochran-booking-com/IMDB-sentiment-project/sweeps/qita39jj' target=\"_blank\">https://wandb.ai/jubacochran-booking-com/IMDB-sentiment-project/sweeps/qita39jj</a>"
            ]
          },
          "metadata": {}
        },
        {
          "output_type": "display_data",
          "data": {
            "text/plain": [
              "<IPython.core.display.HTML object>"
            ],
            "text/html": [
              " View run at <a href='https://wandb.ai/jubacochran-booking-com/IMDB-sentiment-project/runs/7calmfm9' target=\"_blank\">https://wandb.ai/jubacochran-booking-com/IMDB-sentiment-project/runs/7calmfm9</a>"
            ]
          },
          "metadata": {}
        },
        {
          "output_type": "stream",
          "name": "stderr",
          "text": [
            "/usr/local/lib/python3.10/dist-packages/transformers/training_args.py:1568: FutureWarning: `evaluation_strategy` is deprecated and will be removed in version 4.46 of 🤗 Transformers. Use `eval_strategy` instead\n",
            "  warnings.warn(\n",
            "<ipython-input-44-ca50632647f1>:32: FutureWarning: `tokenizer` is deprecated and will be removed in version 5.0.0 for `Trainer.__init__`. Use `processing_class` instead.\n",
            "  trainer = Trainer(\n",
            "/usr/local/lib/python3.10/dist-packages/transformers/optimization.py:591: FutureWarning: This implementation of AdamW is deprecated and will be removed in a future version. Use the PyTorch implementation torch.optim.AdamW instead, or set `no_deprecation_warning=True` to disable this warning\n",
            "  warnings.warn(\n",
            "\u001b[34m\u001b[1mwandb\u001b[0m: \u001b[33mWARNING\u001b[0m Config item 'per_device_train_batch_size' was locked by 'sweep' (ignored update).\n",
            "\u001b[34m\u001b[1mwandb\u001b[0m: \u001b[33mWARNING\u001b[0m Config item 'per_device_eval_batch_size' was locked by 'sweep' (ignored update).\n",
            "\u001b[34m\u001b[1mwandb\u001b[0m: \u001b[33mWARNING\u001b[0m Config item 'learning_rate' was locked by 'sweep' (ignored update).\n",
            "\u001b[34m\u001b[1mwandb\u001b[0m: \u001b[33mWARNING\u001b[0m Config item 'num_train_epochs' was locked by 'sweep' (ignored update).\n"
          ]
        },
        {
          "output_type": "display_data",
          "data": {
            "text/plain": [
              "<IPython.core.display.HTML object>"
            ],
            "text/html": [
              "\n",
              "    <div>\n",
              "      \n",
              "      <progress value='12500' max='12500' style='width:300px; height:20px; vertical-align: middle;'></progress>\n",
              "      [12500/12500 36:12, Epoch 5/5]\n",
              "    </div>\n",
              "    <table border=\"1\" class=\"dataframe\">\n",
              "  <thead>\n",
              " <tr style=\"text-align: left;\">\n",
              "      <th>Epoch</th>\n",
              "      <th>Training Loss</th>\n",
              "      <th>Validation Loss</th>\n",
              "      <th>Accuracy</th>\n",
              "      <th>Precision</th>\n",
              "      <th>Recall</th>\n",
              "      <th>F1</th>\n",
              "    </tr>\n",
              "  </thead>\n",
              "  <tbody>\n",
              "    <tr>\n",
              "      <td>1</td>\n",
              "      <td>0.000000</td>\n",
              "      <td>1.409996</td>\n",
              "      <td>0.918800</td>\n",
              "      <td>0.918847</td>\n",
              "      <td>0.918800</td>\n",
              "      <td>0.918795</td>\n",
              "    </tr>\n",
              "    <tr>\n",
              "      <td>2</td>\n",
              "      <td>0.000000</td>\n",
              "      <td>1.101305</td>\n",
              "      <td>0.914000</td>\n",
              "      <td>0.914267</td>\n",
              "      <td>0.914000</td>\n",
              "      <td>0.913993</td>\n",
              "    </tr>\n",
              "    <tr>\n",
              "      <td>3</td>\n",
              "      <td>0.001200</td>\n",
              "      <td>1.085856</td>\n",
              "      <td>0.916200</td>\n",
              "      <td>0.917516</td>\n",
              "      <td>0.916200</td>\n",
              "      <td>0.916148</td>\n",
              "    </tr>\n",
              "    <tr>\n",
              "      <td>4</td>\n",
              "      <td>0.001300</td>\n",
              "      <td>1.220198</td>\n",
              "      <td>0.914800</td>\n",
              "      <td>0.915555</td>\n",
              "      <td>0.914800</td>\n",
              "      <td>0.914750</td>\n",
              "    </tr>\n",
              "    <tr>\n",
              "      <td>5</td>\n",
              "      <td>0.000000</td>\n",
              "      <td>1.246787</td>\n",
              "      <td>0.917800</td>\n",
              "      <td>0.918106</td>\n",
              "      <td>0.917800</td>\n",
              "      <td>0.917778</td>\n",
              "    </tr>\n",
              "  </tbody>\n",
              "</table><p>"
            ]
          },
          "metadata": {}
        },
        {
          "output_type": "display_data",
          "data": {
            "text/plain": [
              "<IPython.core.display.HTML object>"
            ],
            "text/html": []
          },
          "metadata": {}
        },
        {
          "output_type": "stream",
          "name": "stdout",
          "text": [
            "Validation Results: {'eval_loss': 1.4099961519241333, 'eval_accuracy': 0.9188, 'eval_precision': 0.9188474548016431, 'eval_recall': 0.9188, 'eval_f1': 0.9187949064970712, 'eval_runtime': 15.5112, 'eval_samples_per_second': 322.349, 'eval_steps_per_second': 5.093, 'epoch': 5.0}\n",
            "Test Results: {'test_loss': 1.5492160320281982, 'test_accuracy': 0.9128, 'test_precision': 0.9130033410291151, 'test_recall': 0.9128, 'test_f1': 0.9127871061053676, 'test_runtime': 15.4697, 'test_samples_per_second': 323.212, 'test_steps_per_second': 5.107}\n"
          ]
        },
        {
          "output_type": "display_data",
          "data": {
            "text/plain": [
              "<IPython.core.display.HTML object>"
            ],
            "text/html": [
              "\n",
              "    <style>\n",
              "        .wandb-row {\n",
              "            display: flex;\n",
              "            flex-direction: row;\n",
              "            flex-wrap: wrap;\n",
              "            justify-content: flex-start;\n",
              "            width: 100%;\n",
              "        }\n",
              "        .wandb-col {\n",
              "            display: flex;\n",
              "            flex-direction: column;\n",
              "            flex-basis: 100%;\n",
              "            flex: 1;\n",
              "            padding: 10px;\n",
              "        }\n",
              "    </style>\n",
              "<div class=\"wandb-row\"><div class=\"wandb-col\"><h3>Run history:</h3><br/><table class=\"wandb\"><tr><td>epoch</td><td>▁</td></tr><tr><td>eval/accuracy</td><td>█▁▄▂▇█</td></tr><tr><td>eval/f1</td><td>█▁▄▂▇█</td></tr><tr><td>eval/loss</td><td>█▁▁▄▄█</td></tr><tr><td>eval/precision</td><td>█▁▆▃▇█</td></tr><tr><td>eval/recall</td><td>█▁▄▂▇█</td></tr><tr><td>eval/runtime</td><td>▂▁▃▃█▇</td></tr><tr><td>eval/samples_per_second</td><td>▇█▆▆▁▂</td></tr><tr><td>eval/steps_per_second</td><td>▇█▅▅▁▂</td></tr><tr><td>eval_accuracy</td><td>▁</td></tr><tr><td>eval_f1</td><td>▁</td></tr><tr><td>eval_loss</td><td>▁</td></tr><tr><td>eval_precision</td><td>▁</td></tr><tr><td>eval_recall</td><td>▁</td></tr><tr><td>eval_runtime</td><td>▁</td></tr><tr><td>eval_samples_per_second</td><td>▁</td></tr><tr><td>eval_steps_per_second</td><td>▁</td></tr><tr><td>test/accuracy</td><td>▁</td></tr><tr><td>test/f1</td><td>▁</td></tr><tr><td>test/loss</td><td>▁</td></tr><tr><td>test/precision</td><td>▁</td></tr><tr><td>test/recall</td><td>▁</td></tr><tr><td>test/runtime</td><td>▁</td></tr><tr><td>test/samples_per_second</td><td>▁</td></tr><tr><td>test/steps_per_second</td><td>▁</td></tr><tr><td>test_accuracy</td><td>▁</td></tr><tr><td>test_f1</td><td>▁</td></tr><tr><td>train/epoch</td><td>▁▁▁▂▂▂▂▂▂▂▃▃▃▃▄▄▄▄▄▄▅▅▅▆▆▆▆▆▆▆▇▇▇▇▇█████</td></tr><tr><td>train/global_step</td><td>▁▁▁▂▂▂▂▃▃▃▃▄▄▄▄▅▅▅▆▆▆▆▆▆▆▆▇▇▇▇▇▇▇▇▇▇████</td></tr><tr><td>train/grad_norm</td><td>▁▁▁▁▁▁▁▁▁▁▁▁▁▁▁▁▁▁▁▁▁▁█▁▁▁▁▁▁▁▁▁▁▁▁▁▁▁▁▁</td></tr><tr><td>train/learning_rate</td><td>█████▇▇▇▇▆▆▆▆▆▅▅▅▅▄▄▄▄▄▄▃▃▃▃▃▃▃▂▂▂▂▂▁▁▁▁</td></tr><tr><td>train/loss</td><td>▁▁▁▁▁▁▁▁▂█▁▂▁▁▂▁▂▁▁▁▁▂▂▁▁▁▁▁▁▁▁▁▁▁▁▁▁▁▁▁</td></tr></table><br/></div><div class=\"wandb-col\"><h3>Run summary:</h3><br/><table class=\"wandb\"><tr><td>epoch</td><td>5</td></tr><tr><td>eval/accuracy</td><td>0.9188</td></tr><tr><td>eval/f1</td><td>0.91879</td></tr><tr><td>eval/loss</td><td>1.41</td></tr><tr><td>eval/precision</td><td>0.91885</td></tr><tr><td>eval/recall</td><td>0.9188</td></tr><tr><td>eval/runtime</td><td>15.5112</td></tr><tr><td>eval/samples_per_second</td><td>322.349</td></tr><tr><td>eval/steps_per_second</td><td>5.093</td></tr><tr><td>eval_accuracy</td><td>0.9188</td></tr><tr><td>eval_f1</td><td>0.91879</td></tr><tr><td>eval_loss</td><td>1.41</td></tr><tr><td>eval_precision</td><td>0.91885</td></tr><tr><td>eval_recall</td><td>0.9188</td></tr><tr><td>eval_runtime</td><td>15.5112</td></tr><tr><td>eval_samples_per_second</td><td>322.349</td></tr><tr><td>eval_steps_per_second</td><td>5.093</td></tr><tr><td>test/accuracy</td><td>0.9128</td></tr><tr><td>test/f1</td><td>0.91279</td></tr><tr><td>test/loss</td><td>1.54922</td></tr><tr><td>test/precision</td><td>0.913</td></tr><tr><td>test/recall</td><td>0.9128</td></tr><tr><td>test/runtime</td><td>15.4697</td></tr><tr><td>test/samples_per_second</td><td>323.212</td></tr><tr><td>test/steps_per_second</td><td>5.107</td></tr><tr><td>test_accuracy</td><td>0.9128</td></tr><tr><td>test_f1</td><td>0.91279</td></tr><tr><td>total_flos</td><td>2.64934797312e+16</td></tr><tr><td>train/epoch</td><td>5</td></tr><tr><td>train/global_step</td><td>12500</td></tr><tr><td>train/grad_norm</td><td>0.0</td></tr><tr><td>train/learning_rate</td><td>0</td></tr><tr><td>train/loss</td><td>0</td></tr><tr><td>train_loss</td><td>0.00192</td></tr><tr><td>train_runtime</td><td>2173.1072</td></tr><tr><td>train_samples_per_second</td><td>92.034</td></tr><tr><td>train_steps_per_second</td><td>5.752</td></tr></table><br/></div></div>"
            ]
          },
          "metadata": {}
        },
        {
          "output_type": "display_data",
          "data": {
            "text/plain": [
              "<IPython.core.display.HTML object>"
            ],
            "text/html": [
              " View run <strong style=\"color:#cdcd00\">ruby-sweep-6</strong> at: <a href='https://wandb.ai/jubacochran-booking-com/IMDB-sentiment-project/runs/7calmfm9' target=\"_blank\">https://wandb.ai/jubacochran-booking-com/IMDB-sentiment-project/runs/7calmfm9</a><br/> View project at: <a href='https://wandb.ai/jubacochran-booking-com/IMDB-sentiment-project' target=\"_blank\">https://wandb.ai/jubacochran-booking-com/IMDB-sentiment-project</a><br/>Synced 5 W&B file(s), 0 media file(s), 0 artifact file(s) and 0 other file(s)"
            ]
          },
          "metadata": {}
        },
        {
          "output_type": "display_data",
          "data": {
            "text/plain": [
              "<IPython.core.display.HTML object>"
            ],
            "text/html": [
              "Find logs at: <code>./wandb/run-20241213_064542-7calmfm9/logs</code>"
            ]
          },
          "metadata": {}
        },
        {
          "output_type": "stream",
          "name": "stderr",
          "text": [
            "\u001b[34m\u001b[1mwandb\u001b[0m: Agent Starting Run: cfo3f66h with config:\n",
            "\u001b[34m\u001b[1mwandb\u001b[0m: \tdecay_rate: 0.001\n",
            "\u001b[34m\u001b[1mwandb\u001b[0m: \tlearning_rate: 5e-05\n",
            "\u001b[34m\u001b[1mwandb\u001b[0m: \tnum_train_epochs: 15\n",
            "\u001b[34m\u001b[1mwandb\u001b[0m: \toptimizer: adagrad\n",
            "\u001b[34m\u001b[1mwandb\u001b[0m: \tper_device_eval_batch_size: 32\n",
            "\u001b[34m\u001b[1mwandb\u001b[0m: \tper_device_train_batch_size: 32\n",
            "\u001b[34m\u001b[1mwandb\u001b[0m: \u001b[33mWARNING\u001b[0m Ignored wandb.init() arg project when running a sweep.\n"
          ]
        },
        {
          "output_type": "display_data",
          "data": {
            "text/plain": [
              "<IPython.core.display.HTML object>"
            ],
            "text/html": [
              "Tracking run with wandb version 0.18.7"
            ]
          },
          "metadata": {}
        },
        {
          "output_type": "display_data",
          "data": {
            "text/plain": [
              "<IPython.core.display.HTML object>"
            ],
            "text/html": [
              "Run data is saved locally in <code>/content/wandb/run-20241213_072235-cfo3f66h</code>"
            ]
          },
          "metadata": {}
        },
        {
          "output_type": "display_data",
          "data": {
            "text/plain": [
              "<IPython.core.display.HTML object>"
            ],
            "text/html": [
              "Syncing run <strong><a href='https://wandb.ai/jubacochran-booking-com/IMDB-sentiment-project/runs/cfo3f66h' target=\"_blank\">polished-sweep-7</a></strong> to <a href='https://wandb.ai/jubacochran-booking-com/IMDB-sentiment-project' target=\"_blank\">Weights & Biases</a> (<a href='https://wandb.me/developer-guide' target=\"_blank\">docs</a>)<br/>Sweep page: <a href='https://wandb.ai/jubacochran-booking-com/IMDB-sentiment-project/sweeps/qita39jj' target=\"_blank\">https://wandb.ai/jubacochran-booking-com/IMDB-sentiment-project/sweeps/qita39jj</a>"
            ]
          },
          "metadata": {}
        },
        {
          "output_type": "display_data",
          "data": {
            "text/plain": [
              "<IPython.core.display.HTML object>"
            ],
            "text/html": [
              " View project at <a href='https://wandb.ai/jubacochran-booking-com/IMDB-sentiment-project' target=\"_blank\">https://wandb.ai/jubacochran-booking-com/IMDB-sentiment-project</a>"
            ]
          },
          "metadata": {}
        },
        {
          "output_type": "display_data",
          "data": {
            "text/plain": [
              "<IPython.core.display.HTML object>"
            ],
            "text/html": [
              " View sweep at <a href='https://wandb.ai/jubacochran-booking-com/IMDB-sentiment-project/sweeps/qita39jj' target=\"_blank\">https://wandb.ai/jubacochran-booking-com/IMDB-sentiment-project/sweeps/qita39jj</a>"
            ]
          },
          "metadata": {}
        },
        {
          "output_type": "display_data",
          "data": {
            "text/plain": [
              "<IPython.core.display.HTML object>"
            ],
            "text/html": [
              " View run at <a href='https://wandb.ai/jubacochran-booking-com/IMDB-sentiment-project/runs/cfo3f66h' target=\"_blank\">https://wandb.ai/jubacochran-booking-com/IMDB-sentiment-project/runs/cfo3f66h</a>"
            ]
          },
          "metadata": {}
        },
        {
          "output_type": "stream",
          "name": "stderr",
          "text": [
            "/usr/local/lib/python3.10/dist-packages/transformers/training_args.py:1568: FutureWarning: `evaluation_strategy` is deprecated and will be removed in version 4.46 of 🤗 Transformers. Use `eval_strategy` instead\n",
            "  warnings.warn(\n",
            "<ipython-input-44-ca50632647f1>:32: FutureWarning: `tokenizer` is deprecated and will be removed in version 5.0.0 for `Trainer.__init__`. Use `processing_class` instead.\n",
            "  trainer = Trainer(\n",
            "/usr/local/lib/python3.10/dist-packages/transformers/optimization.py:591: FutureWarning: This implementation of AdamW is deprecated and will be removed in a future version. Use the PyTorch implementation torch.optim.AdamW instead, or set `no_deprecation_warning=True` to disable this warning\n",
            "  warnings.warn(\n",
            "\u001b[34m\u001b[1mwandb\u001b[0m: \u001b[33mWARNING\u001b[0m Config item 'per_device_train_batch_size' was locked by 'sweep' (ignored update).\n",
            "\u001b[34m\u001b[1mwandb\u001b[0m: \u001b[33mWARNING\u001b[0m Config item 'per_device_eval_batch_size' was locked by 'sweep' (ignored update).\n",
            "\u001b[34m\u001b[1mwandb\u001b[0m: \u001b[33mWARNING\u001b[0m Config item 'learning_rate' was locked by 'sweep' (ignored update).\n",
            "\u001b[34m\u001b[1mwandb\u001b[0m: \u001b[33mWARNING\u001b[0m Config item 'num_train_epochs' was locked by 'sweep' (ignored update).\n"
          ]
        },
        {
          "output_type": "display_data",
          "data": {
            "text/plain": [
              "<IPython.core.display.HTML object>"
            ],
            "text/html": [
              "\n",
              "    <div>\n",
              "      \n",
              "      <progress value='18750' max='18750' style='width:300px; height:20px; vertical-align: middle;'></progress>\n",
              "      [18750/18750 1:40:43, Epoch 15/15]\n",
              "    </div>\n",
              "    <table border=\"1\" class=\"dataframe\">\n",
              "  <thead>\n",
              " <tr style=\"text-align: left;\">\n",
              "      <th>Epoch</th>\n",
              "      <th>Training Loss</th>\n",
              "      <th>Validation Loss</th>\n",
              "      <th>Accuracy</th>\n",
              "      <th>Precision</th>\n",
              "      <th>Recall</th>\n",
              "      <th>F1</th>\n",
              "    </tr>\n",
              "  </thead>\n",
              "  <tbody>\n",
              "    <tr>\n",
              "      <td>1</td>\n",
              "      <td>0.001800</td>\n",
              "      <td>0.896239</td>\n",
              "      <td>0.914600</td>\n",
              "      <td>0.914921</td>\n",
              "      <td>0.914600</td>\n",
              "      <td>0.914576</td>\n",
              "    </tr>\n",
              "    <tr>\n",
              "      <td>2</td>\n",
              "      <td>0.004000</td>\n",
              "      <td>0.800256</td>\n",
              "      <td>0.914200</td>\n",
              "      <td>0.914369</td>\n",
              "      <td>0.914200</td>\n",
              "      <td>0.914196</td>\n",
              "    </tr>\n",
              "    <tr>\n",
              "      <td>3</td>\n",
              "      <td>0.003300</td>\n",
              "      <td>0.841810</td>\n",
              "      <td>0.909200</td>\n",
              "      <td>0.909667</td>\n",
              "      <td>0.909200</td>\n",
              "      <td>0.909164</td>\n",
              "    </tr>\n",
              "    <tr>\n",
              "      <td>4</td>\n",
              "      <td>0.007100</td>\n",
              "      <td>0.955001</td>\n",
              "      <td>0.911200</td>\n",
              "      <td>0.911227</td>\n",
              "      <td>0.911200</td>\n",
              "      <td>0.911196</td>\n",
              "    </tr>\n",
              "    <tr>\n",
              "      <td>5</td>\n",
              "      <td>0.007700</td>\n",
              "      <td>0.826466</td>\n",
              "      <td>0.907200</td>\n",
              "      <td>0.908278</td>\n",
              "      <td>0.907200</td>\n",
              "      <td>0.907124</td>\n",
              "    </tr>\n",
              "    <tr>\n",
              "      <td>6</td>\n",
              "      <td>0.002700</td>\n",
              "      <td>0.936144</td>\n",
              "      <td>0.914600</td>\n",
              "      <td>0.914654</td>\n",
              "      <td>0.914600</td>\n",
              "      <td>0.914600</td>\n",
              "    </tr>\n",
              "    <tr>\n",
              "      <td>7</td>\n",
              "      <td>0.000500</td>\n",
              "      <td>1.120852</td>\n",
              "      <td>0.908200</td>\n",
              "      <td>0.908203</td>\n",
              "      <td>0.908200</td>\n",
              "      <td>0.908200</td>\n",
              "    </tr>\n",
              "    <tr>\n",
              "      <td>8</td>\n",
              "      <td>0.001800</td>\n",
              "      <td>1.143709</td>\n",
              "      <td>0.908200</td>\n",
              "      <td>0.909316</td>\n",
              "      <td>0.908200</td>\n",
              "      <td>0.908152</td>\n",
              "    </tr>\n",
              "    <tr>\n",
              "      <td>9</td>\n",
              "      <td>0.000000</td>\n",
              "      <td>1.129125</td>\n",
              "      <td>0.910800</td>\n",
              "      <td>0.911100</td>\n",
              "      <td>0.910800</td>\n",
              "      <td>0.910791</td>\n",
              "    </tr>\n",
              "    <tr>\n",
              "      <td>10</td>\n",
              "      <td>0.000000</td>\n",
              "      <td>1.087563</td>\n",
              "      <td>0.906000</td>\n",
              "      <td>0.907142</td>\n",
              "      <td>0.906000</td>\n",
              "      <td>0.905918</td>\n",
              "    </tr>\n",
              "    <tr>\n",
              "      <td>11</td>\n",
              "      <td>0.002700</td>\n",
              "      <td>0.980581</td>\n",
              "      <td>0.909400</td>\n",
              "      <td>0.909879</td>\n",
              "      <td>0.909400</td>\n",
              "      <td>0.909364</td>\n",
              "    </tr>\n",
              "    <tr>\n",
              "      <td>12</td>\n",
              "      <td>0.000000</td>\n",
              "      <td>1.065892</td>\n",
              "      <td>0.912400</td>\n",
              "      <td>0.912828</td>\n",
              "      <td>0.912400</td>\n",
              "      <td>0.912368</td>\n",
              "    </tr>\n",
              "    <tr>\n",
              "      <td>13</td>\n",
              "      <td>0.000000</td>\n",
              "      <td>1.089762</td>\n",
              "      <td>0.915600</td>\n",
              "      <td>0.915600</td>\n",
              "      <td>0.915600</td>\n",
              "      <td>0.915600</td>\n",
              "    </tr>\n",
              "    <tr>\n",
              "      <td>14</td>\n",
              "      <td>0.000000</td>\n",
              "      <td>1.073655</td>\n",
              "      <td>0.914600</td>\n",
              "      <td>0.914675</td>\n",
              "      <td>0.914600</td>\n",
              "      <td>0.914592</td>\n",
              "    </tr>\n",
              "    <tr>\n",
              "      <td>15</td>\n",
              "      <td>0.000000</td>\n",
              "      <td>1.092726</td>\n",
              "      <td>0.914800</td>\n",
              "      <td>0.914828</td>\n",
              "      <td>0.914800</td>\n",
              "      <td>0.914796</td>\n",
              "    </tr>\n",
              "  </tbody>\n",
              "</table><p>"
            ]
          },
          "metadata": {}
        },
        {
          "output_type": "display_data",
          "data": {
            "text/plain": [
              "<IPython.core.display.HTML object>"
            ],
            "text/html": []
          },
          "metadata": {}
        },
        {
          "output_type": "stream",
          "name": "stdout",
          "text": [
            "Validation Results: {'eval_loss': 1.0897623300552368, 'eval_accuracy': 0.9156, 'eval_precision': 0.9156, 'eval_recall': 0.9156, 'eval_f1': 0.9156, 'eval_runtime': 16.1829, 'eval_samples_per_second': 308.967, 'eval_steps_per_second': 9.702, 'epoch': 15.0}\n",
            "Test Results: {'test_loss': 1.0796321630477905, 'test_accuracy': 0.9138, 'test_precision': 0.913800135168346, 'test_recall': 0.9138, 'test_f1': 0.9138000310321006, 'test_runtime': 16.1506, 'test_samples_per_second': 309.586, 'test_steps_per_second': 9.721}\n"
          ]
        },
        {
          "output_type": "display_data",
          "data": {
            "text/plain": [
              "<IPython.core.display.HTML object>"
            ],
            "text/html": [
              "\n",
              "    <style>\n",
              "        .wandb-row {\n",
              "            display: flex;\n",
              "            flex-direction: row;\n",
              "            flex-wrap: wrap;\n",
              "            justify-content: flex-start;\n",
              "            width: 100%;\n",
              "        }\n",
              "        .wandb-col {\n",
              "            display: flex;\n",
              "            flex-direction: column;\n",
              "            flex-basis: 100%;\n",
              "            flex: 1;\n",
              "            padding: 10px;\n",
              "        }\n",
              "    </style>\n",
              "<div class=\"wandb-row\"><div class=\"wandb-col\"><h3>Run history:</h3><br/><table class=\"wandb\"><tr><td>epoch</td><td>▁</td></tr><tr><td>eval/accuracy</td><td>▇▇▃▅▂▇▃▃▄▁▃▆█▇▇█</td></tr><tr><td>eval/f1</td><td>▇▇▃▅▂▇▃▃▅▁▃▆█▇▇█</td></tr><tr><td>eval/loss</td><td>▃▁▂▄▂▄███▇▅▆▇▇▇▇</td></tr><tr><td>eval/precision</td><td>▇▇▃▄▂▇▂▃▄▁▃▆█▇▇█</td></tr><tr><td>eval/recall</td><td>▇▇▃▅▂▇▃▃▄▁▃▆█▇▇█</td></tr><tr><td>eval/runtime</td><td>▁█▃▁▆▁▇▂▁▂▆▃▄▄▆▇</td></tr><tr><td>eval/samples_per_second</td><td>█▁▆█▃█▂▇█▇▃▆▅▅▃▂</td></tr><tr><td>eval/steps_per_second</td><td>█▁▆█▃█▂▇█▇▃▆▅▅▂▂</td></tr><tr><td>eval_accuracy</td><td>▁</td></tr><tr><td>eval_f1</td><td>▁</td></tr><tr><td>eval_loss</td><td>▁</td></tr><tr><td>eval_precision</td><td>▁</td></tr><tr><td>eval_recall</td><td>▁</td></tr><tr><td>eval_runtime</td><td>▁</td></tr><tr><td>eval_samples_per_second</td><td>▁</td></tr><tr><td>eval_steps_per_second</td><td>▁</td></tr><tr><td>test/accuracy</td><td>▁</td></tr><tr><td>test/f1</td><td>▁</td></tr><tr><td>test/loss</td><td>▁</td></tr><tr><td>test/precision</td><td>▁</td></tr><tr><td>test/recall</td><td>▁</td></tr><tr><td>test/runtime</td><td>▁</td></tr><tr><td>test/samples_per_second</td><td>▁</td></tr><tr><td>test/steps_per_second</td><td>▁</td></tr><tr><td>test_accuracy</td><td>▁</td></tr><tr><td>test_f1</td><td>▁</td></tr><tr><td>train/epoch</td><td>▁▁▁▁▁▂▂▃▃▃▃▃▃▄▄▄▅▅▅▅▅▅▅▅▅▆▆▆▆▆▆▆▆▇▇█████</td></tr><tr><td>train/global_step</td><td>▁▁▁▂▂▂▃▃▃▃▃▃▃▃▄▄▄▄▄▄▅▅▅▅▅▆▆▆▆▆▆▇▇▇▇▇▇▇██</td></tr><tr><td>train/grad_norm</td><td>▁▁▁█▁▁▁▁▁▁▁▁▁▁▁▁▁▁▃▁▁▁▁▁▁▁▁▁▁▁▁▁▁▁▁▁▁▁▁▁</td></tr><tr><td>train/learning_rate</td><td>████▇▇▇▇▇▇▆▆▅▅▅▅▅▄▄▄▄▃▃▃▃▃▃▃▃▃▂▂▂▂▂▂▂▁▁▁</td></tr><tr><td>train/loss</td><td>▂▅▇▃▇▃▅▅▄█▅▂▃▃▃█▂▁▁▂▂▂▁▁▂▂▁▁▁▁▁▁▁▁▁▁▁▁▁▁</td></tr></table><br/></div><div class=\"wandb-col\"><h3>Run summary:</h3><br/><table class=\"wandb\"><tr><td>epoch</td><td>15</td></tr><tr><td>eval/accuracy</td><td>0.9156</td></tr><tr><td>eval/f1</td><td>0.9156</td></tr><tr><td>eval/loss</td><td>1.08976</td></tr><tr><td>eval/precision</td><td>0.9156</td></tr><tr><td>eval/recall</td><td>0.9156</td></tr><tr><td>eval/runtime</td><td>16.1829</td></tr><tr><td>eval/samples_per_second</td><td>308.967</td></tr><tr><td>eval/steps_per_second</td><td>9.702</td></tr><tr><td>eval_accuracy</td><td>0.9156</td></tr><tr><td>eval_f1</td><td>0.9156</td></tr><tr><td>eval_loss</td><td>1.08976</td></tr><tr><td>eval_precision</td><td>0.9156</td></tr><tr><td>eval_recall</td><td>0.9156</td></tr><tr><td>eval_runtime</td><td>16.1829</td></tr><tr><td>eval_samples_per_second</td><td>308.967</td></tr><tr><td>eval_steps_per_second</td><td>9.702</td></tr><tr><td>test/accuracy</td><td>0.9138</td></tr><tr><td>test/f1</td><td>0.9138</td></tr><tr><td>test/loss</td><td>1.07963</td></tr><tr><td>test/precision</td><td>0.9138</td></tr><tr><td>test/recall</td><td>0.9138</td></tr><tr><td>test/runtime</td><td>16.1506</td></tr><tr><td>test/samples_per_second</td><td>309.586</td></tr><tr><td>test/steps_per_second</td><td>9.721</td></tr><tr><td>test_accuracy</td><td>0.9138</td></tr><tr><td>test_f1</td><td>0.9138</td></tr><tr><td>total_flos</td><td>7.94804391936e+16</td></tr><tr><td>train/epoch</td><td>15</td></tr><tr><td>train/global_step</td><td>18750</td></tr><tr><td>train/grad_norm</td><td>0.0</td></tr><tr><td>train/learning_rate</td><td>0.0</td></tr><tr><td>train/loss</td><td>0</td></tr><tr><td>train_loss</td><td>0.0029</td></tr><tr><td>train_runtime</td><td>6043.7168</td></tr><tr><td>train_samples_per_second</td><td>99.277</td></tr><tr><td>train_steps_per_second</td><td>3.102</td></tr></table><br/></div></div>"
            ]
          },
          "metadata": {}
        },
        {
          "output_type": "display_data",
          "data": {
            "text/plain": [
              "<IPython.core.display.HTML object>"
            ],
            "text/html": [
              " View run <strong style=\"color:#cdcd00\">polished-sweep-7</strong> at: <a href='https://wandb.ai/jubacochran-booking-com/IMDB-sentiment-project/runs/cfo3f66h' target=\"_blank\">https://wandb.ai/jubacochran-booking-com/IMDB-sentiment-project/runs/cfo3f66h</a><br/> View project at: <a href='https://wandb.ai/jubacochran-booking-com/IMDB-sentiment-project' target=\"_blank\">https://wandb.ai/jubacochran-booking-com/IMDB-sentiment-project</a><br/>Synced 5 W&B file(s), 0 media file(s), 0 artifact file(s) and 0 other file(s)"
            ]
          },
          "metadata": {}
        },
        {
          "output_type": "display_data",
          "data": {
            "text/plain": [
              "<IPython.core.display.HTML object>"
            ],
            "text/html": [
              "Find logs at: <code>./wandb/run-20241213_072235-cfo3f66h/logs</code>"
            ]
          },
          "metadata": {}
        },
        {
          "output_type": "stream",
          "name": "stderr",
          "text": [
            "\u001b[34m\u001b[1mwandb\u001b[0m: Agent Starting Run: e3eoygu1 with config:\n",
            "\u001b[34m\u001b[1mwandb\u001b[0m: \tdecay_rate: 0.01\n",
            "\u001b[34m\u001b[1mwandb\u001b[0m: \tlearning_rate: 2e-05\n",
            "\u001b[34m\u001b[1mwandb\u001b[0m: \tnum_train_epochs: 10\n",
            "\u001b[34m\u001b[1mwandb\u001b[0m: \toptimizer: adamw_torch\n",
            "\u001b[34m\u001b[1mwandb\u001b[0m: \tper_device_eval_batch_size: 16\n",
            "\u001b[34m\u001b[1mwandb\u001b[0m: \tper_device_train_batch_size: 16\n",
            "\u001b[34m\u001b[1mwandb\u001b[0m: \u001b[33mWARNING\u001b[0m Ignored wandb.init() arg project when running a sweep.\n"
          ]
        },
        {
          "output_type": "display_data",
          "data": {
            "text/plain": [
              "<IPython.core.display.HTML object>"
            ],
            "text/html": [
              "Tracking run with wandb version 0.18.7"
            ]
          },
          "metadata": {}
        },
        {
          "output_type": "display_data",
          "data": {
            "text/plain": [
              "<IPython.core.display.HTML object>"
            ],
            "text/html": [
              "Run data is saved locally in <code>/content/wandb/run-20241213_090400-e3eoygu1</code>"
            ]
          },
          "metadata": {}
        },
        {
          "output_type": "display_data",
          "data": {
            "text/plain": [
              "<IPython.core.display.HTML object>"
            ],
            "text/html": [
              "Syncing run <strong><a href='https://wandb.ai/jubacochran-booking-com/IMDB-sentiment-project/runs/e3eoygu1' target=\"_blank\">glad-sweep-8</a></strong> to <a href='https://wandb.ai/jubacochran-booking-com/IMDB-sentiment-project' target=\"_blank\">Weights & Biases</a> (<a href='https://wandb.me/developer-guide' target=\"_blank\">docs</a>)<br/>Sweep page: <a href='https://wandb.ai/jubacochran-booking-com/IMDB-sentiment-project/sweeps/qita39jj' target=\"_blank\">https://wandb.ai/jubacochran-booking-com/IMDB-sentiment-project/sweeps/qita39jj</a>"
            ]
          },
          "metadata": {}
        },
        {
          "output_type": "display_data",
          "data": {
            "text/plain": [
              "<IPython.core.display.HTML object>"
            ],
            "text/html": [
              " View project at <a href='https://wandb.ai/jubacochran-booking-com/IMDB-sentiment-project' target=\"_blank\">https://wandb.ai/jubacochran-booking-com/IMDB-sentiment-project</a>"
            ]
          },
          "metadata": {}
        },
        {
          "output_type": "display_data",
          "data": {
            "text/plain": [
              "<IPython.core.display.HTML object>"
            ],
            "text/html": [
              " View sweep at <a href='https://wandb.ai/jubacochran-booking-com/IMDB-sentiment-project/sweeps/qita39jj' target=\"_blank\">https://wandb.ai/jubacochran-booking-com/IMDB-sentiment-project/sweeps/qita39jj</a>"
            ]
          },
          "metadata": {}
        },
        {
          "output_type": "display_data",
          "data": {
            "text/plain": [
              "<IPython.core.display.HTML object>"
            ],
            "text/html": [
              " View run at <a href='https://wandb.ai/jubacochran-booking-com/IMDB-sentiment-project/runs/e3eoygu1' target=\"_blank\">https://wandb.ai/jubacochran-booking-com/IMDB-sentiment-project/runs/e3eoygu1</a>"
            ]
          },
          "metadata": {}
        },
        {
          "output_type": "stream",
          "name": "stderr",
          "text": [
            "/usr/local/lib/python3.10/dist-packages/transformers/training_args.py:1568: FutureWarning: `evaluation_strategy` is deprecated and will be removed in version 4.46 of 🤗 Transformers. Use `eval_strategy` instead\n",
            "  warnings.warn(\n",
            "<ipython-input-44-ca50632647f1>:32: FutureWarning: `tokenizer` is deprecated and will be removed in version 5.0.0 for `Trainer.__init__`. Use `processing_class` instead.\n",
            "  trainer = Trainer(\n",
            "/usr/local/lib/python3.10/dist-packages/transformers/optimization.py:591: FutureWarning: This implementation of AdamW is deprecated and will be removed in a future version. Use the PyTorch implementation torch.optim.AdamW instead, or set `no_deprecation_warning=True` to disable this warning\n",
            "  warnings.warn(\n",
            "\u001b[34m\u001b[1mwandb\u001b[0m: \u001b[33mWARNING\u001b[0m Config item 'per_device_train_batch_size' was locked by 'sweep' (ignored update).\n",
            "\u001b[34m\u001b[1mwandb\u001b[0m: \u001b[33mWARNING\u001b[0m Config item 'per_device_eval_batch_size' was locked by 'sweep' (ignored update).\n",
            "\u001b[34m\u001b[1mwandb\u001b[0m: \u001b[33mWARNING\u001b[0m Config item 'learning_rate' was locked by 'sweep' (ignored update).\n",
            "\u001b[34m\u001b[1mwandb\u001b[0m: \u001b[33mWARNING\u001b[0m Config item 'num_train_epochs' was locked by 'sweep' (ignored update).\n"
          ]
        },
        {
          "output_type": "display_data",
          "data": {
            "text/plain": [
              "<IPython.core.display.HTML object>"
            ],
            "text/html": [
              "\n",
              "    <div>\n",
              "      \n",
              "      <progress value='25000' max='25000' style='width:300px; height:20px; vertical-align: middle;'></progress>\n",
              "      [25000/25000 1:13:06, Epoch 10/10]\n",
              "    </div>\n",
              "    <table border=\"1\" class=\"dataframe\">\n",
              "  <thead>\n",
              " <tr style=\"text-align: left;\">\n",
              "      <th>Epoch</th>\n",
              "      <th>Training Loss</th>\n",
              "      <th>Validation Loss</th>\n",
              "      <th>Accuracy</th>\n",
              "      <th>Precision</th>\n",
              "      <th>Recall</th>\n",
              "      <th>F1</th>\n",
              "    </tr>\n",
              "  </thead>\n",
              "  <tbody>\n",
              "    <tr>\n",
              "      <td>1</td>\n",
              "      <td>0.000000</td>\n",
              "      <td>1.401422</td>\n",
              "      <td>0.908400</td>\n",
              "      <td>0.908413</td>\n",
              "      <td>0.908400</td>\n",
              "      <td>0.908397</td>\n",
              "    </tr>\n",
              "    <tr>\n",
              "      <td>2</td>\n",
              "      <td>0.000000</td>\n",
              "      <td>1.345834</td>\n",
              "      <td>0.911200</td>\n",
              "      <td>0.911200</td>\n",
              "      <td>0.911200</td>\n",
              "      <td>0.911200</td>\n",
              "    </tr>\n",
              "    <tr>\n",
              "      <td>3</td>\n",
              "      <td>0.000000</td>\n",
              "      <td>1.529158</td>\n",
              "      <td>0.911400</td>\n",
              "      <td>0.911595</td>\n",
              "      <td>0.911400</td>\n",
              "      <td>0.911395</td>\n",
              "    </tr>\n",
              "    <tr>\n",
              "      <td>4</td>\n",
              "      <td>0.000000</td>\n",
              "      <td>1.620007</td>\n",
              "      <td>0.907200</td>\n",
              "      <td>0.908417</td>\n",
              "      <td>0.907200</td>\n",
              "      <td>0.907115</td>\n",
              "    </tr>\n",
              "    <tr>\n",
              "      <td>5</td>\n",
              "      <td>0.000000</td>\n",
              "      <td>1.487130</td>\n",
              "      <td>0.908400</td>\n",
              "      <td>0.908529</td>\n",
              "      <td>0.908400</td>\n",
              "      <td>0.908388</td>\n",
              "    </tr>\n",
              "    <tr>\n",
              "      <td>6</td>\n",
              "      <td>0.005300</td>\n",
              "      <td>1.392358</td>\n",
              "      <td>0.911600</td>\n",
              "      <td>0.912049</td>\n",
              "      <td>0.911600</td>\n",
              "      <td>0.911567</td>\n",
              "    </tr>\n",
              "    <tr>\n",
              "      <td>7</td>\n",
              "      <td>0.000000</td>\n",
              "      <td>1.285746</td>\n",
              "      <td>0.911600</td>\n",
              "      <td>0.911761</td>\n",
              "      <td>0.911600</td>\n",
              "      <td>0.911597</td>\n",
              "    </tr>\n",
              "    <tr>\n",
              "      <td>8</td>\n",
              "      <td>0.000000</td>\n",
              "      <td>1.346331</td>\n",
              "      <td>0.911600</td>\n",
              "      <td>0.912868</td>\n",
              "      <td>0.911600</td>\n",
              "      <td>0.911517</td>\n",
              "    </tr>\n",
              "    <tr>\n",
              "      <td>9</td>\n",
              "      <td>0.000000</td>\n",
              "      <td>1.319952</td>\n",
              "      <td>0.913200</td>\n",
              "      <td>0.913529</td>\n",
              "      <td>0.913200</td>\n",
              "      <td>0.913175</td>\n",
              "    </tr>\n",
              "    <tr>\n",
              "      <td>10</td>\n",
              "      <td>0.000000</td>\n",
              "      <td>1.334368</td>\n",
              "      <td>0.914200</td>\n",
              "      <td>0.914405</td>\n",
              "      <td>0.914200</td>\n",
              "      <td>0.914183</td>\n",
              "    </tr>\n",
              "  </tbody>\n",
              "</table><p>"
            ]
          },
          "metadata": {}
        },
        {
          "output_type": "display_data",
          "data": {
            "text/plain": [
              "<IPython.core.display.HTML object>"
            ],
            "text/html": []
          },
          "metadata": {}
        },
        {
          "output_type": "stream",
          "name": "stdout",
          "text": [
            "Validation Results: {'eval_loss': 1.334368348121643, 'eval_accuracy': 0.9142, 'eval_precision': 0.9144045277479003, 'eval_recall': 0.9142, 'eval_f1': 0.9141833671531072, 'eval_runtime': 17.1252, 'eval_samples_per_second': 291.967, 'eval_steps_per_second': 18.277, 'epoch': 10.0}\n",
            "Test Results: {'test_loss': 1.3005549907684326, 'test_accuracy': 0.9156, 'test_precision': 0.9158354935936693, 'test_recall': 0.9156, 'test_f1': 0.9155858180203319, 'test_runtime': 17.4741, 'test_samples_per_second': 286.137, 'test_steps_per_second': 17.912}\n"
          ]
        },
        {
          "output_type": "display_data",
          "data": {
            "text/plain": [
              "<IPython.core.display.HTML object>"
            ],
            "text/html": [
              "\n",
              "    <style>\n",
              "        .wandb-row {\n",
              "            display: flex;\n",
              "            flex-direction: row;\n",
              "            flex-wrap: wrap;\n",
              "            justify-content: flex-start;\n",
              "            width: 100%;\n",
              "        }\n",
              "        .wandb-col {\n",
              "            display: flex;\n",
              "            flex-direction: column;\n",
              "            flex-basis: 100%;\n",
              "            flex: 1;\n",
              "            padding: 10px;\n",
              "        }\n",
              "    </style>\n",
              "<div class=\"wandb-row\"><div class=\"wandb-col\"><h3>Run history:</h3><br/><table class=\"wandb\"><tr><td>epoch</td><td>▁</td></tr><tr><td>eval/accuracy</td><td>▂▅▅▁▂▅▅▅▇██</td></tr><tr><td>eval/f1</td><td>▂▅▅▁▂▅▅▅▇██</td></tr><tr><td>eval/loss</td><td>▃▂▆█▅▃▁▂▂▂▂</td></tr><tr><td>eval/precision</td><td>▁▄▅▁▁▅▅▆▇██</td></tr><tr><td>eval/recall</td><td>▂▅▅▁▂▅▅▅▇██</td></tr><tr><td>eval/runtime</td><td>▂▁▁▂▇▆▇█▂▃▁</td></tr><tr><td>eval/samples_per_second</td><td>▇██▇▂▃▂▁▇▆█</td></tr><tr><td>eval/steps_per_second</td><td>▇██▇▂▃▂▁▇▆█</td></tr><tr><td>eval_accuracy</td><td>▁</td></tr><tr><td>eval_f1</td><td>▁</td></tr><tr><td>eval_loss</td><td>▁</td></tr><tr><td>eval_precision</td><td>▁</td></tr><tr><td>eval_recall</td><td>▁</td></tr><tr><td>eval_runtime</td><td>▁</td></tr><tr><td>eval_samples_per_second</td><td>▁</td></tr><tr><td>eval_steps_per_second</td><td>▁</td></tr><tr><td>test/accuracy</td><td>▁</td></tr><tr><td>test/f1</td><td>▁</td></tr><tr><td>test/loss</td><td>▁</td></tr><tr><td>test/precision</td><td>▁</td></tr><tr><td>test/recall</td><td>▁</td></tr><tr><td>test/runtime</td><td>▁</td></tr><tr><td>test/samples_per_second</td><td>▁</td></tr><tr><td>test/steps_per_second</td><td>▁</td></tr><tr><td>test_accuracy</td><td>▁</td></tr><tr><td>test_f1</td><td>▁</td></tr><tr><td>train/epoch</td><td>▁▁▁▁▂▂▂▂▂▂▃▃▃▃▃▄▄▅▅▅▅▅▅▅▆▆▆▆▆▆▇▇▇▇▇▇▇▇██</td></tr><tr><td>train/global_step</td><td>▁▁▁▁▂▂▂▂▂▂▃▃▃▃▃▄▄▄▄▄▅▅▅▅▅▆▆▆▆▇▇▇▇▇▇▇▇▇██</td></tr><tr><td>train/grad_norm</td><td>▁▁▁▁▁▁▁▁▁▁▁▁▁▁▁▁▁▁▁▁▁▁▁▁▁▁▁▁▁▁▁█▁▁▁▁▁▁▁▁</td></tr><tr><td>train/learning_rate</td><td>██▇▇▇▇▆▆▆▆▆▆▅▅▅▅▅▅▅▄▄▄▄▄▃▃▃▃▃▂▂▂▂▂▂▁▁▁▁▁</td></tr><tr><td>train/loss</td><td>▁█▁▁▅▅▁▁▁▁▁▅▆▁▁▁▁▁▁▄▁▁▁▁▆▁▁▁▁▁▁▁▁▆▁▁▁▁▁▁</td></tr></table><br/></div><div class=\"wandb-col\"><h3>Run summary:</h3><br/><table class=\"wandb\"><tr><td>epoch</td><td>10</td></tr><tr><td>eval/accuracy</td><td>0.9142</td></tr><tr><td>eval/f1</td><td>0.91418</td></tr><tr><td>eval/loss</td><td>1.33437</td></tr><tr><td>eval/precision</td><td>0.9144</td></tr><tr><td>eval/recall</td><td>0.9142</td></tr><tr><td>eval/runtime</td><td>17.1252</td></tr><tr><td>eval/samples_per_second</td><td>291.967</td></tr><tr><td>eval/steps_per_second</td><td>18.277</td></tr><tr><td>eval_accuracy</td><td>0.9142</td></tr><tr><td>eval_f1</td><td>0.91418</td></tr><tr><td>eval_loss</td><td>1.33437</td></tr><tr><td>eval_precision</td><td>0.9144</td></tr><tr><td>eval_recall</td><td>0.9142</td></tr><tr><td>eval_runtime</td><td>17.1252</td></tr><tr><td>eval_samples_per_second</td><td>291.967</td></tr><tr><td>eval_steps_per_second</td><td>18.277</td></tr><tr><td>test/accuracy</td><td>0.9156</td></tr><tr><td>test/f1</td><td>0.91559</td></tr><tr><td>test/loss</td><td>1.30055</td></tr><tr><td>test/precision</td><td>0.91584</td></tr><tr><td>test/recall</td><td>0.9156</td></tr><tr><td>test/runtime</td><td>17.4741</td></tr><tr><td>test/samples_per_second</td><td>286.137</td></tr><tr><td>test/steps_per_second</td><td>17.912</td></tr><tr><td>test_accuracy</td><td>0.9156</td></tr><tr><td>test_f1</td><td>0.91559</td></tr><tr><td>total_flos</td><td>5.29869594624e+16</td></tr><tr><td>train/epoch</td><td>10</td></tr><tr><td>train/global_step</td><td>25000</td></tr><tr><td>train/grad_norm</td><td>0.0</td></tr><tr><td>train/learning_rate</td><td>0</td></tr><tr><td>train/loss</td><td>0</td></tr><tr><td>train_loss</td><td>0.00085</td></tr><tr><td>train_runtime</td><td>4387.2063</td></tr><tr><td>train_samples_per_second</td><td>91.174</td></tr><tr><td>train_steps_per_second</td><td>5.698</td></tr></table><br/></div></div>"
            ]
          },
          "metadata": {}
        },
        {
          "output_type": "display_data",
          "data": {
            "text/plain": [
              "<IPython.core.display.HTML object>"
            ],
            "text/html": [
              " View run <strong style=\"color:#cdcd00\">glad-sweep-8</strong> at: <a href='https://wandb.ai/jubacochran-booking-com/IMDB-sentiment-project/runs/e3eoygu1' target=\"_blank\">https://wandb.ai/jubacochran-booking-com/IMDB-sentiment-project/runs/e3eoygu1</a><br/> View project at: <a href='https://wandb.ai/jubacochran-booking-com/IMDB-sentiment-project' target=\"_blank\">https://wandb.ai/jubacochran-booking-com/IMDB-sentiment-project</a><br/>Synced 5 W&B file(s), 0 media file(s), 0 artifact file(s) and 0 other file(s)"
            ]
          },
          "metadata": {}
        },
        {
          "output_type": "display_data",
          "data": {
            "text/plain": [
              "<IPython.core.display.HTML object>"
            ],
            "text/html": [
              "Find logs at: <code>./wandb/run-20241213_090400-e3eoygu1/logs</code>"
            ]
          },
          "metadata": {}
        },
        {
          "output_type": "stream",
          "name": "stderr",
          "text": [
            "\u001b[34m\u001b[1mwandb\u001b[0m: Agent Starting Run: 2sy1skt3 with config:\n",
            "\u001b[34m\u001b[1mwandb\u001b[0m: \tdecay_rate: 0.001\n",
            "\u001b[34m\u001b[1mwandb\u001b[0m: \tlearning_rate: 5e-06\n",
            "\u001b[34m\u001b[1mwandb\u001b[0m: \tnum_train_epochs: 15\n",
            "\u001b[34m\u001b[1mwandb\u001b[0m: \toptimizer: adam\n",
            "\u001b[34m\u001b[1mwandb\u001b[0m: \tper_device_eval_batch_size: 32\n",
            "\u001b[34m\u001b[1mwandb\u001b[0m: \tper_device_train_batch_size: 16\n",
            "\u001b[34m\u001b[1mwandb\u001b[0m: \u001b[33mWARNING\u001b[0m Ignored wandb.init() arg project when running a sweep.\n"
          ]
        },
        {
          "output_type": "display_data",
          "data": {
            "text/plain": [
              "<IPython.core.display.HTML object>"
            ],
            "text/html": [
              "Tracking run with wandb version 0.18.7"
            ]
          },
          "metadata": {}
        },
        {
          "output_type": "display_data",
          "data": {
            "text/plain": [
              "<IPython.core.display.HTML object>"
            ],
            "text/html": [
              "Run data is saved locally in <code>/content/wandb/run-20241213_101750-2sy1skt3</code>"
            ]
          },
          "metadata": {}
        },
        {
          "output_type": "display_data",
          "data": {
            "text/plain": [
              "<IPython.core.display.HTML object>"
            ],
            "text/html": [
              "Syncing run <strong><a href='https://wandb.ai/jubacochran-booking-com/IMDB-sentiment-project/runs/2sy1skt3' target=\"_blank\">fearless-sweep-9</a></strong> to <a href='https://wandb.ai/jubacochran-booking-com/IMDB-sentiment-project' target=\"_blank\">Weights & Biases</a> (<a href='https://wandb.me/developer-guide' target=\"_blank\">docs</a>)<br/>Sweep page: <a href='https://wandb.ai/jubacochran-booking-com/IMDB-sentiment-project/sweeps/qita39jj' target=\"_blank\">https://wandb.ai/jubacochran-booking-com/IMDB-sentiment-project/sweeps/qita39jj</a>"
            ]
          },
          "metadata": {}
        },
        {
          "output_type": "display_data",
          "data": {
            "text/plain": [
              "<IPython.core.display.HTML object>"
            ],
            "text/html": [
              " View project at <a href='https://wandb.ai/jubacochran-booking-com/IMDB-sentiment-project' target=\"_blank\">https://wandb.ai/jubacochran-booking-com/IMDB-sentiment-project</a>"
            ]
          },
          "metadata": {}
        },
        {
          "output_type": "display_data",
          "data": {
            "text/plain": [
              "<IPython.core.display.HTML object>"
            ],
            "text/html": [
              " View sweep at <a href='https://wandb.ai/jubacochran-booking-com/IMDB-sentiment-project/sweeps/qita39jj' target=\"_blank\">https://wandb.ai/jubacochran-booking-com/IMDB-sentiment-project/sweeps/qita39jj</a>"
            ]
          },
          "metadata": {}
        },
        {
          "output_type": "display_data",
          "data": {
            "text/plain": [
              "<IPython.core.display.HTML object>"
            ],
            "text/html": [
              " View run at <a href='https://wandb.ai/jubacochran-booking-com/IMDB-sentiment-project/runs/2sy1skt3' target=\"_blank\">https://wandb.ai/jubacochran-booking-com/IMDB-sentiment-project/runs/2sy1skt3</a>"
            ]
          },
          "metadata": {}
        },
        {
          "output_type": "stream",
          "name": "stderr",
          "text": [
            "/usr/local/lib/python3.10/dist-packages/transformers/training_args.py:1568: FutureWarning: `evaluation_strategy` is deprecated and will be removed in version 4.46 of 🤗 Transformers. Use `eval_strategy` instead\n",
            "  warnings.warn(\n",
            "<ipython-input-44-ca50632647f1>:32: FutureWarning: `tokenizer` is deprecated and will be removed in version 5.0.0 for `Trainer.__init__`. Use `processing_class` instead.\n",
            "  trainer = Trainer(\n",
            "/usr/local/lib/python3.10/dist-packages/transformers/optimization.py:591: FutureWarning: This implementation of AdamW is deprecated and will be removed in a future version. Use the PyTorch implementation torch.optim.AdamW instead, or set `no_deprecation_warning=True` to disable this warning\n",
            "  warnings.warn(\n",
            "\u001b[34m\u001b[1mwandb\u001b[0m: \u001b[33mWARNING\u001b[0m Config item 'per_device_train_batch_size' was locked by 'sweep' (ignored update).\n",
            "\u001b[34m\u001b[1mwandb\u001b[0m: \u001b[33mWARNING\u001b[0m Config item 'per_device_eval_batch_size' was locked by 'sweep' (ignored update).\n",
            "\u001b[34m\u001b[1mwandb\u001b[0m: \u001b[33mWARNING\u001b[0m Config item 'learning_rate' was locked by 'sweep' (ignored update).\n",
            "\u001b[34m\u001b[1mwandb\u001b[0m: \u001b[33mWARNING\u001b[0m Config item 'num_train_epochs' was locked by 'sweep' (ignored update).\n"
          ]
        },
        {
          "output_type": "display_data",
          "data": {
            "text/plain": [
              "<IPython.core.display.HTML object>"
            ],
            "text/html": [
              "\n",
              "    <div>\n",
              "      \n",
              "      <progress value='37500' max='37500' style='width:300px; height:20px; vertical-align: middle;'></progress>\n",
              "      [37500/37500 1:48:57, Epoch 15/15]\n",
              "    </div>\n",
              "    <table border=\"1\" class=\"dataframe\">\n",
              "  <thead>\n",
              " <tr style=\"text-align: left;\">\n",
              "      <th>Epoch</th>\n",
              "      <th>Training Loss</th>\n",
              "      <th>Validation Loss</th>\n",
              "      <th>Accuracy</th>\n",
              "      <th>Precision</th>\n",
              "      <th>Recall</th>\n",
              "      <th>F1</th>\n",
              "    </tr>\n",
              "  </thead>\n",
              "  <tbody>\n",
              "    <tr>\n",
              "      <td>1</td>\n",
              "      <td>0.000000</td>\n",
              "      <td>1.472759</td>\n",
              "      <td>0.913600</td>\n",
              "      <td>0.913859</td>\n",
              "      <td>0.913600</td>\n",
              "      <td>0.913580</td>\n",
              "    </tr>\n",
              "    <tr>\n",
              "      <td>2</td>\n",
              "      <td>0.000000</td>\n",
              "      <td>1.528404</td>\n",
              "      <td>0.913600</td>\n",
              "      <td>0.913600</td>\n",
              "      <td>0.913600</td>\n",
              "      <td>0.913600</td>\n",
              "    </tr>\n",
              "    <tr>\n",
              "      <td>3</td>\n",
              "      <td>0.000000</td>\n",
              "      <td>1.586369</td>\n",
              "      <td>0.913800</td>\n",
              "      <td>0.914178</td>\n",
              "      <td>0.913800</td>\n",
              "      <td>0.913772</td>\n",
              "    </tr>\n",
              "    <tr>\n",
              "      <td>4</td>\n",
              "      <td>0.000000</td>\n",
              "      <td>1.641755</td>\n",
              "      <td>0.911600</td>\n",
              "      <td>0.911857</td>\n",
              "      <td>0.911600</td>\n",
              "      <td>0.911579</td>\n",
              "    </tr>\n",
              "    <tr>\n",
              "      <td>5</td>\n",
              "      <td>0.000000</td>\n",
              "      <td>1.649959</td>\n",
              "      <td>0.912000</td>\n",
              "      <td>0.912210</td>\n",
              "      <td>0.912000</td>\n",
              "      <td>0.911982</td>\n",
              "    </tr>\n",
              "    <tr>\n",
              "      <td>6</td>\n",
              "      <td>0.000000</td>\n",
              "      <td>1.653683</td>\n",
              "      <td>0.912200</td>\n",
              "      <td>0.912403</td>\n",
              "      <td>0.912200</td>\n",
              "      <td>0.912183</td>\n",
              "    </tr>\n",
              "    <tr>\n",
              "      <td>7</td>\n",
              "      <td>0.000000</td>\n",
              "      <td>1.657322</td>\n",
              "      <td>0.912400</td>\n",
              "      <td>0.912531</td>\n",
              "      <td>0.912400</td>\n",
              "      <td>0.912388</td>\n",
              "    </tr>\n",
              "    <tr>\n",
              "      <td>8</td>\n",
              "      <td>0.000000</td>\n",
              "      <td>1.660680</td>\n",
              "      <td>0.912000</td>\n",
              "      <td>0.912002</td>\n",
              "      <td>0.912000</td>\n",
              "      <td>0.912000</td>\n",
              "    </tr>\n",
              "    <tr>\n",
              "      <td>9</td>\n",
              "      <td>0.000000</td>\n",
              "      <td>1.675403</td>\n",
              "      <td>0.911600</td>\n",
              "      <td>0.911622</td>\n",
              "      <td>0.911600</td>\n",
              "      <td>0.911597</td>\n",
              "    </tr>\n",
              "    <tr>\n",
              "      <td>10</td>\n",
              "      <td>0.000000</td>\n",
              "      <td>1.682501</td>\n",
              "      <td>0.911800</td>\n",
              "      <td>0.911825</td>\n",
              "      <td>0.911800</td>\n",
              "      <td>0.911796</td>\n",
              "    </tr>\n",
              "    <tr>\n",
              "      <td>11</td>\n",
              "      <td>0.000000</td>\n",
              "      <td>1.681827</td>\n",
              "      <td>0.911800</td>\n",
              "      <td>0.911816</td>\n",
              "      <td>0.911800</td>\n",
              "      <td>0.911797</td>\n",
              "    </tr>\n",
              "    <tr>\n",
              "      <td>12</td>\n",
              "      <td>0.000000</td>\n",
              "      <td>1.691345</td>\n",
              "      <td>0.911800</td>\n",
              "      <td>0.911803</td>\n",
              "      <td>0.911800</td>\n",
              "      <td>0.911800</td>\n",
              "    </tr>\n",
              "    <tr>\n",
              "      <td>13</td>\n",
              "      <td>0.000000</td>\n",
              "      <td>1.714407</td>\n",
              "      <td>0.911200</td>\n",
              "      <td>0.911342</td>\n",
              "      <td>0.911200</td>\n",
              "      <td>0.911187</td>\n",
              "    </tr>\n",
              "    <tr>\n",
              "      <td>14</td>\n",
              "      <td>0.000000</td>\n",
              "      <td>1.698400</td>\n",
              "      <td>0.912200</td>\n",
              "      <td>0.912230</td>\n",
              "      <td>0.912200</td>\n",
              "      <td>0.912196</td>\n",
              "    </tr>\n",
              "    <tr>\n",
              "      <td>15</td>\n",
              "      <td>0.000000</td>\n",
              "      <td>1.698623</td>\n",
              "      <td>0.912200</td>\n",
              "      <td>0.912230</td>\n",
              "      <td>0.912200</td>\n",
              "      <td>0.912196</td>\n",
              "    </tr>\n",
              "  </tbody>\n",
              "</table><p>"
            ]
          },
          "metadata": {}
        },
        {
          "output_type": "display_data",
          "data": {
            "text/plain": [
              "<IPython.core.display.HTML object>"
            ],
            "text/html": []
          },
          "metadata": {}
        },
        {
          "output_type": "stream",
          "name": "stdout",
          "text": [
            "Validation Results: {'eval_loss': 1.5863693952560425, 'eval_accuracy': 0.9138, 'eval_precision': 0.914178180530075, 'eval_recall': 0.9138, 'eval_f1': 0.9137721106207839, 'eval_runtime': 16.179, 'eval_samples_per_second': 309.043, 'eval_steps_per_second': 9.704, 'epoch': 15.0}\n",
            "Test Results: {'test_loss': 1.55440092086792, 'test_accuracy': 0.914, 'test_precision': 0.9144846363637965, 'test_recall': 0.914, 'test_f1': 0.9139715888865272, 'test_runtime': 16.1557, 'test_samples_per_second': 309.488, 'test_steps_per_second': 9.718}\n"
          ]
        },
        {
          "output_type": "display_data",
          "data": {
            "text/plain": [
              "<IPython.core.display.HTML object>"
            ],
            "text/html": [
              "\n",
              "    <style>\n",
              "        .wandb-row {\n",
              "            display: flex;\n",
              "            flex-direction: row;\n",
              "            flex-wrap: wrap;\n",
              "            justify-content: flex-start;\n",
              "            width: 100%;\n",
              "        }\n",
              "        .wandb-col {\n",
              "            display: flex;\n",
              "            flex-direction: column;\n",
              "            flex-basis: 100%;\n",
              "            flex: 1;\n",
              "            padding: 10px;\n",
              "        }\n",
              "    </style>\n",
              "<div class=\"wandb-row\"><div class=\"wandb-col\"><h3>Run history:</h3><br/><table class=\"wandb\"><tr><td>epoch</td><td>▁</td></tr><tr><td>eval/accuracy</td><td>▇▇█▂▃▄▄▃▂▃▃▃▁▄▄█</td></tr><tr><td>eval/f1</td><td>▇██▂▃▄▄▃▂▃▃▃▁▄▄█</td></tr><tr><td>eval/loss</td><td>▁▃▄▆▆▆▆▆▇▇▇▇███▄</td></tr><tr><td>eval/precision</td><td>▇▇█▂▃▄▄▃▂▂▂▂▁▃▃█</td></tr><tr><td>eval/recall</td><td>▇▇█▂▃▄▄▃▂▃▃▃▁▄▄█</td></tr><tr><td>eval/runtime</td><td>█▅▄▃▁▂▁█▁▆▂▅▇▇▆▅</td></tr><tr><td>eval/samples_per_second</td><td>▁▄▅▆█▇█▁█▃▇▄▂▂▃▄</td></tr><tr><td>eval/steps_per_second</td><td>▁▄▅▆█▇█▁█▃▇▄▂▂▂▄</td></tr><tr><td>eval_accuracy</td><td>▁</td></tr><tr><td>eval_f1</td><td>▁</td></tr><tr><td>eval_loss</td><td>▁</td></tr><tr><td>eval_precision</td><td>▁</td></tr><tr><td>eval_recall</td><td>▁</td></tr><tr><td>eval_runtime</td><td>▁</td></tr><tr><td>eval_samples_per_second</td><td>▁</td></tr><tr><td>eval_steps_per_second</td><td>▁</td></tr><tr><td>test/accuracy</td><td>▁</td></tr><tr><td>test/f1</td><td>▁</td></tr><tr><td>test/loss</td><td>▁</td></tr><tr><td>test/precision</td><td>▁</td></tr><tr><td>test/recall</td><td>▁</td></tr><tr><td>test/runtime</td><td>▁</td></tr><tr><td>test/samples_per_second</td><td>▁</td></tr><tr><td>test/steps_per_second</td><td>▁</td></tr><tr><td>test_accuracy</td><td>▁</td></tr><tr><td>test_f1</td><td>▁</td></tr><tr><td>train/epoch</td><td>▁▁▁▂▂▂▂▂▂▂▃▃▃▃▃▃▄▄▄▄▄▅▅▅▅▅▅▅▆▆▆▆▆▆▆▇▇███</td></tr><tr><td>train/global_step</td><td>▁▁▁▁▁▂▂▂▂▂▃▃▃▃▃▄▄▅▅▅▅▅▆▆▆▆▆▆▇▇▇▇▇▇▇▇▇▇██</td></tr><tr><td>train/grad_norm</td><td>▁▁▁▁▁▁▁▁▁▁▁▁▁▁▁▁▁▁▁▁▁▁▁▁▁▁▁▁▁▁▁█▁▁▁▁▁▁▁▁</td></tr><tr><td>train/learning_rate</td><td>███▇▇▇▇▇▆▆▆▆▆▆▅▅▅▅▅▅▅▅▄▄▄▄▄▄▄▄▃▃▃▃▃▂▂▂▂▁</td></tr><tr><td>train/loss</td><td>▁▁▁▁▁▁▁▁▁▁▁▁▁▁▁▁▁▁▁▁▁▁▁▁▁▁▁▁▁▁▁▁▁▁▁▁▁▁▁▁</td></tr></table><br/></div><div class=\"wandb-col\"><h3>Run summary:</h3><br/><table class=\"wandb\"><tr><td>epoch</td><td>15</td></tr><tr><td>eval/accuracy</td><td>0.9138</td></tr><tr><td>eval/f1</td><td>0.91377</td></tr><tr><td>eval/loss</td><td>1.58637</td></tr><tr><td>eval/precision</td><td>0.91418</td></tr><tr><td>eval/recall</td><td>0.9138</td></tr><tr><td>eval/runtime</td><td>16.179</td></tr><tr><td>eval/samples_per_second</td><td>309.043</td></tr><tr><td>eval/steps_per_second</td><td>9.704</td></tr><tr><td>eval_accuracy</td><td>0.9138</td></tr><tr><td>eval_f1</td><td>0.91377</td></tr><tr><td>eval_loss</td><td>1.58637</td></tr><tr><td>eval_precision</td><td>0.91418</td></tr><tr><td>eval_recall</td><td>0.9138</td></tr><tr><td>eval_runtime</td><td>16.179</td></tr><tr><td>eval_samples_per_second</td><td>309.043</td></tr><tr><td>eval_steps_per_second</td><td>9.704</td></tr><tr><td>test/accuracy</td><td>0.914</td></tr><tr><td>test/f1</td><td>0.91397</td></tr><tr><td>test/loss</td><td>1.5544</td></tr><tr><td>test/precision</td><td>0.91448</td></tr><tr><td>test/recall</td><td>0.914</td></tr><tr><td>test/runtime</td><td>16.1557</td></tr><tr><td>test/samples_per_second</td><td>309.488</td></tr><tr><td>test/steps_per_second</td><td>9.718</td></tr><tr><td>test_accuracy</td><td>0.914</td></tr><tr><td>test_f1</td><td>0.91397</td></tr><tr><td>total_flos</td><td>7.94804391936e+16</td></tr><tr><td>train/epoch</td><td>15</td></tr><tr><td>train/global_step</td><td>37500</td></tr><tr><td>train/grad_norm</td><td>0.0</td></tr><tr><td>train/learning_rate</td><td>0</td></tr><tr><td>train/loss</td><td>0</td></tr><tr><td>train_loss</td><td>3e-05</td></tr><tr><td>train_runtime</td><td>6537.5544</td></tr><tr><td>train_samples_per_second</td><td>91.777</td></tr><tr><td>train_steps_per_second</td><td>5.736</td></tr></table><br/></div></div>"
            ]
          },
          "metadata": {}
        },
        {
          "output_type": "display_data",
          "data": {
            "text/plain": [
              "<IPython.core.display.HTML object>"
            ],
            "text/html": [
              " View run <strong style=\"color:#cdcd00\">fearless-sweep-9</strong> at: <a href='https://wandb.ai/jubacochran-booking-com/IMDB-sentiment-project/runs/2sy1skt3' target=\"_blank\">https://wandb.ai/jubacochran-booking-com/IMDB-sentiment-project/runs/2sy1skt3</a><br/> View project at: <a href='https://wandb.ai/jubacochran-booking-com/IMDB-sentiment-project' target=\"_blank\">https://wandb.ai/jubacochran-booking-com/IMDB-sentiment-project</a><br/>Synced 5 W&B file(s), 0 media file(s), 0 artifact file(s) and 0 other file(s)"
            ]
          },
          "metadata": {}
        },
        {
          "output_type": "display_data",
          "data": {
            "text/plain": [
              "<IPython.core.display.HTML object>"
            ],
            "text/html": [
              "Find logs at: <code>./wandb/run-20241213_101750-2sy1skt3/logs</code>"
            ]
          },
          "metadata": {}
        },
        {
          "output_type": "stream",
          "name": "stderr",
          "text": [
            "\u001b[34m\u001b[1mwandb\u001b[0m: Agent Starting Run: zqsj5zbc with config:\n",
            "\u001b[34m\u001b[1mwandb\u001b[0m: \tdecay_rate: 0.01\n",
            "\u001b[34m\u001b[1mwandb\u001b[0m: \tlearning_rate: 5e-06\n",
            "\u001b[34m\u001b[1mwandb\u001b[0m: \tnum_train_epochs: 10\n",
            "\u001b[34m\u001b[1mwandb\u001b[0m: \toptimizer: rmsprop\n",
            "\u001b[34m\u001b[1mwandb\u001b[0m: \tper_device_eval_batch_size: 32\n",
            "\u001b[34m\u001b[1mwandb\u001b[0m: \tper_device_train_batch_size: 64\n",
            "\u001b[34m\u001b[1mwandb\u001b[0m: \u001b[33mWARNING\u001b[0m Ignored wandb.init() arg project when running a sweep.\n"
          ]
        },
        {
          "output_type": "display_data",
          "data": {
            "text/plain": [
              "<IPython.core.display.HTML object>"
            ],
            "text/html": [
              "Tracking run with wandb version 0.18.7"
            ]
          },
          "metadata": {}
        },
        {
          "output_type": "display_data",
          "data": {
            "text/plain": [
              "<IPython.core.display.HTML object>"
            ],
            "text/html": [
              "Run data is saved locally in <code>/content/wandb/run-20241213_120728-zqsj5zbc</code>"
            ]
          },
          "metadata": {}
        },
        {
          "output_type": "display_data",
          "data": {
            "text/plain": [
              "<IPython.core.display.HTML object>"
            ],
            "text/html": [
              "Syncing run <strong><a href='https://wandb.ai/jubacochran-booking-com/IMDB-sentiment-project/runs/zqsj5zbc' target=\"_blank\">noble-sweep-10</a></strong> to <a href='https://wandb.ai/jubacochran-booking-com/IMDB-sentiment-project' target=\"_blank\">Weights & Biases</a> (<a href='https://wandb.me/developer-guide' target=\"_blank\">docs</a>)<br/>Sweep page: <a href='https://wandb.ai/jubacochran-booking-com/IMDB-sentiment-project/sweeps/qita39jj' target=\"_blank\">https://wandb.ai/jubacochran-booking-com/IMDB-sentiment-project/sweeps/qita39jj</a>"
            ]
          },
          "metadata": {}
        },
        {
          "output_type": "display_data",
          "data": {
            "text/plain": [
              "<IPython.core.display.HTML object>"
            ],
            "text/html": [
              " View project at <a href='https://wandb.ai/jubacochran-booking-com/IMDB-sentiment-project' target=\"_blank\">https://wandb.ai/jubacochran-booking-com/IMDB-sentiment-project</a>"
            ]
          },
          "metadata": {}
        },
        {
          "output_type": "display_data",
          "data": {
            "text/plain": [
              "<IPython.core.display.HTML object>"
            ],
            "text/html": [
              " View sweep at <a href='https://wandb.ai/jubacochran-booking-com/IMDB-sentiment-project/sweeps/qita39jj' target=\"_blank\">https://wandb.ai/jubacochran-booking-com/IMDB-sentiment-project/sweeps/qita39jj</a>"
            ]
          },
          "metadata": {}
        },
        {
          "output_type": "display_data",
          "data": {
            "text/plain": [
              "<IPython.core.display.HTML object>"
            ],
            "text/html": [
              " View run at <a href='https://wandb.ai/jubacochran-booking-com/IMDB-sentiment-project/runs/zqsj5zbc' target=\"_blank\">https://wandb.ai/jubacochran-booking-com/IMDB-sentiment-project/runs/zqsj5zbc</a>"
            ]
          },
          "metadata": {}
        },
        {
          "output_type": "stream",
          "name": "stderr",
          "text": [
            "/usr/local/lib/python3.10/dist-packages/transformers/training_args.py:1568: FutureWarning: `evaluation_strategy` is deprecated and will be removed in version 4.46 of 🤗 Transformers. Use `eval_strategy` instead\n",
            "  warnings.warn(\n",
            "<ipython-input-44-ca50632647f1>:32: FutureWarning: `tokenizer` is deprecated and will be removed in version 5.0.0 for `Trainer.__init__`. Use `processing_class` instead.\n",
            "  trainer = Trainer(\n",
            "/usr/local/lib/python3.10/dist-packages/transformers/optimization.py:591: FutureWarning: This implementation of AdamW is deprecated and will be removed in a future version. Use the PyTorch implementation torch.optim.AdamW instead, or set `no_deprecation_warning=True` to disable this warning\n",
            "  warnings.warn(\n",
            "\u001b[34m\u001b[1mwandb\u001b[0m: \u001b[33mWARNING\u001b[0m Config item 'per_device_train_batch_size' was locked by 'sweep' (ignored update).\n",
            "\u001b[34m\u001b[1mwandb\u001b[0m: \u001b[33mWARNING\u001b[0m Config item 'per_device_eval_batch_size' was locked by 'sweep' (ignored update).\n",
            "\u001b[34m\u001b[1mwandb\u001b[0m: \u001b[33mWARNING\u001b[0m Config item 'learning_rate' was locked by 'sweep' (ignored update).\n",
            "\u001b[34m\u001b[1mwandb\u001b[0m: \u001b[33mWARNING\u001b[0m Config item 'num_train_epochs' was locked by 'sweep' (ignored update).\n"
          ]
        },
        {
          "output_type": "display_data",
          "data": {
            "text/plain": [
              "<IPython.core.display.HTML object>"
            ],
            "text/html": [
              "\n",
              "    <div>\n",
              "      \n",
              "      <progress value='6250' max='6250' style='width:300px; height:20px; vertical-align: middle;'></progress>\n",
              "      [6250/6250 1:04:41, Epoch 10/10]\n",
              "    </div>\n",
              "    <table border=\"1\" class=\"dataframe\">\n",
              "  <thead>\n",
              " <tr style=\"text-align: left;\">\n",
              "      <th>Epoch</th>\n",
              "      <th>Training Loss</th>\n",
              "      <th>Validation Loss</th>\n",
              "      <th>Accuracy</th>\n",
              "      <th>Precision</th>\n",
              "      <th>Recall</th>\n",
              "      <th>F1</th>\n",
              "    </tr>\n",
              "  </thead>\n",
              "  <tbody>\n",
              "    <tr>\n",
              "      <td>1</td>\n",
              "      <td>0.000000</td>\n",
              "      <td>1.571360</td>\n",
              "      <td>0.913200</td>\n",
              "      <td>0.913205</td>\n",
              "      <td>0.913200</td>\n",
              "      <td>0.913199</td>\n",
              "    </tr>\n",
              "    <tr>\n",
              "      <td>2</td>\n",
              "      <td>0.000000</td>\n",
              "      <td>1.596179</td>\n",
              "      <td>0.912800</td>\n",
              "      <td>0.912996</td>\n",
              "      <td>0.912800</td>\n",
              "      <td>0.912784</td>\n",
              "    </tr>\n",
              "    <tr>\n",
              "      <td>3</td>\n",
              "      <td>0.000000</td>\n",
              "      <td>1.591316</td>\n",
              "      <td>0.913200</td>\n",
              "      <td>0.913206</td>\n",
              "      <td>0.913200</td>\n",
              "      <td>0.913201</td>\n",
              "    </tr>\n",
              "    <tr>\n",
              "      <td>4</td>\n",
              "      <td>0.000000</td>\n",
              "      <td>1.588629</td>\n",
              "      <td>0.912000</td>\n",
              "      <td>0.912552</td>\n",
              "      <td>0.912000</td>\n",
              "      <td>0.911980</td>\n",
              "    </tr>\n",
              "    <tr>\n",
              "      <td>5</td>\n",
              "      <td>0.000000</td>\n",
              "      <td>1.593895</td>\n",
              "      <td>0.914400</td>\n",
              "      <td>0.914660</td>\n",
              "      <td>0.914400</td>\n",
              "      <td>0.914380</td>\n",
              "    </tr>\n",
              "    <tr>\n",
              "      <td>6</td>\n",
              "      <td>0.000000</td>\n",
              "      <td>1.593905</td>\n",
              "      <td>0.914000</td>\n",
              "      <td>0.914197</td>\n",
              "      <td>0.914000</td>\n",
              "      <td>0.913984</td>\n",
              "    </tr>\n",
              "    <tr>\n",
              "      <td>7</td>\n",
              "      <td>0.000000</td>\n",
              "      <td>1.596888</td>\n",
              "      <td>0.914200</td>\n",
              "      <td>0.914363</td>\n",
              "      <td>0.914200</td>\n",
              "      <td>0.914186</td>\n",
              "    </tr>\n",
              "    <tr>\n",
              "      <td>8</td>\n",
              "      <td>0.000000</td>\n",
              "      <td>1.581965</td>\n",
              "      <td>0.914200</td>\n",
              "      <td>0.914426</td>\n",
              "      <td>0.914200</td>\n",
              "      <td>0.914194</td>\n",
              "    </tr>\n",
              "    <tr>\n",
              "      <td>9</td>\n",
              "      <td>0.000000</td>\n",
              "      <td>1.575088</td>\n",
              "      <td>0.914600</td>\n",
              "      <td>0.914679</td>\n",
              "      <td>0.914600</td>\n",
              "      <td>0.914599</td>\n",
              "    </tr>\n",
              "    <tr>\n",
              "      <td>10</td>\n",
              "      <td>0.000000</td>\n",
              "      <td>1.575170</td>\n",
              "      <td>0.914800</td>\n",
              "      <td>0.914874</td>\n",
              "      <td>0.914800</td>\n",
              "      <td>0.914800</td>\n",
              "    </tr>\n",
              "  </tbody>\n",
              "</table><p>"
            ]
          },
          "metadata": {}
        },
        {
          "output_type": "display_data",
          "data": {
            "text/plain": [
              "<IPython.core.display.HTML object>"
            ],
            "text/html": []
          },
          "metadata": {}
        },
        {
          "output_type": "stream",
          "name": "stdout",
          "text": [
            "Validation Results: {'eval_loss': 1.5751700401306152, 'eval_accuracy': 0.9148, 'eval_precision': 0.9148740718078825, 'eval_recall': 0.9148, 'eval_f1': 0.9147995637757209, 'eval_runtime': 16.2317, 'eval_samples_per_second': 308.04, 'eval_steps_per_second': 9.672, 'epoch': 10.0}\n",
            "Test Results: {'test_loss': 1.5811516046524048, 'test_accuracy': 0.914, 'test_precision': 0.9140883374227622, 'test_recall': 0.914, 'test_f1': 0.9139967800729332, 'test_runtime': 16.1681, 'test_samples_per_second': 309.251, 'test_steps_per_second': 9.71}\n"
          ]
        },
        {
          "output_type": "display_data",
          "data": {
            "text/plain": [
              "<IPython.core.display.HTML object>"
            ],
            "text/html": [
              "\n",
              "    <style>\n",
              "        .wandb-row {\n",
              "            display: flex;\n",
              "            flex-direction: row;\n",
              "            flex-wrap: wrap;\n",
              "            justify-content: flex-start;\n",
              "            width: 100%;\n",
              "        }\n",
              "        .wandb-col {\n",
              "            display: flex;\n",
              "            flex-direction: column;\n",
              "            flex-basis: 100%;\n",
              "            flex: 1;\n",
              "            padding: 10px;\n",
              "        }\n",
              "    </style>\n",
              "<div class=\"wandb-row\"><div class=\"wandb-col\"><h3>Run history:</h3><br/><table class=\"wandb\"><tr><td>epoch</td><td>▁</td></tr><tr><td>eval/accuracy</td><td>▄▃▄▁▇▆▇▇███</td></tr><tr><td>eval/f1</td><td>▄▃▄▁▇▆▆▆███</td></tr><tr><td>eval/loss</td><td>▁█▆▆▇▇█▄▂▂▂</td></tr><tr><td>eval/precision</td><td>▃▂▃▁▇▆▆▇▇██</td></tr><tr><td>eval/recall</td><td>▄▃▄▁▇▆▇▇███</td></tr><tr><td>eval/runtime</td><td>▅▃▅▆▇▂▁▄▄██</td></tr><tr><td>eval/samples_per_second</td><td>▄▆▄▃▂▇█▅▅▁▁</td></tr><tr><td>eval/steps_per_second</td><td>▄▇▄▃▂▇█▅▅▁▁</td></tr><tr><td>eval_accuracy</td><td>▁</td></tr><tr><td>eval_f1</td><td>▁</td></tr><tr><td>eval_loss</td><td>▁</td></tr><tr><td>eval_precision</td><td>▁</td></tr><tr><td>eval_recall</td><td>▁</td></tr><tr><td>eval_runtime</td><td>▁</td></tr><tr><td>eval_samples_per_second</td><td>▁</td></tr><tr><td>eval_steps_per_second</td><td>▁</td></tr><tr><td>test/accuracy</td><td>▁</td></tr><tr><td>test/f1</td><td>▁</td></tr><tr><td>test/loss</td><td>▁</td></tr><tr><td>test/precision</td><td>▁</td></tr><tr><td>test/recall</td><td>▁</td></tr><tr><td>test/runtime</td><td>▁</td></tr><tr><td>test/samples_per_second</td><td>▁</td></tr><tr><td>test/steps_per_second</td><td>▁</td></tr><tr><td>test_accuracy</td><td>▁</td></tr><tr><td>test_f1</td><td>▁</td></tr><tr><td>train/epoch</td><td>▁▁▁▁▁▂▂▂▂▂▃▃▃▃▃▄▄▄▄▅▅▅▅▅▅▆▆▆▆▆▇▇▇▇▇▇▇███</td></tr><tr><td>train/global_step</td><td>▁▁▁▁▁▂▂▂▂▃▃▃▃▃▃▄▄▄▄▄▅▅▅▅▆▆▆▆▆▆▇▇▇▇▇█████</td></tr><tr><td>train/grad_norm</td><td>▁▁▁▁▁▁▁▁▁▁▁▁▁▁▁▁▁▁▁▁▁▁▁▁▁▁▁▁█▁▁▁▁▁▁▁▁▁▁▁</td></tr><tr><td>train/learning_rate</td><td>████▇▇▇▇▇▇▆▆▆▆▆▅▅▅▅▅▄▄▄▄▄▃▃▃▃▃▃▂▂▂▂▂▁▁▁▁</td></tr><tr><td>train/loss</td><td>▁▁▁▁▁▁▁▁▁▁▁▁▁▇▁▁▁▁▁▁▁▁▁▁▁▁▁▁█▁▁▁▆▁▁▁▁▁▁▁</td></tr></table><br/></div><div class=\"wandb-col\"><h3>Run summary:</h3><br/><table class=\"wandb\"><tr><td>epoch</td><td>10</td></tr><tr><td>eval/accuracy</td><td>0.9148</td></tr><tr><td>eval/f1</td><td>0.9148</td></tr><tr><td>eval/loss</td><td>1.57517</td></tr><tr><td>eval/precision</td><td>0.91487</td></tr><tr><td>eval/recall</td><td>0.9148</td></tr><tr><td>eval/runtime</td><td>16.2317</td></tr><tr><td>eval/samples_per_second</td><td>308.04</td></tr><tr><td>eval/steps_per_second</td><td>9.672</td></tr><tr><td>eval_accuracy</td><td>0.9148</td></tr><tr><td>eval_f1</td><td>0.9148</td></tr><tr><td>eval_loss</td><td>1.57517</td></tr><tr><td>eval_precision</td><td>0.91487</td></tr><tr><td>eval_recall</td><td>0.9148</td></tr><tr><td>eval_runtime</td><td>16.2317</td></tr><tr><td>eval_samples_per_second</td><td>308.04</td></tr><tr><td>eval_steps_per_second</td><td>9.672</td></tr><tr><td>test/accuracy</td><td>0.914</td></tr><tr><td>test/f1</td><td>0.914</td></tr><tr><td>test/loss</td><td>1.58115</td></tr><tr><td>test/precision</td><td>0.91409</td></tr><tr><td>test/recall</td><td>0.914</td></tr><tr><td>test/runtime</td><td>16.1681</td></tr><tr><td>test/samples_per_second</td><td>309.251</td></tr><tr><td>test/steps_per_second</td><td>9.71</td></tr><tr><td>test_accuracy</td><td>0.914</td></tr><tr><td>test_f1</td><td>0.914</td></tr><tr><td>total_flos</td><td>5.29869594624e+16</td></tr><tr><td>train/epoch</td><td>10</td></tr><tr><td>train/global_step</td><td>6250</td></tr><tr><td>train/grad_norm</td><td>0.0</td></tr><tr><td>train/learning_rate</td><td>0.0</td></tr><tr><td>train/loss</td><td>0</td></tr><tr><td>train_loss</td><td>6e-05</td></tr><tr><td>train_runtime</td><td>3882.2652</td></tr><tr><td>train_samples_per_second</td><td>103.033</td></tr><tr><td>train_steps_per_second</td><td>1.61</td></tr></table><br/></div></div>"
            ]
          },
          "metadata": {}
        },
        {
          "output_type": "display_data",
          "data": {
            "text/plain": [
              "<IPython.core.display.HTML object>"
            ],
            "text/html": [
              " View run <strong style=\"color:#cdcd00\">noble-sweep-10</strong> at: <a href='https://wandb.ai/jubacochran-booking-com/IMDB-sentiment-project/runs/zqsj5zbc' target=\"_blank\">https://wandb.ai/jubacochran-booking-com/IMDB-sentiment-project/runs/zqsj5zbc</a><br/> View project at: <a href='https://wandb.ai/jubacochran-booking-com/IMDB-sentiment-project' target=\"_blank\">https://wandb.ai/jubacochran-booking-com/IMDB-sentiment-project</a><br/>Synced 5 W&B file(s), 0 media file(s), 0 artifact file(s) and 0 other file(s)"
            ]
          },
          "metadata": {}
        },
        {
          "output_type": "display_data",
          "data": {
            "text/plain": [
              "<IPython.core.display.HTML object>"
            ],
            "text/html": [
              "Find logs at: <code>./wandb/run-20241213_120728-zqsj5zbc/logs</code>"
            ]
          },
          "metadata": {}
        }
      ]
    },
    {
      "cell_type": "code",
      "source": [
        "for name, parameters in model.named_parameters():\n",
        "  print(name, ':', parameters.size())\n"
      ],
      "metadata": {
        "colab": {
          "base_uri": "https://localhost:8080/"
        },
        "collapsed": true,
        "id": "cxHC9c3rzcp4",
        "outputId": "ec97d2dc-c39e-4e1c-95cc-b5b45252a30a"
      },
      "execution_count": null,
      "outputs": [
        {
          "output_type": "stream",
          "name": "stdout",
          "text": [
            "distilbert.embeddings.word_embeddings.weight : torch.Size([30522, 768])\n",
            "distilbert.embeddings.position_embeddings.weight : torch.Size([512, 768])\n",
            "distilbert.embeddings.LayerNorm.weight : torch.Size([768])\n",
            "distilbert.embeddings.LayerNorm.bias : torch.Size([768])\n",
            "distilbert.transformer.layer.0.attention.q_lin.weight : torch.Size([768, 768])\n",
            "distilbert.transformer.layer.0.attention.q_lin.bias : torch.Size([768])\n",
            "distilbert.transformer.layer.0.attention.k_lin.weight : torch.Size([768, 768])\n",
            "distilbert.transformer.layer.0.attention.k_lin.bias : torch.Size([768])\n",
            "distilbert.transformer.layer.0.attention.v_lin.weight : torch.Size([768, 768])\n",
            "distilbert.transformer.layer.0.attention.v_lin.bias : torch.Size([768])\n",
            "distilbert.transformer.layer.0.attention.out_lin.weight : torch.Size([768, 768])\n",
            "distilbert.transformer.layer.0.attention.out_lin.bias : torch.Size([768])\n",
            "distilbert.transformer.layer.0.sa_layer_norm.weight : torch.Size([768])\n",
            "distilbert.transformer.layer.0.sa_layer_norm.bias : torch.Size([768])\n",
            "distilbert.transformer.layer.0.ffn.lin1.weight : torch.Size([3072, 768])\n",
            "distilbert.transformer.layer.0.ffn.lin1.bias : torch.Size([3072])\n",
            "distilbert.transformer.layer.0.ffn.lin2.weight : torch.Size([768, 3072])\n",
            "distilbert.transformer.layer.0.ffn.lin2.bias : torch.Size([768])\n",
            "distilbert.transformer.layer.0.output_layer_norm.weight : torch.Size([768])\n",
            "distilbert.transformer.layer.0.output_layer_norm.bias : torch.Size([768])\n",
            "distilbert.transformer.layer.1.attention.q_lin.weight : torch.Size([768, 768])\n",
            "distilbert.transformer.layer.1.attention.q_lin.bias : torch.Size([768])\n",
            "distilbert.transformer.layer.1.attention.k_lin.weight : torch.Size([768, 768])\n",
            "distilbert.transformer.layer.1.attention.k_lin.bias : torch.Size([768])\n",
            "distilbert.transformer.layer.1.attention.v_lin.weight : torch.Size([768, 768])\n",
            "distilbert.transformer.layer.1.attention.v_lin.bias : torch.Size([768])\n",
            "distilbert.transformer.layer.1.attention.out_lin.weight : torch.Size([768, 768])\n",
            "distilbert.transformer.layer.1.attention.out_lin.bias : torch.Size([768])\n",
            "distilbert.transformer.layer.1.sa_layer_norm.weight : torch.Size([768])\n",
            "distilbert.transformer.layer.1.sa_layer_norm.bias : torch.Size([768])\n",
            "distilbert.transformer.layer.1.ffn.lin1.weight : torch.Size([3072, 768])\n",
            "distilbert.transformer.layer.1.ffn.lin1.bias : torch.Size([3072])\n",
            "distilbert.transformer.layer.1.ffn.lin2.weight : torch.Size([768, 3072])\n",
            "distilbert.transformer.layer.1.ffn.lin2.bias : torch.Size([768])\n",
            "distilbert.transformer.layer.1.output_layer_norm.weight : torch.Size([768])\n",
            "distilbert.transformer.layer.1.output_layer_norm.bias : torch.Size([768])\n",
            "distilbert.transformer.layer.2.attention.q_lin.weight : torch.Size([768, 768])\n",
            "distilbert.transformer.layer.2.attention.q_lin.bias : torch.Size([768])\n",
            "distilbert.transformer.layer.2.attention.k_lin.weight : torch.Size([768, 768])\n",
            "distilbert.transformer.layer.2.attention.k_lin.bias : torch.Size([768])\n",
            "distilbert.transformer.layer.2.attention.v_lin.weight : torch.Size([768, 768])\n",
            "distilbert.transformer.layer.2.attention.v_lin.bias : torch.Size([768])\n",
            "distilbert.transformer.layer.2.attention.out_lin.weight : torch.Size([768, 768])\n",
            "distilbert.transformer.layer.2.attention.out_lin.bias : torch.Size([768])\n",
            "distilbert.transformer.layer.2.sa_layer_norm.weight : torch.Size([768])\n",
            "distilbert.transformer.layer.2.sa_layer_norm.bias : torch.Size([768])\n",
            "distilbert.transformer.layer.2.ffn.lin1.weight : torch.Size([3072, 768])\n",
            "distilbert.transformer.layer.2.ffn.lin1.bias : torch.Size([3072])\n",
            "distilbert.transformer.layer.2.ffn.lin2.weight : torch.Size([768, 3072])\n",
            "distilbert.transformer.layer.2.ffn.lin2.bias : torch.Size([768])\n",
            "distilbert.transformer.layer.2.output_layer_norm.weight : torch.Size([768])\n",
            "distilbert.transformer.layer.2.output_layer_norm.bias : torch.Size([768])\n",
            "distilbert.transformer.layer.3.attention.q_lin.weight : torch.Size([768, 768])\n",
            "distilbert.transformer.layer.3.attention.q_lin.bias : torch.Size([768])\n",
            "distilbert.transformer.layer.3.attention.k_lin.weight : torch.Size([768, 768])\n",
            "distilbert.transformer.layer.3.attention.k_lin.bias : torch.Size([768])\n",
            "distilbert.transformer.layer.3.attention.v_lin.weight : torch.Size([768, 768])\n",
            "distilbert.transformer.layer.3.attention.v_lin.bias : torch.Size([768])\n",
            "distilbert.transformer.layer.3.attention.out_lin.weight : torch.Size([768, 768])\n",
            "distilbert.transformer.layer.3.attention.out_lin.bias : torch.Size([768])\n",
            "distilbert.transformer.layer.3.sa_layer_norm.weight : torch.Size([768])\n",
            "distilbert.transformer.layer.3.sa_layer_norm.bias : torch.Size([768])\n",
            "distilbert.transformer.layer.3.ffn.lin1.weight : torch.Size([3072, 768])\n",
            "distilbert.transformer.layer.3.ffn.lin1.bias : torch.Size([3072])\n",
            "distilbert.transformer.layer.3.ffn.lin2.weight : torch.Size([768, 3072])\n",
            "distilbert.transformer.layer.3.ffn.lin2.bias : torch.Size([768])\n",
            "distilbert.transformer.layer.3.output_layer_norm.weight : torch.Size([768])\n",
            "distilbert.transformer.layer.3.output_layer_norm.bias : torch.Size([768])\n",
            "distilbert.transformer.layer.4.attention.q_lin.weight : torch.Size([768, 768])\n",
            "distilbert.transformer.layer.4.attention.q_lin.bias : torch.Size([768])\n",
            "distilbert.transformer.layer.4.attention.k_lin.weight : torch.Size([768, 768])\n",
            "distilbert.transformer.layer.4.attention.k_lin.bias : torch.Size([768])\n",
            "distilbert.transformer.layer.4.attention.v_lin.weight : torch.Size([768, 768])\n",
            "distilbert.transformer.layer.4.attention.v_lin.bias : torch.Size([768])\n",
            "distilbert.transformer.layer.4.attention.out_lin.weight : torch.Size([768, 768])\n",
            "distilbert.transformer.layer.4.attention.out_lin.bias : torch.Size([768])\n",
            "distilbert.transformer.layer.4.sa_layer_norm.weight : torch.Size([768])\n",
            "distilbert.transformer.layer.4.sa_layer_norm.bias : torch.Size([768])\n",
            "distilbert.transformer.layer.4.ffn.lin1.weight : torch.Size([3072, 768])\n",
            "distilbert.transformer.layer.4.ffn.lin1.bias : torch.Size([3072])\n",
            "distilbert.transformer.layer.4.ffn.lin2.weight : torch.Size([768, 3072])\n",
            "distilbert.transformer.layer.4.ffn.lin2.bias : torch.Size([768])\n",
            "distilbert.transformer.layer.4.output_layer_norm.weight : torch.Size([768])\n",
            "distilbert.transformer.layer.4.output_layer_norm.bias : torch.Size([768])\n",
            "distilbert.transformer.layer.5.attention.q_lin.weight : torch.Size([768, 768])\n",
            "distilbert.transformer.layer.5.attention.q_lin.bias : torch.Size([768])\n",
            "distilbert.transformer.layer.5.attention.k_lin.weight : torch.Size([768, 768])\n",
            "distilbert.transformer.layer.5.attention.k_lin.bias : torch.Size([768])\n",
            "distilbert.transformer.layer.5.attention.v_lin.weight : torch.Size([768, 768])\n",
            "distilbert.transformer.layer.5.attention.v_lin.bias : torch.Size([768])\n",
            "distilbert.transformer.layer.5.attention.out_lin.weight : torch.Size([768, 768])\n",
            "distilbert.transformer.layer.5.attention.out_lin.bias : torch.Size([768])\n",
            "distilbert.transformer.layer.5.sa_layer_norm.weight : torch.Size([768])\n",
            "distilbert.transformer.layer.5.sa_layer_norm.bias : torch.Size([768])\n",
            "distilbert.transformer.layer.5.ffn.lin1.weight : torch.Size([3072, 768])\n",
            "distilbert.transformer.layer.5.ffn.lin1.bias : torch.Size([3072])\n",
            "distilbert.transformer.layer.5.ffn.lin2.weight : torch.Size([768, 3072])\n",
            "distilbert.transformer.layer.5.ffn.lin2.bias : torch.Size([768])\n",
            "distilbert.transformer.layer.5.output_layer_norm.weight : torch.Size([768])\n",
            "distilbert.transformer.layer.5.output_layer_norm.bias : torch.Size([768])\n",
            "pre_classifier.weight : torch.Size([768, 768])\n",
            "pre_classifier.bias : torch.Size([768])\n",
            "classifier.weight : torch.Size([2, 768])\n",
            "classifier.bias : torch.Size([2])\n"
          ]
        }
      ]
    }
  ]
}